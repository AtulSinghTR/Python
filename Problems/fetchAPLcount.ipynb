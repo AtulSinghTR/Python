{
 "cells": [
  {
   "cell_type": "code",
   "execution_count": 73,
   "metadata": {},
   "outputs": [],
   "source": [
    "import os\n",
    "import json"
   ]
  },
  {
   "cell_type": "code",
   "execution_count": 6,
   "metadata": {},
   "outputs": [
    {
     "data": {
      "text/plain": [
       "'.'"
      ]
     },
     "execution_count": 6,
     "metadata": {},
     "output_type": "execute_result"
    }
   ],
   "source": [
    "os.curdir"
   ]
  },
  {
   "cell_type": "code",
   "execution_count": 7,
   "metadata": {},
   "outputs": [
    {
     "data": {
      "text/plain": [
       "'D:\\\\Git'"
      ]
     },
     "execution_count": 7,
     "metadata": {},
     "output_type": "execute_result"
    }
   ],
   "source": [
    "os.getcwd()"
   ]
  },
  {
   "cell_type": "code",
   "execution_count": 8,
   "metadata": {},
   "outputs": [],
   "source": [
    "fh = open(\"Python/Problems/fetchAPLcount.txt\")"
   ]
  },
  {
   "cell_type": "code",
   "execution_count": 45,
   "metadata": {},
   "outputs": [
    {
     "name": "stdout",
     "output_type": "stream",
     "text": [
      "1053\n"
     ]
    },
    {
     "data": {
      "text/plain": [
       "0"
      ]
     },
     "execution_count": 45,
     "metadata": {},
     "output_type": "execute_result"
    }
   ],
   "source": [
    "datalist = list()\n",
    "data = dict()\n",
    "\n",
    "# read the file content\n",
    "file = fh.read().split(',')\n",
    "print(len(file))\n",
    "\n",
    "# looping through each element of file\n",
    "for ind in range(len(file)):\n",
    "    #data = dict(element)\n",
    "    #datalist=[value for key, value in data.items() if 'apl' in key.lower()]\n",
    "    #print(datalist)\n",
    "    #print(file[0])\n",
    "    pass\n",
    "\n",
    "fh.seek(0)"
   ]
  },
  {
   "cell_type": "code",
   "execution_count": 145,
   "metadata": {},
   "outputs": [
    {
     "name": "stdout",
     "output_type": "stream",
     "text": [
      "{'European Exercise': 8, 'Vanilla Option': 11, 'Derivatives': 14, 'EQ Option': 12, 'Equity': 13, 'Asian - Average Rate': 1, 'Vanilla Swap': 1, 'EQ Swap': 1, 'American Exercise': 1}\n"
     ]
    },
    {
     "data": {
      "text/plain": [
       "0"
      ]
     },
     "execution_count": 145,
     "metadata": {},
     "output_type": "execute_result"
    }
   ],
   "source": [
    "datadic = dict()\n",
    "\n",
    "lines = fh.readlines()\n",
    "for line in lines[1:-1]:  # removing first and last line which is [ and ]\n",
    "    line=line.rstrip(',\\n')  # removing last comma , and new line \\n\n",
    "    #print(line)\n",
    "    data = json.loads(line)\n",
    "    key = data.keys()\n",
    "    for word in [value for key, value in data.items() if 'apl' in key.lower()]:\n",
    "        if len(word) > 0:\n",
    "            datadic[word] = datadic.get(word, 0) + 1\n",
    "    \n",
    "    #print(datalist)\n",
    "print(datadic)    \n",
    "fh.seek(0)"
   ]
  },
  {
   "cell_type": "code",
   "execution_count": null,
   "metadata": {},
   "outputs": [],
   "source": []
  }
 ],
 "metadata": {
  "kernelspec": {
   "display_name": "Python 3",
   "language": "python",
   "name": "python3"
  },
  "language_info": {
   "codemirror_mode": {
    "name": "ipython",
    "version": 3
   },
   "file_extension": ".py",
   "mimetype": "text/x-python",
   "name": "python",
   "nbconvert_exporter": "python",
   "pygments_lexer": "ipython3",
   "version": "3.6.1"
  }
 },
 "nbformat": 4,
 "nbformat_minor": 2
}

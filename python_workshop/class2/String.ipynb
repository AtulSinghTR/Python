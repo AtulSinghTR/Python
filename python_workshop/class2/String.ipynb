{
 "cells": [
  {
   "cell_type": "markdown",
   "id": "ba3bf974-521e-4f87-80ae-40f48a018d22",
   "metadata": {},
   "source": [
    "## String #1"
   ]
  },
  {
   "cell_type": "code",
   "execution_count": 1,
   "id": "3aed8357-798e-4c78-9602-1ff621fe4a6d",
   "metadata": {},
   "outputs": [],
   "source": [
    "# Below all variables represents Strings\n",
    "\n",
    "pam = '2'\n",
    "sam = 'atul'\n",
    "cam = 'Adam'\n",
    "alp = 'This is me who is learning Python.'  \n",
    "bet = \"I'm trying to use single inverted comma (')\""
   ]
  },
  {
   "cell_type": "code",
   "execution_count": 2,
   "id": "e88c845c-6168-445e-9bbe-12b08980daa7",
   "metadata": {},
   "outputs": [
    {
     "data": {
      "text/plain": [
       "'2'"
      ]
     },
     "execution_count": 2,
     "metadata": {},
     "output_type": "execute_result"
    }
   ],
   "source": [
    "pam"
   ]
  },
  {
   "cell_type": "code",
   "execution_count": 3,
   "id": "f30f0b28-2d35-4f5c-bb12-ce715adf9f6f",
   "metadata": {},
   "outputs": [
    {
     "data": {
      "text/plain": [
       "'atul'"
      ]
     },
     "execution_count": 3,
     "metadata": {},
     "output_type": "execute_result"
    }
   ],
   "source": [
    "sam"
   ]
  },
  {
   "cell_type": "code",
   "execution_count": 4,
   "id": "64973716-d2e5-4420-bfc9-a97f125832b5",
   "metadata": {},
   "outputs": [
    {
     "data": {
      "text/plain": [
       "\"I'm trying to use single inverted comma (')\""
      ]
     },
     "execution_count": 4,
     "metadata": {},
     "output_type": "execute_result"
    }
   ],
   "source": [
    "bet"
   ]
  },
  {
   "cell_type": "code",
   "execution_count": 5,
   "id": "511ea95f-791d-4487-a33c-41ad219a6173",
   "metadata": {},
   "outputs": [
    {
     "data": {
      "text/plain": [
       "'This is me who is learning Python.'"
      ]
     },
     "execution_count": 5,
     "metadata": {},
     "output_type": "execute_result"
    }
   ],
   "source": [
    "alp"
   ]
  },
  {
   "cell_type": "markdown",
   "id": "c2e81d7c-cd8d-4190-a2d5-bdba3f62062c",
   "metadata": {},
   "source": [
    "### Type"
   ]
  },
  {
   "cell_type": "code",
   "execution_count": 6,
   "id": "5a37a26f-088d-4157-94c7-871b1a2cf3bc",
   "metadata": {},
   "outputs": [
    {
     "data": {
      "text/plain": [
       "str"
      ]
     },
     "execution_count": 6,
     "metadata": {},
     "output_type": "execute_result"
    }
   ],
   "source": [
    "type(pam)"
   ]
  },
  {
   "cell_type": "code",
   "execution_count": 7,
   "id": "186a2e7f-6b74-45fc-939f-1e7d507c2a8d",
   "metadata": {},
   "outputs": [
    {
     "data": {
      "text/plain": [
       "str"
      ]
     },
     "execution_count": 7,
     "metadata": {},
     "output_type": "execute_result"
    }
   ],
   "source": [
    "type(alp)"
   ]
  },
  {
   "cell_type": "markdown",
   "id": "80edfa55-10c0-49df-be59-84c00d436511",
   "metadata": {},
   "source": [
    "**Remember Quoted Numeric Value** is never equal to Numeric value, It is String."
   ]
  },
  {
   "cell_type": "code",
   "execution_count": 8,
   "id": "9f850375-6f8d-48ea-bd3e-0406945b55f3",
   "metadata": {},
   "outputs": [
    {
     "data": {
      "text/plain": [
       "False"
      ]
     },
     "execution_count": 8,
     "metadata": {},
     "output_type": "execute_result"
    }
   ],
   "source": [
    "'2' == 2   # False as String 2 is never equal to number 2"
   ]
  },
  {
   "cell_type": "code",
   "execution_count": 9,
   "id": "0faa9ba3-39ce-4365-b931-f89475b81998",
   "metadata": {},
   "outputs": [
    {
     "data": {
      "text/plain": [
       "False"
      ]
     },
     "execution_count": 9,
     "metadata": {},
     "output_type": "execute_result"
    }
   ],
   "source": [
    "'365' == 365 "
   ]
  },
  {
   "cell_type": "markdown",
   "id": "0995549a-f103-4538-a374-5eb8673c0ff9",
   "metadata": {},
   "source": [
    "### Type Conversion\n",
    "int, float, str function  \n",
    "\n",
    "#### int Function"
   ]
  },
  {
   "cell_type": "code",
   "execution_count": 10,
   "id": "78a1cae6-5476-4b0c-b4af-ca580544b117",
   "metadata": {},
   "outputs": [
    {
     "data": {
      "text/plain": [
       "324"
      ]
     },
     "execution_count": 10,
     "metadata": {},
     "output_type": "execute_result"
    }
   ],
   "source": [
    "int('324')  # String To Integer"
   ]
  },
  {
   "cell_type": "code",
   "execution_count": 11,
   "id": "d66c377e-f0fc-4b5b-b57f-64b8d9f8d577",
   "metadata": {},
   "outputs": [
    {
     "data": {
      "text/plain": [
       "True"
      ]
     },
     "execution_count": 11,
     "metadata": {},
     "output_type": "execute_result"
    }
   ],
   "source": [
    "int('211') == 211  # String To Integer, then Comparison"
   ]
  },
  {
   "cell_type": "code",
   "execution_count": 12,
   "id": "6a46466d-984d-43fd-992b-bb7a94bfb98e",
   "metadata": {},
   "outputs": [
    {
     "data": {
      "text/plain": [
       "3"
      ]
     },
     "execution_count": 12,
     "metadata": {},
     "output_type": "execute_result"
    }
   ],
   "source": [
    "int(3.4)    # Float to Integer"
   ]
  },
  {
   "cell_type": "markdown",
   "id": "fc0bc80b-a6b2-4e6a-bcbf-3dee077b0ec4",
   "metadata": {},
   "source": [
    "#### float Function"
   ]
  },
  {
   "cell_type": "code",
   "execution_count": 13,
   "id": "a50b571d-ad4f-421c-9d6f-c81e19f5e11a",
   "metadata": {},
   "outputs": [
    {
     "data": {
      "text/plain": [
       "2.3"
      ]
     },
     "execution_count": 13,
     "metadata": {},
     "output_type": "execute_result"
    }
   ],
   "source": [
    "float('2.3')"
   ]
  },
  {
   "cell_type": "code",
   "execution_count": 14,
   "id": "7a5b181e-1140-4f2a-ae98-e828d199bcff",
   "metadata": {},
   "outputs": [
    {
     "data": {
      "text/plain": [
       "2.0"
      ]
     },
     "execution_count": 14,
     "metadata": {},
     "output_type": "execute_result"
    }
   ],
   "source": [
    "float(2)"
   ]
  },
  {
   "cell_type": "markdown",
   "id": "9f775fd0-8eaf-482a-8bfd-06614a274857",
   "metadata": {},
   "source": [
    "#### str Function"
   ]
  },
  {
   "cell_type": "code",
   "execution_count": 15,
   "id": "3e1eafc7-c054-4c70-b373-85f6787bc0ad",
   "metadata": {},
   "outputs": [
    {
     "data": {
      "text/plain": [
       "'3'"
      ]
     },
     "execution_count": 15,
     "metadata": {},
     "output_type": "execute_result"
    }
   ],
   "source": [
    "str(3)"
   ]
  },
  {
   "cell_type": "code",
   "execution_count": 16,
   "id": "23450465-fe88-419e-b762-709c76a41ca3",
   "metadata": {},
   "outputs": [
    {
     "data": {
      "text/plain": [
       "'4.2'"
      ]
     },
     "execution_count": 16,
     "metadata": {},
     "output_type": "execute_result"
    }
   ],
   "source": [
    "str(4.2)"
   ]
  },
  {
   "cell_type": "markdown",
   "id": "04a06b5d-e43e-40ac-ae92-dfb04b3f0af5",
   "metadata": {},
   "source": [
    "### Multi-Line String (Use ''' or \"\"\" triple quote)"
   ]
  },
  {
   "cell_type": "code",
   "execution_count": 17,
   "id": "55609bfc-d72a-45a4-89d4-ce8459176ab2",
   "metadata": {},
   "outputs": [],
   "source": [
    "rhymes = '''Baa, baa, black sheep\n",
    "Have you any wool?\n",
    "Yes sir, yes sir\n",
    "Three bags full.\n",
    "One for my master\n",
    "And one for the dame\n",
    "One for the little boy\n",
    "Who lives down the lane.'''"
   ]
  },
  {
   "cell_type": "code",
   "execution_count": 18,
   "id": "2f91f8e6-e924-4f84-b2ff-8c958341ba01",
   "metadata": {},
   "outputs": [
    {
     "data": {
      "text/plain": [
       "'Baa, baa, black sheep\\nHave you any wool?\\nYes sir, yes sir\\nThree bags full.\\nOne for my master\\nAnd one for the dame\\nOne for the little boy\\nWho lives down the lane.'"
      ]
     },
     "execution_count": 18,
     "metadata": {},
     "output_type": "execute_result"
    }
   ],
   "source": [
    "rhymes   # \\n -> represents a new line"
   ]
  },
  {
   "cell_type": "code",
   "execution_count": 19,
   "id": "c2aa4fe8-55de-47bd-9f05-fed656bb65f1",
   "metadata": {},
   "outputs": [
    {
     "name": "stdout",
     "output_type": "stream",
     "text": [
      "Baa, baa, black sheep\n",
      "Have you any wool?\n",
      "Yes sir, yes sir\n",
      "Three bags full.\n",
      "One for my master\n",
      "And one for the dame\n",
      "One for the little boy\n",
      "Who lives down the lane.\n"
     ]
    }
   ],
   "source": [
    "print(rhymes)"
   ]
  },
  {
   "cell_type": "markdown",
   "id": "4fbc0d6f-5d26-41a6-a7d3-cb7040dc60bb",
   "metadata": {},
   "source": [
    "### Continue Lines with \\"
   ]
  },
  {
   "cell_type": "code",
   "execution_count": 20,
   "id": "88b3d887-53e3-4d5a-a443-83f4a4bcc518",
   "metadata": {},
   "outputs": [],
   "source": [
    "jim = \"One dollar and eighty-seven cents. That was all. And sixty cents of it was in pennies. Pennies saved one and two at a time by bulldozing the grocer and the vegetable man and the butcher until one's cheeks burned with the silent imputation of parsimony that such close dealing implied. Three times Della counted it. One dollar and eighty-seven cents. And the next day would be Christmas.\""
   ]
  },
  {
   "cell_type": "code",
   "execution_count": 21,
   "id": "6636aa42-5129-41cb-9387-652b984f9852",
   "metadata": {},
   "outputs": [
    {
     "name": "stdout",
     "output_type": "stream",
     "text": [
      "One dollar and eighty-seven cents. That was all. And sixty cents of it was in pennies. Pennies saved one and two at a time by bulldozing the grocer and the vegetable man and the butcher until one's cheeks burned with the silent imputation of parsimony that such close dealing implied. Three times Della counted it. One dollar and eighty-seven cents. And the next day would be Christmas.\n"
     ]
    }
   ],
   "source": [
    "print(jim)"
   ]
  },
  {
   "cell_type": "code",
   "execution_count": 22,
   "id": "ab08e538-cbed-45ff-9303-82b9b714caa4",
   "metadata": {},
   "outputs": [
    {
     "name": "stdout",
     "output_type": "stream",
     "text": [
      "One dollar and eighty-seven cents. That was all. And sixty cents of it was in pennies. Pennies saved one and two at a time by bulldozing the grocer and the vegetable man and the butcher until one's cheeks burned with the silent imputation of parsimony that such close dealing implied. Three times Della counted it. One dollar and eighty-seven cents. And the next day would be Christmas.\n"
     ]
    }
   ],
   "source": [
    "# Rather than using above method to define a longer string use \\ to break the line \n",
    "\n",
    "jim = \"One dollar and eighty-seven cents. That was all. And sixty cents of it was in pennies. \\\n",
    "Pennies saved one and two at a time by bulldozing the grocer and the vegetable man and the butcher \\\n",
    "until one's cheeks burned with the silent imputation of parsimony that such close dealing implied. \\\n",
    "Three times Della counted it. One dollar and eighty-seven cents. And the next day would be Christmas.\"\n",
    "\n",
    "print(jim)"
   ]
  },
  {
   "cell_type": "markdown",
   "id": "c7c68e35-e624-4ac1-a197-631b4271aabf",
   "metadata": {},
   "source": [
    "### Working with Quotes ( ' or \" )"
   ]
  },
  {
   "cell_type": "markdown",
   "id": "2c3c29a1-b973-4a63-8532-a527b657fd8c",
   "metadata": {},
   "source": [
    "**' and \"** - both are used to enclose the string in python.  \n",
    "But if String have any one of them as a character, Use other one to enclose the String. "
   ]
  },
  {
   "cell_type": "code",
   "execution_count": 23,
   "id": "ca5945c1-7256-4f56-a140-b43c69ebc875",
   "metadata": {},
   "outputs": [
    {
     "name": "stdout",
     "output_type": "stream",
     "text": [
      "Della asked, Don't you like me just as well, anyhow? I'm me without my hair, ain't I?\n"
     ]
    }
   ],
   "source": [
    "test_1 = \"Della asked, Don't you like me just as well, anyhow? I'm me without my hair, ain't I?\" \n",
    "\n",
    "print(test_1)  # As you can see String have ' (single quote) in it, so we have to enclose with \" "
   ]
  },
  {
   "cell_type": "markdown",
   "id": "8a2fcf8b-17d5-44bc-a91a-f278a0eddb0a",
   "metadata": {},
   "source": [
    "**But What if Both ' or \" is a part of String, How to represent that ???**   \n",
    "Then we have to use an Escape Character \\ to cancel the special meaning of one quote. \n",
    "\n",
    "Let's see how -   \n",
    "  \n",
    "**Sample Line** - *\"Dell,\" said he, \"let's put our Christmas presents away and keep 'em a while. They're too nice to use just at present.*"
   ]
  },
  {
   "cell_type": "code",
   "execution_count": 24,
   "id": "642fa3c3-0e53-41f6-8755-c110eb91af05",
   "metadata": {},
   "outputs": [
    {
     "name": "stdout",
     "output_type": "stream",
     "text": [
      "\"Dell,\" said he, \"let's put our Christmas presents away and keep 'em a while. They're too nice to use just at present.\n"
     ]
    }
   ],
   "source": [
    "# Let's see, if we decide to use ' as an enclosing quote, we have to cancel the ' meaning which are within string.  \n",
    "# So we will escape that by adding \\ just before the quote \n",
    "\n",
    "test_2 = '\"Dell,\" said he, \"let\\'s put our Christmas presents away and keep \\'em a while. They\\'re too nice to use just at present.'\n",
    "\n",
    "print(test_2)"
   ]
  },
  {
   "cell_type": "code",
   "execution_count": 25,
   "id": "d5a7a2fd-7930-478d-9713-6505bf11be22",
   "metadata": {},
   "outputs": [
    {
     "name": "stdout",
     "output_type": "stream",
     "text": [
      "\"Dell,\" said he, \"let's put our Christmas presents away and keep 'em a while. They're too nice to use just at present.'\n"
     ]
    }
   ],
   "source": [
    "# and if we go ahead with \" as an enclosing char \n",
    "\n",
    "test_3 = \"\\\"Dell,\\\" said he, \\\"let's put our Christmas presents away and keep 'em a while. They're too nice to use just at present.'\"\n",
    "\n",
    "print(test_3)"
   ]
  },
  {
   "cell_type": "markdown",
   "id": "a5ab8bc5-2644-41f6-b898-02d35e76819f",
   "metadata": {},
   "source": [
    "### Escape with \\  \n",
    "The Above Example we have seen - was Escaping the Quote Char with \\.  \n",
    "You can escape (cancel) any special meaning char with \\, even \\ too. "
   ]
  },
  {
   "cell_type": "code",
   "execution_count": 26,
   "id": "b6f47527-ab75-4218-bf4c-db48473131f2",
   "metadata": {},
   "outputs": [
    {
     "name": "stdout",
     "output_type": "stream",
     "text": [
      "This is an escape char \\\n"
     ]
    }
   ],
   "source": [
    "test_4 = 'This is an escape char \\\\'\n",
    "print(test_4)"
   ]
  },
  {
   "cell_type": "markdown",
   "id": "3dd1d823-1060-4487-9c34-05d9cbb34d86",
   "metadata": {},
   "source": [
    "There are 2 special meaning characters which are **\\n - new line** and **\\t - tab**.  \n",
    "Let's see, how to use them"
   ]
  },
  {
   "cell_type": "code",
   "execution_count": 27,
   "id": "beb276ed-1cd1-4e88-9b61-84170b182e1d",
   "metadata": {},
   "outputs": [
    {
     "name": "stdout",
     "output_type": "stream",
     "text": [
      "This is my first line\n",
      "and this is second\n"
     ]
    }
   ],
   "source": [
    "print(\"This is my first line\\nand this is second\")   # \\n will put a new line"
   ]
  },
  {
   "cell_type": "code",
   "execution_count": 28,
   "id": "79fd3bd8-f662-495d-93b3-5ee1224f8e50",
   "metadata": {},
   "outputs": [
    {
     "name": "stdout",
     "output_type": "stream",
     "text": [
      "This is my first word\tand this is second\n"
     ]
    }
   ],
   "source": [
    "print(\"This is my first word\\tand this is second\")   # \\t will add 4 spaces (tab)"
   ]
  },
  {
   "cell_type": "code",
   "execution_count": 29,
   "id": "1011fe15-a5f1-45c8-929c-e28cf3ca7b25",
   "metadata": {},
   "outputs": [
    {
     "name": "stdout",
     "output_type": "stream",
     "text": [
      "One\n",
      "\n",
      "\n",
      "\n",
      "\n",
      "Two\n"
     ]
    }
   ],
   "source": [
    "print(\"One\\n\\n\\n\\n\\nTwo\")"
   ]
  },
  {
   "cell_type": "code",
   "execution_count": 30,
   "id": "19cc07c3-d557-4cc4-8470-708a79d733b4",
   "metadata": {},
   "outputs": [
    {
     "name": "stdout",
     "output_type": "stream",
     "text": [
      "One\t\t\tTwo\n"
     ]
    }
   ],
   "source": [
    "print(\"One\\t\\t\\tTwo\")"
   ]
  },
  {
   "cell_type": "code",
   "execution_count": 31,
   "id": "2bbc2029-5970-424e-afd4-7ca2581b13c6",
   "metadata": {},
   "outputs": [
    {
     "name": "stdout",
     "output_type": "stream",
     "text": [
      "One\n",
      "\t\tTwo\n"
     ]
    }
   ],
   "source": [
    "print(\"One\\n\\t\\tTwo\")"
   ]
  },
  {
   "cell_type": "markdown",
   "id": "d1a8922b-a1a4-4266-baa7-4e82bb1bfb71",
   "metadata": {},
   "source": [
    "### Concatenation (Combine) with +"
   ]
  },
  {
   "cell_type": "code",
   "execution_count": 32,
   "id": "8ec60a80-b7f1-4b7f-8141-4de57a294e82",
   "metadata": {},
   "outputs": [],
   "source": [
    "word_1 = \"Hi\"\n",
    "word_2 = \"I'm Atul\"\n",
    "word_3 = 'How are you?'\n",
    "word_4 = 'I\\'m fine, What about you'"
   ]
  },
  {
   "cell_type": "code",
   "execution_count": 33,
   "id": "24a9b551-eba8-4b2b-9bef-1ddc5d313b54",
   "metadata": {},
   "outputs": [
    {
     "data": {
      "text/plain": [
       "\"HiI'm Atul\""
      ]
     },
     "execution_count": 33,
     "metadata": {},
     "output_type": "execute_result"
    }
   ],
   "source": [
    "word_1 + word_2           # + will combine the string "
   ]
  },
  {
   "cell_type": "code",
   "execution_count": 34,
   "id": "06435942-deb6-492a-bead-e6ee219ceb48",
   "metadata": {},
   "outputs": [
    {
     "data": {
      "text/plain": [
       "\"Hi I'm Atul\""
      ]
     },
     "execution_count": 34,
     "metadata": {},
     "output_type": "execute_result"
    }
   ],
   "source": [
    "# The above example is not readable, to make that, we need to add an extra space \n",
    "\n",
    "word_1 + ' ' + word_2"
   ]
  },
  {
   "cell_type": "code",
   "execution_count": 35,
   "id": "2944ee46-3b3e-4269-87db-5bd0a1829e10",
   "metadata": {},
   "outputs": [
    {
     "data": {
      "text/plain": [
       "\"Hi, I'm Atul\""
      ]
     },
     "execution_count": 35,
     "metadata": {},
     "output_type": "execute_result"
    }
   ],
   "source": [
    "# May be comma will be better :) \n",
    "word_1 + ', ' + word_2"
   ]
  },
  {
   "cell_type": "code",
   "execution_count": 36,
   "id": "a7104672-1012-4ebd-90aa-d5663e22ec0e",
   "metadata": {},
   "outputs": [
    {
     "data": {
      "text/plain": [
       "\"Hi, I'm Atul?\\nHow are you?\\nI'm fine, What about you?\""
      ]
     },
     "execution_count": 36,
     "metadata": {},
     "output_type": "execute_result"
    }
   ],
   "source": [
    "# Now, Let's add all 4 word.  \n",
    "\n",
    "word_1 + ', ' + word_2 +'?' + '\\n' + word_3 + '\\n' + word_4 + '?'   # \\n, \\t - will not translate to newline and tab without print function"
   ]
  },
  {
   "cell_type": "code",
   "execution_count": 37,
   "id": "3e13920c-6f18-43bc-bccf-ae9f7052064f",
   "metadata": {},
   "outputs": [
    {
     "name": "stdout",
     "output_type": "stream",
     "text": [
      "Hi, I'm Atul?\n",
      "How are you?\n",
      "I'm fine, What about you?\n"
     ]
    }
   ],
   "source": [
    "print(word_1 + ', ' + word_2 +'?' + '\\n' + word_3 + '\\n' + word_4 + '?')"
   ]
  },
  {
   "cell_type": "markdown",
   "id": "3001c4cf-995f-472e-8918-da4133167750",
   "metadata": {},
   "source": [
    "### Duplicate with *"
   ]
  },
  {
   "cell_type": "code",
   "execution_count": 38,
   "id": "46383629-01dc-47b6-8294-42e300cdc8ac",
   "metadata": {},
   "outputs": [
    {
     "name": "stdout",
     "output_type": "stream",
     "text": [
      "Hi!!!!!\n"
     ]
    }
   ],
   "source": [
    "sam_1 = 'Hi' + '!'*5\n",
    "print(sam_1)"
   ]
  },
  {
   "cell_type": "code",
   "execution_count": 39,
   "id": "7761ec37-3e23-4d8d-9955-6bea8edc93bb",
   "metadata": {},
   "outputs": [
    {
     "data": {
      "text/plain": [
       "'Bye!Bye!Bye!'"
      ]
     },
     "execution_count": 39,
     "metadata": {},
     "output_type": "execute_result"
    }
   ],
   "source": [
    "sam_2 = \"Bye!\" * 3\n",
    "sam_2"
   ]
  },
  {
   "cell_type": "code",
   "execution_count": 40,
   "id": "475eef5a-2651-4481-b835-1e6a456820e3",
   "metadata": {},
   "outputs": [
    {
     "data": {
      "text/plain": [
       "'PamCamCam'"
      ]
     },
     "execution_count": 40,
     "metadata": {},
     "output_type": "execute_result"
    }
   ],
   "source": [
    "sam_3 = \"Pam\" + \"Cam\" * 2\n",
    "sam_3"
   ]
  },
  {
   "cell_type": "code",
   "execution_count": 41,
   "id": "76b72f5f-3575-4e23-9561-ea6325678312",
   "metadata": {},
   "outputs": [
    {
     "data": {
      "text/plain": [
       "'PamCamPamCam'"
      ]
     },
     "execution_count": 41,
     "metadata": {},
     "output_type": "execute_result"
    }
   ],
   "source": [
    "sam_4 = (\"Pam\" + \"Cam\") * 2\n",
    "sam_4"
   ]
  },
  {
   "cell_type": "code",
   "execution_count": null,
   "id": "664d93ce-7110-429e-9380-90c7bd335262",
   "metadata": {},
   "outputs": [],
   "source": []
  }
 ],
 "metadata": {
  "kernelspec": {
   "display_name": "Python 3",
   "language": "python",
   "name": "python3"
  },
  "language_info": {
   "codemirror_mode": {
    "name": "ipython",
    "version": 3
   },
   "file_extension": ".py",
   "mimetype": "text/x-python",
   "name": "python",
   "nbconvert_exporter": "python",
   "pygments_lexer": "ipython3",
   "version": "3.8.6"
  }
 },
 "nbformat": 4,
 "nbformat_minor": 5
}

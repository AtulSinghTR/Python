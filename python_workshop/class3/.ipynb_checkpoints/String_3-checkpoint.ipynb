{
 "cells": [
  {
   "cell_type": "markdown",
   "id": "7b90e273-aa34-4ec2-a08b-ff3f68d638b0",
   "metadata": {},
   "source": [
    "## String #3"
   ]
  },
  {
   "cell_type": "markdown",
   "id": "27c920ac-cf78-4a21-a286-fe153869e574",
   "metadata": {},
   "source": [
    "### String Formatting "
   ]
  },
  {
   "cell_type": "code",
   "execution_count": 2,
   "id": "fe1b2046-5818-4239-8a8f-103c52449d44",
   "metadata": {},
   "outputs": [],
   "source": [
    "word_1 = 'Hi'\n",
    "word_2 = 'How are you'"
   ]
  },
  {
   "cell_type": "code",
   "execution_count": 3,
   "id": "b054973a-aa98-42b9-9e6d-b488f97a641f",
   "metadata": {},
   "outputs": [
    {
     "data": {
      "text/plain": [
       "'Hi, How are you?'"
      ]
     },
     "execution_count": 3,
     "metadata": {},
     "output_type": "execute_result"
    }
   ],
   "source": [
    "# Older Style \n",
    "\n",
    "word_1 + ', ' + word_2 +'?'"
   ]
  },
  {
   "cell_type": "code",
   "execution_count": 4,
   "id": "0570def0-785b-4e83-a6f8-209e8cd3bb16",
   "metadata": {},
   "outputs": [
    {
     "data": {
      "text/plain": [
       "'Hi, How are you?'"
      ]
     },
     "execution_count": 4,
     "metadata": {},
     "output_type": "execute_result"
    }
   ],
   "source": [
    "# New Style \n",
    "\n",
    "f'{word_1}, {word_2}?'"
   ]
  },
  {
   "cell_type": "code",
   "execution_count": 5,
   "id": "c234b297-61ed-4d43-b142-69bea8c96699",
   "metadata": {},
   "outputs": [
    {
     "data": {
      "text/plain": [
       "\"I'm 9 years old\""
      ]
     },
     "execution_count": 5,
     "metadata": {},
     "output_type": "execute_result"
    }
   ],
   "source": [
    "word_3 = \"I'm\"\n",
    "word_4 = 9 \n",
    "word_5 = \"years old\"\n",
    "\n",
    "# Older Way \n",
    "word_3 + ' ' + str(word_4) + ' ' + word_5"
   ]
  },
  {
   "cell_type": "code",
   "execution_count": 8,
   "id": "953d1df8-1253-4b65-8f64-3ab8b56ac020",
   "metadata": {},
   "outputs": [
    {
     "data": {
      "text/plain": [
       "\"I'm 9 years old\""
      ]
     },
     "execution_count": 8,
     "metadata": {},
     "output_type": "execute_result"
    }
   ],
   "source": [
    "# New Way \n",
    "f\"{word_3} {word_4} {word_5}\""
   ]
  },
  {
   "cell_type": "markdown",
   "id": "e017da5f-5ab2-4154-8918-be3382dc5955",
   "metadata": {},
   "source": [
    "### printing Numbers"
   ]
  },
  {
   "cell_type": "code",
   "execution_count": 9,
   "id": "35fafbe4-db6e-4f4d-9f8b-9f51a9524056",
   "metadata": {},
   "outputs": [],
   "source": [
    "lne = \"I have a 2000000 as a loan on 10.2% interest\""
   ]
  },
  {
   "cell_type": "code",
   "execution_count": 10,
   "id": "48699bf4-0527-42fa-b325-80a7b0af1813",
   "metadata": {},
   "outputs": [
    {
     "data": {
      "text/plain": [
       "'I have a 2000000 as a loan on 10.2% interest'"
      ]
     },
     "execution_count": 10,
     "metadata": {},
     "output_type": "execute_result"
    }
   ],
   "source": [
    "amt = 2000000\n",
    "intrate = 10.2 \n",
    "\n",
    "\n",
    "# Older Way \n",
    "\"I have a \" + str(amt) + ' as a loan on ' + str(intrate) + '% interest'"
   ]
  },
  {
   "cell_type": "code",
   "execution_count": 12,
   "id": "cb815bf6-108b-4933-b6e0-596faadd2e0f",
   "metadata": {},
   "outputs": [
    {
     "data": {
      "text/plain": [
       "'I have a 2000000.00 as a loan on 10.20% interest'"
      ]
     },
     "execution_count": 12,
     "metadata": {},
     "output_type": "execute_result"
    }
   ],
   "source": [
    "# New Way\n",
    "f\"I have a {amt:.2f} as a loan on {intrate:.2f}% interest\""
   ]
  },
  {
   "cell_type": "code",
   "execution_count": 13,
   "id": "a22ca85d-6970-4c5c-8b6e-380eb0bf1739",
   "metadata": {},
   "outputs": [
    {
     "data": {
      "text/plain": [
       "'I have a 2_000_000.00 as a loan on 10.20% interest'"
      ]
     },
     "execution_count": 13,
     "metadata": {},
     "output_type": "execute_result"
    }
   ],
   "source": [
    "f\"I have a {amt:_.2f} as a loan on {intrate:.2f}% interest\""
   ]
  },
  {
   "cell_type": "code",
   "execution_count": null,
   "id": "f748f04c-9145-4c6c-bfed-112f9ab8d1d4",
   "metadata": {},
   "outputs": [],
   "source": []
  }
 ],
 "metadata": {
  "kernelspec": {
   "display_name": "Python 3",
   "language": "python",
   "name": "python3"
  },
  "language_info": {
   "codemirror_mode": {
    "name": "ipython",
    "version": 3
   },
   "file_extension": ".py",
   "mimetype": "text/x-python",
   "name": "python",
   "nbconvert_exporter": "python",
   "pygments_lexer": "ipython3",
   "version": "3.9.5"
  }
 },
 "nbformat": 4,
 "nbformat_minor": 5
}

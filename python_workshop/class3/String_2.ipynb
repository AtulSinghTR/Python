{
 "cells": [
  {
   "cell_type": "markdown",
   "id": "29094464-540d-478a-a8fb-852a9011da4f",
   "metadata": {},
   "source": [
    "## String #2"
   ]
  },
  {
   "cell_type": "markdown",
   "id": "928d0bab-e171-4253-b595-32ec268c9c80",
   "metadata": {},
   "source": [
    "### Get a character with index(offset) []\n",
    "In String, Char index start from 0 to length(string)-1  "
   ]
  },
  {
   "cell_type": "code",
   "execution_count": 1,
   "id": "001f0ed6-a74a-4378-b443-05222781d9cd",
   "metadata": {},
   "outputs": [
    {
     "data": {
      "text/plain": [
       "'Everywhere they are wisest.'"
      ]
     },
     "execution_count": 1,
     "metadata": {},
     "output_type": "execute_result"
    }
   ],
   "source": [
    "sam = 'Everywhere they are wisest.'\n",
    "sam"
   ]
  },
  {
   "cell_type": "code",
   "execution_count": 2,
   "id": "e449f236-0f4e-4e20-9089-6ea5adaee20d",
   "metadata": {},
   "outputs": [
    {
     "data": {
      "text/plain": [
       "27"
      ]
     },
     "execution_count": 2,
     "metadata": {},
     "output_type": "execute_result"
    }
   ],
   "source": [
    "# Let's check the lenght first - via len(x) function \n",
    "\n",
    "len(sam)  # Returns No of character in String"
   ]
  },
  {
   "cell_type": "code",
   "execution_count": 3,
   "id": "e3419279-6ec0-4b51-a5b4-a5ae8c847e5e",
   "metadata": {},
   "outputs": [
    {
     "data": {
      "text/plain": [
       "16"
      ]
     },
     "execution_count": 3,
     "metadata": {},
     "output_type": "execute_result"
    }
   ],
   "source": [
    "pam = 'abcdefghijklmnop'\n",
    "\n",
    "len(pam)"
   ]
  },
  {
   "cell_type": "code",
   "execution_count": 4,
   "id": "ef500ec0-c20b-4cbb-bbab-a5914aa67728",
   "metadata": {},
   "outputs": [
    {
     "data": {
      "text/plain": [
       "'a'"
      ]
     },
     "execution_count": 4,
     "metadata": {},
     "output_type": "execute_result"
    }
   ],
   "source": [
    "# first char - \n",
    "pam[0]"
   ]
  },
  {
   "cell_type": "code",
   "execution_count": 5,
   "id": "8aaecc0b-4e22-425c-ad66-e5911d0c1a54",
   "metadata": {},
   "outputs": [
    {
     "data": {
      "text/plain": [
       "'b'"
      ]
     },
     "execution_count": 5,
     "metadata": {},
     "output_type": "execute_result"
    }
   ],
   "source": [
    "# second char \n",
    "pam[1]"
   ]
  },
  {
   "cell_type": "code",
   "execution_count": 6,
   "id": "45cffe98-494e-48e0-bf1e-ac3b8ac7e63f",
   "metadata": {},
   "outputs": [
    {
     "data": {
      "text/plain": [
       "'g'"
      ]
     },
     "execution_count": 6,
     "metadata": {},
     "output_type": "execute_result"
    }
   ],
   "source": [
    "# 7th char\n",
    "pam[6]"
   ]
  },
  {
   "cell_type": "code",
   "execution_count": 8,
   "id": "6ed8298f-b080-45ce-94e6-9468f006d96c",
   "metadata": {},
   "outputs": [
    {
     "ename": "IndexError",
     "evalue": "string index out of range",
     "output_type": "error",
     "traceback": [
      "\u001b[1;31m---------------------------------------------------------------------------\u001b[0m",
      "\u001b[1;31mIndexError\u001b[0m                                Traceback (most recent call last)",
      "\u001b[1;32m<ipython-input-8-47ac04e36ffc>\u001b[0m in \u001b[0;36m<module>\u001b[1;34m\u001b[0m\n\u001b[0;32m      1\u001b[0m \u001b[1;31m# if you define a index which is not valid, Python throws the err -\u001b[0m\u001b[1;33m\u001b[0m\u001b[1;33m\u001b[0m\u001b[1;33m\u001b[0m\u001b[0m\n\u001b[1;32m----> 2\u001b[1;33m \u001b[0mpam\u001b[0m\u001b[1;33m[\u001b[0m\u001b[1;36m16\u001b[0m\u001b[1;33m]\u001b[0m\u001b[1;33m\u001b[0m\u001b[1;33m\u001b[0m\u001b[0m\n\u001b[0m",
      "\u001b[1;31mIndexError\u001b[0m: string index out of range"
     ]
    }
   ],
   "source": [
    "# if you define a index which is not valid, Python throws the err - \n",
    "pam[16]"
   ]
  },
  {
   "cell_type": "markdown",
   "id": "e2eedb49-1f34-445a-bddf-f7dc4cc763ae",
   "metadata": {},
   "source": [
    "### Get SubString from a String (Slicing)  \n",
    "Slicing is done similar to charcter extraction via [] as above.  \n",
    "\n",
    "**[:]**  - Return whole string   \n",
    "**[start:]**  - Specifies from Start offset till End  \n",
    "**[:end]** - Specifies from Offset 0 till (end-1) offset  \n",
    "**[start:end]** - Specifies from Start offset till (end-1) offset  \n",
    "**[start:end:step]** - Specifies from *Start offset* till *(end-1) offset* skipping char by *step*  "
   ]
  },
  {
   "cell_type": "code",
   "execution_count": 9,
   "id": "0b542d5a-9746-453a-84e7-1c583ab8f1f1",
   "metadata": {},
   "outputs": [
    {
     "data": {
      "text/plain": [
       "'abcdefghijklmnopqrstuvwxyz'"
      ]
     },
     "execution_count": 9,
     "metadata": {},
     "output_type": "execute_result"
    }
   ],
   "source": [
    "sam = 'abcdefghijklmnopqrstuvwxyz'\n",
    "sam"
   ]
  },
  {
   "cell_type": "code",
   "execution_count": 10,
   "id": "d50f38fb-f0c3-416f-9b01-b8babcb07685",
   "metadata": {},
   "outputs": [
    {
     "data": {
      "text/plain": [
       "'abcdefghijklmnopqrstuvwxyz'"
      ]
     },
     "execution_count": 10,
     "metadata": {},
     "output_type": "execute_result"
    }
   ],
   "source": [
    "sam[:]"
   ]
  },
  {
   "cell_type": "code",
   "execution_count": 11,
   "id": "f23ca971-c8f1-4e1b-ae34-9b8d605313ac",
   "metadata": {},
   "outputs": [
    {
     "data": {
      "text/plain": [
       "'efghijklmnopqrstuvwxyz'"
      ]
     },
     "execution_count": 11,
     "metadata": {},
     "output_type": "execute_result"
    }
   ],
   "source": [
    "sam[4:]   # staring with index offset 4 which is 5th char"
   ]
  },
  {
   "cell_type": "code",
   "execution_count": 12,
   "id": "c70be3fa-c54a-4cf1-afd0-7284ce5762a0",
   "metadata": {},
   "outputs": [
    {
     "data": {
      "text/plain": [
       "'abcdefghijklmnopqrstu'"
      ]
     },
     "execution_count": 12,
     "metadata": {},
     "output_type": "execute_result"
    }
   ],
   "source": [
    "sam[:21]"
   ]
  },
  {
   "cell_type": "code",
   "execution_count": 13,
   "id": "162a2cd1-8e7d-43fa-9b08-0fbcc86d80d2",
   "metadata": {},
   "outputs": [
    {
     "data": {
      "text/plain": [
       "'cdefgh'"
      ]
     },
     "execution_count": 13,
     "metadata": {},
     "output_type": "execute_result"
    }
   ],
   "source": [
    "sam[2:8]"
   ]
  },
  {
   "cell_type": "code",
   "execution_count": 14,
   "id": "f78d03ad-a128-4899-a0ce-2c70dafe9048",
   "metadata": {},
   "outputs": [
    {
     "data": {
      "text/plain": [
       "'cf'"
      ]
     },
     "execution_count": 14,
     "metadata": {},
     "output_type": "execute_result"
    }
   ],
   "source": [
    "sam[2:8:3]  # index, 2, 5 (2+3) "
   ]
  },
  {
   "cell_type": "code",
   "execution_count": 15,
   "id": "6da5b057-1710-4ab7-bab9-be218f5ee7f4",
   "metadata": {},
   "outputs": [
    {
     "data": {
      "text/plain": [
       "'behk'"
      ]
     },
     "execution_count": 15,
     "metadata": {},
     "output_type": "execute_result"
    }
   ],
   "source": [
    "sam[1:12:3]  # index, 1, 4, 7, 10"
   ]
  },
  {
   "cell_type": "code",
   "execution_count": 16,
   "id": "39444b74-f38a-40b4-89c8-9624683d5a0d",
   "metadata": {},
   "outputs": [
    {
     "data": {
      "text/plain": [
       "'aeim'"
      ]
     },
     "execution_count": 16,
     "metadata": {},
     "output_type": "execute_result"
    }
   ],
   "source": [
    " sam[:15:4]  # index 0, 4, 8, 12"
   ]
  },
  {
   "cell_type": "markdown",
   "id": "8a98341a-e9b9-4a98-b2c0-2d7c2415705b",
   "metadata": {},
   "source": [
    "we can can substring from Negative Indexing as well. Index are follow as below - \n",
    "\n",
    "From Left to Right -->  **0 to len(str)-1**  \n",
    "From Right to Left --> **-1 to len(str)**  "
   ]
  },
  {
   "cell_type": "code",
   "execution_count": 17,
   "id": "50401ef8-8f09-49bb-93a8-0a0baa72bf34",
   "metadata": {},
   "outputs": [
    {
     "data": {
      "text/plain": [
       "26"
      ]
     },
     "execution_count": 17,
     "metadata": {},
     "output_type": "execute_result"
    }
   ],
   "source": [
    "# Length of sam \n",
    "len(sam)"
   ]
  },
  {
   "cell_type": "code",
   "execution_count": 18,
   "id": "332c6a9d-a7fc-4708-9300-e05e6abb0355",
   "metadata": {},
   "outputs": [
    {
     "data": {
      "text/plain": [
       "'z'"
      ]
     },
     "execution_count": 18,
     "metadata": {},
     "output_type": "execute_result"
    }
   ],
   "source": [
    "# print last char, Use index (left to right)\n",
    "sam[25]"
   ]
  },
  {
   "cell_type": "code",
   "execution_count": 19,
   "id": "86d9058f-c7de-4754-9ec6-9622bef419d0",
   "metadata": {},
   "outputs": [
    {
     "data": {
      "text/plain": [
       "'z'"
      ]
     },
     "execution_count": 19,
     "metadata": {},
     "output_type": "execute_result"
    }
   ],
   "source": [
    "# Using Reverse Indexing\n",
    "sam[-1]"
   ]
  },
  {
   "cell_type": "code",
   "execution_count": 21,
   "id": "1401d3dc-9d89-4c22-a2b5-99dbe74e1d2e",
   "metadata": {},
   "outputs": [
    {
     "data": {
      "text/plain": [
       "'wxyz'"
      ]
     },
     "execution_count": 21,
     "metadata": {},
     "output_type": "execute_result"
    }
   ],
   "source": [
    "# Let's say print last 4 char \n",
    "sam[-4:]   # Index start with -4 to end "
   ]
  },
  {
   "cell_type": "code",
   "execution_count": 22,
   "id": "de6de3bc-40c4-4636-9f5e-82aefb78f9f1",
   "metadata": {},
   "outputs": [
    {
     "data": {
      "text/plain": [
       "'aeimquy'"
      ]
     },
     "execution_count": 22,
     "metadata": {},
     "output_type": "execute_result"
    }
   ],
   "source": [
    "sam[::4] # index 0, 4, 8, 12, 16, 20, 24"
   ]
  },
  {
   "cell_type": "code",
   "execution_count": 23,
   "id": "1e82f91c-9a24-4620-a5d6-f0a97a6e5723",
   "metadata": {},
   "outputs": [
    {
     "data": {
      "text/plain": [
       "'mn'"
      ]
     },
     "execution_count": 23,
     "metadata": {},
     "output_type": "execute_result"
    }
   ],
   "source": [
    "sam[-14:-12]"
   ]
  },
  {
   "cell_type": "code",
   "execution_count": 25,
   "id": "5c59f1c0-0ac7-4649-a0b6-a83435c468dd",
   "metadata": {},
   "outputs": [
    {
     "data": {
      "text/plain": [
       "''"
      ]
     },
     "execution_count": 25,
     "metadata": {},
     "output_type": "execute_result"
    }
   ],
   "source": [
    "sam[-4:-12]    # this will print '' as substring always goes from left to right "
   ]
  },
  {
   "cell_type": "code",
   "execution_count": 26,
   "id": "f3dc281b-8d27-41e3-b1ea-36d7628bc45e",
   "metadata": {},
   "outputs": [
    {
     "data": {
      "text/plain": [
       "'cegikmoqsu'"
      ]
     },
     "execution_count": 26,
     "metadata": {},
     "output_type": "execute_result"
    }
   ],
   "source": [
    "sam[-24:-4:2]"
   ]
  },
  {
   "cell_type": "markdown",
   "id": "77f4b3fa-9ec6-4938-9e54-3b582658a3a7",
   "metadata": {},
   "source": [
    "### String Functions"
   ]
  },
  {
   "cell_type": "markdown",
   "id": "e6edb881-f52a-4aaa-8c85-68d278f53276",
   "metadata": {},
   "source": [
    "#### len(x)  \n",
    "Returns Length of String (No of character)  "
   ]
  },
  {
   "cell_type": "code",
   "execution_count": 30,
   "id": "4848b667-c8ca-4c9c-8219-d876106d1343",
   "metadata": {},
   "outputs": [
    {
     "name": "stdout",
     "output_type": "stream",
     "text": [
      "    THis is     A sAmPle LInE       \n"
     ]
    }
   ],
   "source": [
    "cam = '    THis is     A sAmPle LInE       '\n",
    "\n",
    "print(cam)"
   ]
  },
  {
   "cell_type": "code",
   "execution_count": 31,
   "id": "6fe0857d-3989-4136-a735-72511fc7cee3",
   "metadata": {},
   "outputs": [
    {
     "data": {
      "text/plain": [
       "36"
      ]
     },
     "execution_count": 31,
     "metadata": {},
     "output_type": "execute_result"
    }
   ],
   "source": [
    "len(cam)  # length count space char as well"
   ]
  },
  {
   "cell_type": "markdown",
   "id": "7ea7db5b-bfa6-4a59-b3b6-765f6714448a",
   "metadata": {},
   "source": [
    "### x.lower(x)  \n",
    "Lowercase the String"
   ]
  },
  {
   "cell_type": "code",
   "execution_count": 33,
   "id": "f8281c57-32e0-4732-b24f-ea56ff251fc5",
   "metadata": {},
   "outputs": [
    {
     "data": {
      "text/plain": [
       "'    this is     a sample line       '"
      ]
     },
     "execution_count": 33,
     "metadata": {},
     "output_type": "execute_result"
    }
   ],
   "source": [
    "cam.lower()"
   ]
  },
  {
   "cell_type": "markdown",
   "id": "568d74ae-d74f-4241-bd6e-371439836511",
   "metadata": {},
   "source": [
    "### x.upper()  \n",
    "Uppercase the String"
   ]
  },
  {
   "cell_type": "code",
   "execution_count": 35,
   "id": "9e619679-d93f-4372-9ba7-9a75639c2247",
   "metadata": {},
   "outputs": [
    {
     "data": {
      "text/plain": [
       "'    THIS IS     A SAMPLE LINE       '"
      ]
     },
     "execution_count": 35,
     "metadata": {},
     "output_type": "execute_result"
    }
   ],
   "source": [
    "cam.upper()"
   ]
  },
  {
   "cell_type": "markdown",
   "id": "f8ee1812-1304-41ae-9274-2181263b01eb",
   "metadata": {},
   "source": [
    "### x.capitalize()  \n",
    "Captilize the first char "
   ]
  },
  {
   "cell_type": "code",
   "execution_count": 39,
   "id": "3c45412b-61e1-44df-888a-7d36da1637dc",
   "metadata": {},
   "outputs": [
    {
     "data": {
      "text/plain": [
       "'How are you?'"
      ]
     },
     "execution_count": 39,
     "metadata": {},
     "output_type": "execute_result"
    }
   ],
   "source": [
    "egg = 'how are you?'\n",
    "\n",
    "egg.capitalize()"
   ]
  },
  {
   "cell_type": "markdown",
   "id": "814dfe56-2a7d-444d-acc9-799555d16c0d",
   "metadata": {},
   "source": [
    "### x.title()  \n",
    "Captilize the First Letter of all the words "
   ]
  },
  {
   "cell_type": "code",
   "execution_count": 53,
   "id": "e38f92a9-5978-445e-86f3-7a1d80532e05",
   "metadata": {},
   "outputs": [
    {
     "data": {
      "text/plain": [
       "'How Are You?'"
      ]
     },
     "execution_count": 53,
     "metadata": {},
     "output_type": "execute_result"
    }
   ],
   "source": [
    "egg.title()"
   ]
  },
  {
   "cell_type": "markdown",
   "id": "b2937167-2716-4e04-8254-65214c20d11f",
   "metadata": {},
   "source": [
    "### x.swapcase()  \n",
    "Reverse the case  "
   ]
  },
  {
   "cell_type": "code",
   "execution_count": 54,
   "id": "f13e7d7c-592a-49cc-9c75-ee4a227f841c",
   "metadata": {},
   "outputs": [
    {
     "name": "stdout",
     "output_type": "stream",
     "text": [
      "    THis is     A sAmPle LInE       \n",
      "    thIS IS     a SaMpLE liNe       \n"
     ]
    }
   ],
   "source": [
    "print(cam)\n",
    "\n",
    "print(cam.swapcase())"
   ]
  },
  {
   "cell_type": "markdown",
   "id": "f7ed195f-1a39-4163-b4fe-0c0b5bb67643",
   "metadata": {},
   "source": [
    "### x.lstrip()  \n",
    "Remove Extra Spaces from Left hand side of String"
   ]
  },
  {
   "cell_type": "code",
   "execution_count": 41,
   "id": "5d901b90-24e7-48a9-91ce-e7e94b1e8072",
   "metadata": {},
   "outputs": [
    {
     "data": {
      "text/plain": [
       "'THis is     A sAmPle LInE       '"
      ]
     },
     "execution_count": 41,
     "metadata": {},
     "output_type": "execute_result"
    }
   ],
   "source": [
    "cam.lstrip()"
   ]
  },
  {
   "cell_type": "markdown",
   "id": "545c7d15-17ae-4c99-8a91-981e22bf3550",
   "metadata": {},
   "source": [
    "### x.rstrip()\n",
    "Remove Extra Spaces from Right hand side of String"
   ]
  },
  {
   "cell_type": "code",
   "execution_count": 42,
   "id": "e1692547-f6b7-466b-b04a-9c2e4087c097",
   "metadata": {},
   "outputs": [
    {
     "data": {
      "text/plain": [
       "'    THis is     A sAmPle LInE'"
      ]
     },
     "execution_count": 42,
     "metadata": {},
     "output_type": "execute_result"
    }
   ],
   "source": [
    "cam.rstrip()"
   ]
  },
  {
   "cell_type": "markdown",
   "id": "8ee86416-7add-48dd-b41d-f20b7a629500",
   "metadata": {},
   "source": [
    "### x.strip()\n",
    "Remove Extra Spaces from Both side of String"
   ]
  },
  {
   "cell_type": "code",
   "execution_count": 43,
   "id": "c4784356-2a30-46b3-95b7-00634c7f8b42",
   "metadata": {},
   "outputs": [
    {
     "data": {
      "text/plain": [
       "'THis is     A sAmPle LInE'"
      ]
     },
     "execution_count": 43,
     "metadata": {},
     "output_type": "execute_result"
    }
   ],
   "source": [
    "cam.strip() "
   ]
  },
  {
   "cell_type": "markdown",
   "id": "87cef68a-44be-4e0c-b9a2-a9ae704d205a",
   "metadata": {},
   "source": [
    "If you do not pass any input in strip/lstrip/rstrip function, It will remove space.  \n",
    "Else *remove the passed character/s*"
   ]
  },
  {
   "cell_type": "code",
   "execution_count": 44,
   "id": "b1956576-d864-4e65-bcf5-ae4e2e624851",
   "metadata": {},
   "outputs": [
    {
     "data": {
      "text/plain": [
       "'Hi, Where do you live'"
      ]
     },
     "execution_count": 44,
     "metadata": {},
     "output_type": "execute_result"
    }
   ],
   "source": [
    "ques = 'Hi, Where do you live?'\n",
    "\n",
    "ques.rstrip('?')"
   ]
  },
  {
   "cell_type": "code",
   "execution_count": 46,
   "id": "ef7f096e-eeee-4f30-8fcd-dcbf2c03dc7d",
   "metadata": {},
   "outputs": [
    {
     "data": {
      "text/plain": [
       "'What the....!!!'"
      ]
     },
     "execution_count": 46,
     "metadata": {},
     "output_type": "execute_result"
    }
   ],
   "source": [
    "blurt = 'What the....!!!???'\n",
    "\n",
    "blurt.rstrip('?')"
   ]
  },
  {
   "cell_type": "code",
   "execution_count": 47,
   "id": "0d1f15a7-a885-41f5-a556-76bbab7c46c5",
   "metadata": {},
   "outputs": [
    {
     "data": {
      "text/plain": [
       "'What the....'"
      ]
     },
     "execution_count": 47,
     "metadata": {},
     "output_type": "execute_result"
    }
   ],
   "source": [
    "blurt.rstrip('!?')"
   ]
  },
  {
   "cell_type": "code",
   "execution_count": 48,
   "id": "3a629f66-1229-48f9-88ee-f9d845add636",
   "metadata": {},
   "outputs": [
    {
     "data": {
      "text/plain": [
       "'What the....'"
      ]
     },
     "execution_count": 48,
     "metadata": {},
     "output_type": "execute_result"
    }
   ],
   "source": [
    "blurt.rstrip('?!')"
   ]
  },
  {
   "cell_type": "markdown",
   "id": "d778c4b3-ff3f-4d7f-bcf2-a96e171c5eb9",
   "metadata": {},
   "source": [
    "### x.split(i)\n",
    "Split String x by i"
   ]
  },
  {
   "cell_type": "code",
   "execution_count": 49,
   "id": "879e9751-0fd8-4150-b958-1ee35c8ea9ea",
   "metadata": {},
   "outputs": [
    {
     "data": {
      "text/plain": [
       "'go to school,attend classes,have lunch,study again,come home'"
      ]
     },
     "execution_count": 49,
     "metadata": {},
     "output_type": "execute_result"
    }
   ],
   "source": [
    "tasks = 'go to school,attend classes,have lunch,study again,come home'\n",
    "\n",
    "tasks"
   ]
  },
  {
   "cell_type": "code",
   "execution_count": 50,
   "id": "23f2db00-13e9-4be0-b34b-1e10f246d8cc",
   "metadata": {},
   "outputs": [
    {
     "data": {
      "text/plain": [
       "['go to school', 'attend classes', 'have lunch', 'study again', 'come home']"
      ]
     },
     "execution_count": 50,
     "metadata": {},
     "output_type": "execute_result"
    }
   ],
   "source": [
    "tasks.split(',')"
   ]
  },
  {
   "cell_type": "code",
   "execution_count": 52,
   "id": "098efea7-4811-4948-8b8b-7c9e9c95cc57",
   "metadata": {},
   "outputs": [
    {
     "data": {
      "text/plain": [
       "['go',\n",
       " 'to',\n",
       " 'school,attend',\n",
       " 'classes,have',\n",
       " 'lunch,study',\n",
       " 'again,come',\n",
       " 'home']"
      ]
     },
     "execution_count": 52,
     "metadata": {},
     "output_type": "execute_result"
    }
   ],
   "source": [
    "tasks.split()  # default split with space"
   ]
  },
  {
   "cell_type": "markdown",
   "id": "7f09f657-7add-4013-b9f9-224150b0cc8e",
   "metadata": {},
   "source": [
    "### x.replace(old_str, new_str)  \n",
    "Replace old string to new string"
   ]
  },
  {
   "cell_type": "code",
   "execution_count": 55,
   "id": "613cb446-ab09-42b2-aff2-409b1b0fa55d",
   "metadata": {},
   "outputs": [
    {
     "name": "stdout",
     "output_type": "stream",
     "text": [
      "Once upon a time, there was a bear\n"
     ]
    }
   ],
   "source": [
    "story = 'Once upon a time, there was a bear'\n",
    "\n",
    "print(story)"
   ]
  },
  {
   "cell_type": "code",
   "execution_count": 56,
   "id": "a13b799e-7ab1-4385-8036-f916bb458a4a",
   "metadata": {},
   "outputs": [
    {
     "data": {
      "text/plain": [
       "'Once upon a time, there was a snake'"
      ]
     },
     "execution_count": 56,
     "metadata": {},
     "output_type": "execute_result"
    }
   ],
   "source": [
    "story.replace('bear', 'snake')"
   ]
  },
  {
   "cell_type": "code",
   "execution_count": 57,
   "id": "673b76be-44e8-4892-81eb-928bf8e885c0",
   "metadata": {},
   "outputs": [
    {
     "data": {
      "text/plain": [
       "'Once upon ------ time, there w------s ------ be------r'"
      ]
     },
     "execution_count": 57,
     "metadata": {},
     "output_type": "execute_result"
    }
   ],
   "source": [
    "story.replace('a', '------')"
   ]
  },
  {
   "cell_type": "markdown",
   "id": "04ca70b8-ac24-408e-8c9d-ce2c96daff72",
   "metadata": {},
   "source": [
    "## Search & Select"
   ]
  },
  {
   "cell_type": "code",
   "execution_count": 59,
   "id": "ccc47599-f6c3-4ab0-8746-ba69d65f1605",
   "metadata": {},
   "outputs": [
    {
     "name": "stdout",
     "output_type": "stream",
     "text": [
      "Baa, baa, black sheep\n",
      "Have you any wool?\n",
      "Yes sir, yes sir\n",
      "Three bags full.\n",
      "One for my master\n",
      "And one for the dame\n",
      "One for the little boy\n",
      "Who lives down the lane.\n"
     ]
    }
   ],
   "source": [
    "rhymes = '''Baa, baa, black sheep\n",
    "Have you any wool?\n",
    "Yes sir, yes sir\n",
    "Three bags full.\n",
    "One for my master\n",
    "And one for the dame\n",
    "One for the little boy\n",
    "Who lives down the lane.'''\n",
    "\n",
    "print(rhymes)"
   ]
  },
  {
   "cell_type": "code",
   "execution_count": 60,
   "id": "8649fe42-816e-45e1-94b3-194defd954d2",
   "metadata": {},
   "outputs": [
    {
     "data": {
      "text/plain": [
       "161"
      ]
     },
     "execution_count": 60,
     "metadata": {},
     "output_type": "execute_result"
    }
   ],
   "source": [
    "len(rhymes)"
   ]
  },
  {
   "cell_type": "markdown",
   "id": "eeaeee4a-c9ad-43e5-8fdd-a64ce1145495",
   "metadata": {},
   "source": [
    "### x.startswith(i)  \n",
    "Return True If String x start with i, Else False"
   ]
  },
  {
   "cell_type": "code",
   "execution_count": 61,
   "id": "ed70bcad-78a7-4e9e-ac71-c55e5a8b16cf",
   "metadata": {},
   "outputs": [
    {
     "data": {
      "text/plain": [
       "False"
      ]
     },
     "execution_count": 61,
     "metadata": {},
     "output_type": "execute_result"
    }
   ],
   "source": [
    "# to check if line starts with 'One' \n",
    "\n",
    "rhymes.startswith('One')  # Remember, Though, we are seeing few lines are starting with One due to \\n char which is a part of string"
   ]
  },
  {
   "cell_type": "code",
   "execution_count": 62,
   "id": "61094252-98bc-4317-85f9-6653ffbaf498",
   "metadata": {},
   "outputs": [
    {
     "data": {
      "text/plain": [
       "True"
      ]
     },
     "execution_count": 62,
     "metadata": {},
     "output_type": "execute_result"
    }
   ],
   "source": [
    "rhymes.startswith('Baa')"
   ]
  },
  {
   "cell_type": "code",
   "execution_count": 63,
   "id": "06dada5b-202b-42fe-bfa9-84904f6275c6",
   "metadata": {},
   "outputs": [
    {
     "data": {
      "text/plain": [
       "True"
      ]
     },
     "execution_count": 63,
     "metadata": {},
     "output_type": "execute_result"
    }
   ],
   "source": [
    "rhymes.startswith('Baa, baa')"
   ]
  },
  {
   "cell_type": "code",
   "execution_count": 64,
   "id": "9f236634-f736-40cb-8306-fd1e463106e3",
   "metadata": {},
   "outputs": [
    {
     "data": {
      "text/plain": [
       "False"
      ]
     },
     "execution_count": 64,
     "metadata": {},
     "output_type": "execute_result"
    }
   ],
   "source": [
    "rhymes.startswith('Baa, black')"
   ]
  },
  {
   "cell_type": "markdown",
   "id": "5d718a8b-2b89-4c61-befe-13d57e5c7a04",
   "metadata": {},
   "source": [
    "### x.endswith(i)  \n",
    "Return True If String x end with i, Else False"
   ]
  },
  {
   "cell_type": "code",
   "execution_count": 65,
   "id": "888a94cb-59b7-43f4-bdbf-0bf98daa072b",
   "metadata": {},
   "outputs": [
    {
     "data": {
      "text/plain": [
       "True"
      ]
     },
     "execution_count": 65,
     "metadata": {},
     "output_type": "execute_result"
    }
   ],
   "source": [
    "rhymes.endswith('lane.')"
   ]
  },
  {
   "cell_type": "code",
   "execution_count": 66,
   "id": "9e4df469-c0f2-498b-ba49-3deee760d0ea",
   "metadata": {},
   "outputs": [
    {
     "data": {
      "text/plain": [
       "False"
      ]
     },
     "execution_count": 66,
     "metadata": {},
     "output_type": "execute_result"
    }
   ],
   "source": [
    "rhymes.endswith('lane')"
   ]
  },
  {
   "cell_type": "markdown",
   "id": "753be30d-abc1-4e62-8cb7-d7a34191c8e7",
   "metadata": {},
   "source": [
    "### x.count(i)  \n",
    "Count no of i in String x\n"
   ]
  },
  {
   "cell_type": "code",
   "execution_count": 67,
   "id": "a8c19acf-4000-4d6c-8ecb-4db5dbe66962",
   "metadata": {},
   "outputs": [
    {
     "data": {
      "text/plain": [
       "2"
      ]
     },
     "execution_count": 67,
     "metadata": {},
     "output_type": "execute_result"
    }
   ],
   "source": [
    "rhymes.count('One')"
   ]
  },
  {
   "cell_type": "code",
   "execution_count": 68,
   "id": "3c442eab-3bf5-42ba-a82d-594ee67619b5",
   "metadata": {},
   "outputs": [
    {
     "data": {
      "text/plain": [
       "3"
      ]
     },
     "execution_count": 68,
     "metadata": {},
     "output_type": "execute_result"
    }
   ],
   "source": [
    "rhymes.count('the')"
   ]
  },
  {
   "cell_type": "code",
   "execution_count": 69,
   "id": "1909914d-cfcf-477a-9021-ffc77a612db0",
   "metadata": {},
   "outputs": [
    {
     "data": {
      "text/plain": [
       "11"
      ]
     },
     "execution_count": 69,
     "metadata": {},
     "output_type": "execute_result"
    }
   ],
   "source": [
    "rhymes.count('a')"
   ]
  },
  {
   "cell_type": "markdown",
   "id": "5e26e803-6359-4888-a7d5-4f23531da98f",
   "metadata": {},
   "source": [
    "### Check Existance  -- \"in\" and \"not in\"\n",
    "Using *in* and *not in* operator"
   ]
  },
  {
   "cell_type": "code",
   "execution_count": 70,
   "id": "20305283-74b7-4e37-811b-96526fb4bd7e",
   "metadata": {},
   "outputs": [
    {
     "data": {
      "text/plain": [
       "True"
      ]
     },
     "execution_count": 70,
     "metadata": {},
     "output_type": "execute_result"
    }
   ],
   "source": [
    "'One' in rhymes"
   ]
  },
  {
   "cell_type": "code",
   "execution_count": 71,
   "id": "ad3e3aa6-e6c4-4932-991f-cd13e8abb425",
   "metadata": {},
   "outputs": [
    {
     "data": {
      "text/plain": [
       "True"
      ]
     },
     "execution_count": 71,
     "metadata": {},
     "output_type": "execute_result"
    }
   ],
   "source": [
    "'my' in rhymes"
   ]
  },
  {
   "cell_type": "code",
   "execution_count": 72,
   "id": "250776f0-3ef6-4b8a-8130-7c79243e7239",
   "metadata": {},
   "outputs": [
    {
     "data": {
      "text/plain": [
       "False"
      ]
     },
     "execution_count": 72,
     "metadata": {},
     "output_type": "execute_result"
    }
   ],
   "source": [
    "'atul' in rhymes"
   ]
  },
  {
   "cell_type": "code",
   "execution_count": 73,
   "id": "dd888761-0966-4129-9ecd-7ce27f50f60c",
   "metadata": {},
   "outputs": [
    {
     "data": {
      "text/plain": [
       "False"
      ]
     },
     "execution_count": 73,
     "metadata": {},
     "output_type": "execute_result"
    }
   ],
   "source": [
    "'Who' not in rhymes"
   ]
  },
  {
   "cell_type": "code",
   "execution_count": 74,
   "id": "6414ba0a-6966-4150-ae3c-27af26c5b721",
   "metadata": {},
   "outputs": [
    {
     "data": {
      "text/plain": [
       "True"
      ]
     },
     "execution_count": 74,
     "metadata": {},
     "output_type": "execute_result"
    }
   ],
   "source": [
    "'adam' not in rhymes"
   ]
  },
  {
   "cell_type": "markdown",
   "id": "17e3dcc7-2330-4628-b3fe-6e494b5efb69",
   "metadata": {},
   "source": [
    "### Search via find func"
   ]
  },
  {
   "cell_type": "code",
   "execution_count": 75,
   "id": "f4ee41ab-abb5-4faf-bdb7-8aafb3633fa3",
   "metadata": {},
   "outputs": [
    {
     "data": {
      "text/plain": [
       "75"
      ]
     },
     "execution_count": 75,
     "metadata": {},
     "output_type": "execute_result"
    }
   ],
   "source": [
    "rhymes.find('One')  # Return the Index"
   ]
  },
  {
   "cell_type": "code",
   "execution_count": 78,
   "id": "a05f7426-9085-4521-9af6-d6aa4aee11ef",
   "metadata": {},
   "outputs": [
    {
     "data": {
      "text/plain": [
       "114"
      ]
     },
     "execution_count": 78,
     "metadata": {},
     "output_type": "execute_result"
    }
   ],
   "source": [
    "rhymes.find('One', 76)  "
   ]
  },
  {
   "cell_type": "code",
   "execution_count": 79,
   "id": "0aa7843f-854e-4d2a-a695-72c3e304c634",
   "metadata": {},
   "outputs": [
    {
     "data": {
      "text/plain": [
       "-1"
      ]
     },
     "execution_count": 79,
     "metadata": {},
     "output_type": "execute_result"
    }
   ],
   "source": [
    "rhymes.find('One', 115)  "
   ]
  },
  {
   "cell_type": "markdown",
   "id": "e3c700b5-d6f9-4c58-8254-529b8ccc41c7",
   "metadata": {},
   "source": []
  }
 ],
 "metadata": {
  "kernelspec": {
   "display_name": "Python 3",
   "language": "python",
   "name": "python3"
  },
  "language_info": {
   "codemirror_mode": {
    "name": "ipython",
    "version": 3
   },
   "file_extension": ".py",
   "mimetype": "text/x-python",
   "name": "python",
   "nbconvert_exporter": "python",
   "pygments_lexer": "ipython3",
   "version": "3.9.5"
  }
 },
 "nbformat": 4,
 "nbformat_minor": 5
}

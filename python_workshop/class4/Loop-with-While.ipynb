{
 "cells": [
  {
   "cell_type": "markdown",
   "id": "f844230b-7ddf-439f-ae07-dcb0192eec2d",
   "metadata": {},
   "source": [
    "## Loop with While   \n",
    "\n",
    "Every loop must need these 3 things one way or other to limit its execution  \n",
    "initialization, check, next level\n",
    "\n",
    "**REMEMBER** there is no {} or () to bind the code as we do in C or C++  \n",
    "In python indent is necessary to achieve the same"
   ]
  },
  {
   "cell_type": "markdown",
   "id": "d31d9b78-6a38-4530-a530-08cc47dfeb86",
   "metadata": {},
   "source": [
    "### Repeat with While  \n",
    "\n",
    "While loops are called “indefinite loops” because they keep going until a logical condition becomes False"
   ]
  },
  {
   "cell_type": "code",
   "execution_count": 4,
   "id": "c85c1ffb-4813-4845-bcb8-440413426628",
   "metadata": {},
   "outputs": [
    {
     "name": "stdout",
     "output_type": "stream",
     "text": [
      "I am in while block with count: 1\n",
      "I am in while block with count: 2\n",
      "I am in while block with count: 3\n",
      "I am in while block with count: 4\n"
     ]
    }
   ],
   "source": [
    "count = 1\n",
    "\n",
    "while count < 5:   # it will run the while block until the condition is False\n",
    "    print(f\"I am in while block with count: {count}\")\n",
    "    count = count + 1"
   ]
  },
  {
   "cell_type": "code",
   "execution_count": 5,
   "id": "d6f0b792-b0b6-44c8-a804-af0786ee2ca6",
   "metadata": {},
   "outputs": [
    {
     "name": "stdout",
     "output_type": "stream",
     "text": [
      "9\n",
      "8\n",
      "7\n",
      "6\n",
      "5\n",
      "4\n",
      "3\n",
      "2\n",
      "1\n"
     ]
    }
   ],
   "source": [
    "# Print all numbers less then given\n",
    "\n",
    "no = 9 \n",
    "\n",
    "while no > 0:\n",
    "    print(f\"{no}\")\n",
    "    no = no - 1 "
   ]
  },
  {
   "cell_type": "markdown",
   "id": "eff5b544-809f-439c-bed2-12732a1d635c",
   "metadata": {},
   "source": [
    "## Infinite Loop  \n",
    "Infinite loops are those loops which has always satisfied condition, these loops are keep running, hence called Infinite loop  \n",
    "\n",
    "```\n",
    "no = -1\n",
    "\n",
    "while no < 0:    \n",
    "    print(f\"{no}\")\n",
    "    no = no - 1    \n",
    "```  \n",
    "In this example, the value of no is -1 which is always less than 0, \n",
    "and then we are substracting -1 from no which is -2 and also less than 0...\n",
    "this loop keep running as While condition is always TRUE, hence the Infinite Loop.   \n",
    "  \n",
    "  \n",
    "Infinite loops are treating while condition as   \n",
    "\n",
    "```\n",
    "while True:\n",
    "    print(\"Hi\")\n",
    "```    "
   ]
  },
  {
   "cell_type": "markdown",
   "id": "f9918ef1-3e2f-4ff1-81d7-7fa7c16a2273",
   "metadata": {},
   "source": [
    "Though, Infinite Loops seems bad but it is not, we can use Infinite Loop in multiple ways.. such as -- \n",
    "\n",
    "### Loop Cancel with Break  "
   ]
  },
  {
   "cell_type": "code",
   "execution_count": 8,
   "id": "bdbccb89-b309-4411-99e6-47b85809926d",
   "metadata": {},
   "outputs": [
    {
     "name": "stdin",
     "output_type": "stream",
     "text": [
      "Enter anything you want to print, we will repeat that... [type q to quit] at\n"
     ]
    },
    {
     "name": "stdout",
     "output_type": "stream",
     "text": [
      "at\n"
     ]
    },
    {
     "name": "stdin",
     "output_type": "stream",
     "text": [
      "Enter anything you want to print, we will repeat that... [type q to quit] ab\n"
     ]
    },
    {
     "name": "stdout",
     "output_type": "stream",
     "text": [
      "ab\n"
     ]
    },
    {
     "name": "stdin",
     "output_type": "stream",
     "text": [
      "Enter anything you want to print, we will repeat that... [type q to quit] kt\n"
     ]
    },
    {
     "name": "stdout",
     "output_type": "stream",
     "text": [
      "kt\n"
     ]
    },
    {
     "name": "stdin",
     "output_type": "stream",
     "text": [
      "Enter anything you want to print, we will repeat that... [type q to quit] q\n"
     ]
    },
    {
     "name": "stdout",
     "output_type": "stream",
     "text": [
      "Bye!\n"
     ]
    }
   ],
   "source": [
    "while True:\n",
    "    inp = input(\"Enter anything you want to print, we will repeat that... [type q to quit]\")\n",
    "    if inp == 'q':\n",
    "        print(\"Bye!\")\n",
    "        break\n",
    "    print(f'{inp}')"
   ]
  },
  {
   "cell_type": "markdown",
   "id": "9fddb02c-436a-42b0-b141-90fb3305fb81",
   "metadata": {},
   "source": [
    "### Skip Ahead with Continue"
   ]
  },
  {
   "cell_type": "code",
   "execution_count": 1,
   "id": "994c78cb-608e-4b9b-8861-662190e7f136",
   "metadata": {},
   "outputs": [
    {
     "name": "stdin",
     "output_type": "stream",
     "text": [
      "Enter a no.... [type q to quit.]   2\n",
      "Enter a no.... [type q to quit.]   4\n",
      "Enter a no.... [type q to quit.]   3\n"
     ]
    },
    {
     "name": "stdout",
     "output_type": "stream",
     "text": [
      "3\n",
      "Number * 2 = 6\n"
     ]
    },
    {
     "name": "stdin",
     "output_type": "stream",
     "text": [
      "Enter a no.... [type q to quit.]   5\n"
     ]
    },
    {
     "name": "stdout",
     "output_type": "stream",
     "text": [
      "5\n",
      "Number * 2 = 10\n"
     ]
    },
    {
     "name": "stdin",
     "output_type": "stream",
     "text": [
      "Enter a no.... [type q to quit.]   q\n"
     ]
    },
    {
     "name": "stdout",
     "output_type": "stream",
     "text": [
      "Bye\n"
     ]
    }
   ],
   "source": [
    "## Program asking a no from User.\n",
    "## Printing the no if It is an ODD no (Not divisible by 2)\n",
    "## Else Skip for another no\n",
    "\n",
    "while True:\n",
    "    num = input(\"Enter a no.... [type q to quit.]  \")\n",
    "    if num == 'q':\n",
    "        print(\"Bye\")    \n",
    "        break                    # if python control hit break, It will break the loop and Come out\n",
    "    num = int(num)\n",
    "    if num % 2 == 0:\n",
    "        continue                 # If continue, It will skip all the further instructions and start the next iteration/loop\n",
    "    print(f'{num}')\n",
    "    print(f'Number * 2 = {num * 2}')"
   ]
  },
  {
   "cell_type": "code",
   "execution_count": 5,
   "id": "9976e939-3730-4ef9-b578-bbe9ca284c6a",
   "metadata": {},
   "outputs": [
    {
     "name": "stdout",
     "output_type": "stream",
     "text": [
      "5\n"
     ]
    }
   ],
   "source": [
    "## Generating a Random no here within 1 to 10 range. \n",
    "\n",
    "import random\n",
    "no = random.randint(1, 10)\n",
    "print(no)"
   ]
  },
  {
   "cell_type": "code",
   "execution_count": 6,
   "id": "1170ceda-d188-4063-bc7d-d3ae0e2c2b56",
   "metadata": {},
   "outputs": [
    {
     "name": "stdin",
     "output_type": "stream",
     "text": [
      "Enter a no between 1 to 10 .. [press q to quit.]  3\n"
     ]
    },
    {
     "name": "stdout",
     "output_type": "stream",
     "text": [
      "Try again....\n"
     ]
    },
    {
     "name": "stdin",
     "output_type": "stream",
     "text": [
      "Enter a no between 1 to 10 .. [press q to quit.]  8\n"
     ]
    },
    {
     "name": "stdout",
     "output_type": "stream",
     "text": [
      "Try again....\n"
     ]
    },
    {
     "name": "stdin",
     "output_type": "stream",
     "text": [
      "Enter a no between 1 to 10 .. [press q to quit.]  9\n"
     ]
    },
    {
     "name": "stdout",
     "output_type": "stream",
     "text": [
      "Try again....\n"
     ]
    },
    {
     "name": "stdin",
     "output_type": "stream",
     "text": [
      "Enter a no between 1 to 10 .. [press q to quit.]  5\n"
     ]
    },
    {
     "name": "stdout",
     "output_type": "stream",
     "text": [
      "Voila! You have guessed the correct no.\n"
     ]
    }
   ],
   "source": [
    "# Write a program which ask Use to Guess the no.\n",
    "# Program will give infinite opportunity to guess the no.\n",
    "# If Entered q, Program will Exit. \n",
    "\n",
    "\n",
    "while True:\n",
    "    num = input(\"Enter a no between 1 to 10 .. [press q to quit.] \")\n",
    "    \n",
    "    if num == 'q':\n",
    "        print(\"Bye Bye!\")\n",
    "        break\n",
    "        \n",
    "    num = int(num)\n",
    "    \n",
    "    if num == no:\n",
    "        print(\"Voila! You have guessed the correct no.\")\n",
    "        break\n",
    "    else:\n",
    "        print(\"Try again....\")"
   ]
  },
  {
   "cell_type": "markdown",
   "id": "89779b73-cafb-42cd-a1aa-79219c3af66d",
   "metadata": {},
   "source": [
    "### while with else    \n",
    "\n",
    "`else` in `while` loop will be only executed if loop is completed without hitting the break statement"
   ]
  },
  {
   "cell_type": "code",
   "execution_count": 9,
   "id": "d1bc77b8-d769-43cd-8143-24602d2d9fc1",
   "metadata": {},
   "outputs": [
    {
     "name": "stdin",
     "output_type": "stream",
     "text": [
      "Enter a no?  1\n"
     ]
    },
    {
     "name": "stdout",
     "output_type": "stream",
     "text": [
      "Try again...\n"
     ]
    },
    {
     "name": "stdin",
     "output_type": "stream",
     "text": [
      "Enter a no?  2\n"
     ]
    },
    {
     "name": "stdout",
     "output_type": "stream",
     "text": [
      "Try again...\n"
     ]
    },
    {
     "name": "stdin",
     "output_type": "stream",
     "text": [
      "Enter a no?  4\n"
     ]
    },
    {
     "name": "stdout",
     "output_type": "stream",
     "text": [
      "Try again...\n"
     ]
    },
    {
     "name": "stdin",
     "output_type": "stream",
     "text": [
      "Enter a no?  6\n"
     ]
    },
    {
     "name": "stdout",
     "output_type": "stream",
     "text": [
      "Try again...\n"
     ]
    },
    {
     "name": "stdin",
     "output_type": "stream",
     "text": [
      "Enter a no?  7\n"
     ]
    },
    {
     "name": "stdout",
     "output_type": "stream",
     "text": [
      "Try again...\n",
      "You have used all your chances, Try again later...\n"
     ]
    }
   ],
   "source": [
    "count = 0\n",
    "\n",
    "while count < 5:\n",
    "    count = count + 1\n",
    "\n",
    "    num = input(\"Enter a no? \")\n",
    "    \n",
    "    num = int(num)\n",
    "    if num == no:\n",
    "        print('You are right.')\n",
    "        break\n",
    "    else:\n",
    "        print('Try again...')\n",
    "else:\n",
    "    print(\"You have used all your chances, Try again later...\")"
   ]
  },
  {
   "cell_type": "code",
   "execution_count": null,
   "id": "dbe6a124-89a9-4253-a508-591efd4273d3",
   "metadata": {},
   "outputs": [],
   "source": []
  }
 ],
 "metadata": {
  "kernelspec": {
   "display_name": "Python 3",
   "language": "python",
   "name": "python3"
  },
  "language_info": {
   "codemirror_mode": {
    "name": "ipython",
    "version": 3
   },
   "file_extension": ".py",
   "mimetype": "text/x-python",
   "name": "python",
   "nbconvert_exporter": "python",
   "pygments_lexer": "ipython3",
   "version": "3.9.5"
  }
 },
 "nbformat": 4,
 "nbformat_minor": 5
}

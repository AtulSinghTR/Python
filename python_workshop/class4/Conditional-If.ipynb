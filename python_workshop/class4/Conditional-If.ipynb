{
 "cells": [
  {
   "cell_type": "markdown",
   "id": "4d4be044-9421-4334-832b-a0701797a684",
   "metadata": {},
   "source": [
    "## Conditions - If, elif and Else"
   ]
  },
  {
   "cell_type": "code",
   "execution_count": 1,
   "id": "b7fb608c-130f-4584-8a98-6633a4f3af21",
   "metadata": {},
   "outputs": [
    {
     "data": {
      "text/plain": [
       "2"
      ]
     },
     "execution_count": 1,
     "metadata": {},
     "output_type": "execute_result"
    }
   ],
   "source": [
    "sam = 2 \n",
    "\n",
    "sam"
   ]
  },
  {
   "cell_type": "code",
   "execution_count": 3,
   "id": "4a31dd65-afac-40d5-9a7b-e9a6a1bd914f",
   "metadata": {},
   "outputs": [
    {
     "name": "stdout",
     "output_type": "stream",
     "text": [
      "Value of sam is 2\n"
     ]
    }
   ],
   "source": [
    "if sam == 2:\n",
    "    print(\"Value of sam is 2\")"
   ]
  },
  {
   "cell_type": "markdown",
   "id": "60afe760-bcee-4aeb-986e-26bd23063c59",
   "metadata": {},
   "source": [
    "**If** behave based on the Boolean (True/False) value.  \n",
    "If Condition is True, Python will execute the If Block else it will skip and proceed further.   \n",
    "Code Blocks are represent as indented code lines (Tab or 4 spaces)"
   ]
  },
  {
   "cell_type": "code",
   "execution_count": 4,
   "id": "d9f83c6c-ee81-4952-8277-10b2bacf4daf",
   "metadata": {},
   "outputs": [
    {
     "name": "stdout",
     "output_type": "stream",
     "text": [
      "pam is an even no\n"
     ]
    }
   ],
   "source": [
    "pam = 24 \n",
    "\n",
    "# Check if pam is even \n",
    "\n",
    "if pam % 2 == 0:\n",
    "    print(\"pam is an even no\")"
   ]
  },
  {
   "cell_type": "markdown",
   "id": "aa30edcf-47f1-406d-91ca-76e8452ff835",
   "metadata": {},
   "source": [
    "#### Multiple Condition Check  \n",
    "With the help of logical operators - and / or"
   ]
  },
  {
   "cell_type": "code",
   "execution_count": 5,
   "id": "9dc291ca-7388-4ffd-8185-7710f4c1c622",
   "metadata": {},
   "outputs": [
    {
     "name": "stdout",
     "output_type": "stream",
     "text": [
      "pam is an even no which is divisible by 6 as well\n"
     ]
    }
   ],
   "source": [
    "# check if pam is even and divisible by 6 \n",
    "\n",
    "if ( pam % 2 == 0 ) and ( pam % 6 == 0):\n",
    "    print(\"pam is an even no which is divisible by 6 as well\")"
   ]
  },
  {
   "cell_type": "markdown",
   "id": "926b2424-eda5-4d05-b5a2-b087113dd418",
   "metadata": {},
   "source": [
    "#### If and Else"
   ]
  },
  {
   "cell_type": "code",
   "execution_count": 6,
   "id": "cb7b5610-680d-4ddf-b6ee-13928729283c",
   "metadata": {},
   "outputs": [
    {
     "name": "stdout",
     "output_type": "stream",
     "text": [
      "pam is an odd no\n"
     ]
    }
   ],
   "source": [
    "pam = 23 \n",
    "\n",
    "if pam % 2 == 0 :\n",
    "    print(\"pam is an even no\")\n",
    "else:\n",
    "    print(\"pam is an odd no\")"
   ]
  },
  {
   "cell_type": "code",
   "execution_count": 8,
   "id": "92f16aea-cd39-4552-8d40-117eb1aad130",
   "metadata": {},
   "outputs": [
    {
     "name": "stdout",
     "output_type": "stream",
     "text": [
      "Atul can buy\n"
     ]
    }
   ],
   "source": [
    "amt = 600 \n",
    "area = 55 \n",
    "\n",
    "if (amt < 700) and (area >= 50):\n",
    "    print(\"Atul can buy\")\n",
    "else:\n",
    "    print(\"Atul can't afford\")"
   ]
  },
  {
   "cell_type": "code",
   "execution_count": 9,
   "id": "98b62859-f8b8-4d11-bbef-d5d9f3ca0ae2",
   "metadata": {},
   "outputs": [
    {
     "name": "stdout",
     "output_type": "stream",
     "text": [
      "Atul can't afford\n"
     ]
    }
   ],
   "source": [
    "amt = 600 \n",
    "area = 45 \n",
    "\n",
    "if (amt < 700) and (area >= 50):\n",
    "    print(\"Atul can buy\")\n",
    "else:\n",
    "    print(\"Atul can't afford\")"
   ]
  },
  {
   "cell_type": "markdown",
   "id": "0f5ad249-fd3f-4249-93c0-e1f6632291af",
   "metadata": {},
   "source": [
    "#### If, elif and Else"
   ]
  },
  {
   "cell_type": "code",
   "execution_count": 11,
   "id": "794bf7d8-c44e-4587-b0bf-664224fc4a2b",
   "metadata": {},
   "outputs": [
    {
     "name": "stdout",
     "output_type": "stream",
     "text": [
      "The length of pas is not acceptable\n"
     ]
    }
   ],
   "source": [
    "pas = 'Alpha'\n",
    "\n",
    "if (pas == 'password') or (pas == 'Password'):\n",
    "    print(\"The value of pas is not valid\")\n",
    "elif len(pas) <= 8:\n",
    "    print(\"The length of pas is not acceptable\")\n",
    "else:\n",
    "    print(\"The value of pas is Valid and Acceptable\")"
   ]
  },
  {
   "cell_type": "code",
   "execution_count": 12,
   "id": "d2b41427-c62b-408f-bb5c-3959446697b1",
   "metadata": {},
   "outputs": [
    {
     "name": "stdout",
     "output_type": "stream",
     "text": [
      "The value of pas is Valid and Acceptable\n"
     ]
    }
   ],
   "source": [
    "pas = 'AlphaBeta'\n",
    "\n",
    "if (pas == 'password') or (pas == 'Password'):\n",
    "    print(\"The value of pas is not valid\")\n",
    "elif len(pas) <= 8:\n",
    "    print(\"The length of pas is not acceptable\")\n",
    "else:\n",
    "    print(\"The value of pas is Valid and Acceptable\")"
   ]
  },
  {
   "cell_type": "code",
   "execution_count": 14,
   "id": "988020c6-4844-4fe9-8647-c31f954708a8",
   "metadata": {},
   "outputs": [
    {
     "name": "stdout",
     "output_type": "stream",
     "text": [
      "pas has unwanted character\n"
     ]
    }
   ],
   "source": [
    "pas = 'Alph@abeta'\n",
    "\n",
    "if (pas == 'password') or (pas == 'Password'):\n",
    "    print(\"The value of pas is not valid\")\n",
    "elif len(pas) <= 8:\n",
    "    print(\"The length of pas is not acceptable\")\n",
    "elif '@' in pas:\n",
    "    print(\"pas has unwanted character\")\n",
    "else:\n",
    "    print(\"The value of pas is Valid and Acceptable\")"
   ]
  },
  {
   "cell_type": "code",
   "execution_count": 15,
   "id": "c44d5e5b-2426-411c-9b5b-9f07a93d8511",
   "metadata": {},
   "outputs": [
    {
     "name": "stdout",
     "output_type": "stream",
     "text": [
      "color ofmango is Yellow\n",
      "The taste of mango is sweet n sour\n",
      "I love to have mango\n"
     ]
    }
   ],
   "source": [
    "fruit = 'mango'\n",
    "\n",
    "if fruit == 'mango':\n",
    "    print(\"color ofmango is Yellow\")\n",
    "    print(f\"The taste of {fruit} is sweet n sour\")\n",
    "    print(\"I love to have mango\")\n",
    "elif fruit == 'banana':\n",
    "    print(\"This is the easiest fruit to eat\")\n",
    "    print(\"I love banana shake\")\n",
    "elif fruit == 'grape':\n",
    "    print(\"I love grapes\")\n",
    "else:\n",
    "    print(f\"I am not aware of this fruit {fruit}\")\n",
    "\n"
   ]
  },
  {
   "cell_type": "code",
   "execution_count": 16,
   "id": "2b112b83-61a0-4d63-9703-b24f90d81a05",
   "metadata": {},
   "outputs": [
    {
     "name": "stdout",
     "output_type": "stream",
     "text": [
      "I am not aware of this fruit berry\n"
     ]
    }
   ],
   "source": [
    "fruit = 'berry'\n",
    "\n",
    "if fruit == 'mango':\n",
    "    print(\"color ofmango is Yellow\")\n",
    "    print(f\"The taste of {fruit} is sweet n sour\")\n",
    "    print(\"I love to have mango\")\n",
    "elif fruit == 'banana':\n",
    "    print(\"This is the easiest fruit to eat\")\n",
    "    print(\"I love banana shake\")\n",
    "elif fruit == 'grape':\n",
    "    print(\"I love grapes\")\n",
    "else:\n",
    "    print(f\"I am not aware of this fruit {fruit}\")"
   ]
  },
  {
   "cell_type": "code",
   "execution_count": 17,
   "id": "3c6ecf3d-e2f1-4f5e-86ea-d9f41ec52aec",
   "metadata": {},
   "outputs": [
    {
     "name": "stdout",
     "output_type": "stream",
     "text": [
      "This is the easiest fruit to eat\n",
      "I love banana shake\n"
     ]
    }
   ],
   "source": [
    "fruit = 'banana'\n",
    "\n",
    "if fruit == 'mango':\n",
    "    print(\"color ofmango is Yellow\")\n",
    "    print(f\"The taste of {fruit} is sweet n sour\")\n",
    "    print(\"I love to have mango\")\n",
    "elif fruit == 'banana':\n",
    "    print(\"This is the easiest fruit to eat\")\n",
    "    print(\"I love banana shake\")\n",
    "elif fruit == 'grape':\n",
    "    print(\"I love grapes\")\n",
    "else:\n",
    "    print(f\"I am not aware of this fruit {fruit}\")"
   ]
  },
  {
   "cell_type": "markdown",
   "id": "32ab4234-f49e-4b82-811f-33f642d6f9fb",
   "metadata": {},
   "source": [
    "### What is True/False  \n",
    "\n",
    "For conditional check, If actually not look for boolean value of True/False.. So what are those if data type is not Boolean.  \n",
    "Let's see first What False will look like in other Python Data Types  \n",
    "\n",
    "\n",
    "|Data Type| Value   |\n",
    "|---|---|\n",
    "|Integer   | 0  | \n",
    "|Float   | 0.0  |\n",
    "|Boolean   |False   |\n",
    "|String   |''   |\n",
    "|List   |[]   |\n",
    "|Tuple   |()   |\n",
    "|Dict   |{}   |\n",
    "|Null   |None   |"
   ]
  },
  {
   "cell_type": "code",
   "execution_count": 18,
   "id": "607ed003-0eb0-4780-b113-8ce4a32aa45e",
   "metadata": {},
   "outputs": [
    {
     "name": "stdout",
     "output_type": "stream",
     "text": [
      "Hi\n"
     ]
    }
   ],
   "source": [
    "# So, Let's see - \n",
    "\n",
    "num1 = 4\n",
    "num2 = 2 \n",
    "\n",
    "if num1 * num2 :   # bum1 * num2 = 2\n",
    "    print(\"Hi\")\n",
    "else:\n",
    "    print(\"Bye\")"
   ]
  },
  {
   "cell_type": "code",
   "execution_count": 20,
   "id": "75933954-adaa-4f0f-80d0-9ae0ff13cfac",
   "metadata": {},
   "outputs": [
    {
     "name": "stdout",
     "output_type": "stream",
     "text": [
      "Bye\n"
     ]
    }
   ],
   "source": [
    "if num1 - num2 * 2 :   # bum1 - num2 * 2 = 0\n",
    "    print(\"Hi\")\n",
    "else:\n",
    "    print(\"Bye\")"
   ]
  },
  {
   "cell_type": "code",
   "execution_count": 22,
   "id": "0c7b40d8-c55b-479f-b7ec-bcf089666881",
   "metadata": {},
   "outputs": [
    {
     "name": "stdout",
     "output_type": "stream",
     "text": [
      "True\n"
     ]
    }
   ],
   "source": [
    "if 1:\n",
    "    print(\"True\")\n",
    "else:\n",
    "    print(\"False\")"
   ]
  },
  {
   "cell_type": "code",
   "execution_count": 23,
   "id": "3dd726d9-0e84-4a22-a297-44105c4cd14e",
   "metadata": {},
   "outputs": [
    {
     "name": "stdout",
     "output_type": "stream",
     "text": [
      "Valid value\n"
     ]
    }
   ],
   "source": [
    "if 2.2:\n",
    "    print(\"Valid value\")\n",
    "else:\n",
    "    print(\"Invalid\")"
   ]
  },
  {
   "cell_type": "code",
   "execution_count": 24,
   "id": "03f44b87-d6f6-45f8-b4c6-38a57e0330d5",
   "metadata": {},
   "outputs": [
    {
     "name": "stdout",
     "output_type": "stream",
     "text": [
      "Valid value\n"
     ]
    }
   ],
   "source": [
    "if 'Kamal':\n",
    "    print(\"Valid value\")\n",
    "else:\n",
    "    print(\"Invalid\")"
   ]
  },
  {
   "cell_type": "code",
   "execution_count": 26,
   "id": "3a107de8-61bc-4536-bf20-3c59364b0e60",
   "metadata": {},
   "outputs": [
    {
     "name": "stdout",
     "output_type": "stream",
     "text": [
      "x does not exists\n"
     ]
    }
   ],
   "source": [
    "if 'x' in 'Xmas':\n",
    "    print(\"x does exists\")\n",
    "else:\n",
    "    print(\"x does not exists\")"
   ]
  },
  {
   "cell_type": "code",
   "execution_count": 27,
   "id": "6d16494b-024d-469d-8434-7c84fc68c9e5",
   "metadata": {},
   "outputs": [
    {
     "name": "stdout",
     "output_type": "stream",
     "text": [
      "x does exists\n"
     ]
    }
   ],
   "source": [
    "if 'x'.upper() in 'Xmas':\n",
    "    print(\"x does exists\")\n",
    "else:\n",
    "    print(\"x does not exists\")"
   ]
  },
  {
   "cell_type": "markdown",
   "id": "a9062dbe-f24f-43b8-a4c4-f1d0b6ac2215",
   "metadata": {},
   "source": [
    "### Nested If Else"
   ]
  },
  {
   "cell_type": "code",
   "execution_count": 28,
   "id": "53aab0ee-ddde-4953-a430-93c6a3033beb",
   "metadata": {},
   "outputs": [
    {
     "name": "stdout",
     "output_type": "stream",
     "text": [
      "yr is divided by 4\n",
      "Yr is not divisible by 100, hence not a leap year\n"
     ]
    }
   ],
   "source": [
    "yr = 2004 \n",
    "\n",
    "if yr % 4 == 0:\n",
    "    print(\"yr is divided by 4\")\n",
    "    if yr % 100 == 0:\n",
    "        print(\"yr is dividec by 100\")\n",
    "        if yr % 400 == 0:\n",
    "            print(\"yr is leap year\")\n",
    "        else:\n",
    "            print(\"year is not leap year\")\n",
    "    else:\n",
    "        print(\"Yr is not divisible by 100, hence not a leap year\")\n",
    "else:\n",
    "    print(\"yr is not divisible by 4, Hence not a leap year\")"
   ]
  },
  {
   "cell_type": "code",
   "execution_count": 30,
   "id": "96b3a37f-cbac-4698-b39b-bdd85f631647",
   "metadata": {},
   "outputs": [
    {
     "name": "stdout",
     "output_type": "stream",
     "text": [
      "yr is divided by 4\n",
      "yr is dividec by 100\n",
      "yr is dividec by 400\n",
      "yr is leap year\n"
     ]
    }
   ],
   "source": [
    "yr = 2000\n",
    "\n",
    "if yr % 4 == 0:\n",
    "    print(\"yr is divided by 4\")\n",
    "    if yr % 100 == 0:\n",
    "        print(\"yr is dividec by 100\")\n",
    "        if yr % 400 == 0:\n",
    "            print(\"yr is dividec by 400\")\n",
    "            print(\"yr is leap year\")\n",
    "        else:\n",
    "            print(\"year is not leap year\")\n",
    "    else:\n",
    "        print(\"Yr is not divisible by 100, hence not a leap year\")\n",
    "else:\n",
    "    print(\"yr is not divisible by 4, Hence not a leap year\")"
   ]
  },
  {
   "cell_type": "code",
   "execution_count": 31,
   "id": "e84027e6-3d32-4c75-8bc4-1b31eca1a8a3",
   "metadata": {},
   "outputs": [
    {
     "name": "stdout",
     "output_type": "stream",
     "text": [
      "yr is not divisible by 4, Hence not a leap year\n"
     ]
    }
   ],
   "source": [
    "yr = 1999\n",
    "\n",
    "if yr % 4 == 0:\n",
    "    print(\"yr is divided by 4\")\n",
    "    if yr % 100 == 0:\n",
    "        print(\"yr is dividec by 100\")\n",
    "        if yr % 400 == 0:\n",
    "            print(\"yr is dividec by 400\")\n",
    "            print(\"yr is leap year\")\n",
    "        else:\n",
    "            print(\"year is not leap year\")\n",
    "    else:\n",
    "        print(\"Yr is not divisible by 100, hence not a leap year\")\n",
    "else:\n",
    "    print(\"yr is not divisible by 4, Hence not a leap year\")"
   ]
  },
  {
   "cell_type": "code",
   "execution_count": 32,
   "id": "5e536166-20b0-490f-9f38-4335742ce0dd",
   "metadata": {},
   "outputs": [
    {
     "name": "stdout",
     "output_type": "stream",
     "text": [
      "He is a hollywood actor\n"
     ]
    }
   ],
   "source": [
    "fname = 'jim'\n",
    "lname = 'carrey'\n",
    "\n",
    "if lname == 'carrey':\n",
    "    if fname == 'jim':\n",
    "        print(\"He is a hollywood actor\")\n",
    "    else: \n",
    "        print(\"I don't know who he is\")\n",
    "else:\n",
    "    if lname == 'johansson':\n",
    "        if fname == 'scarlett':\n",
    "            print(\"She is a famous hollywood actoress\")\n",
    "        else:\n",
    "            print(\"Person might be someone else\")"
   ]
  },
  {
   "cell_type": "code",
   "execution_count": 33,
   "id": "a944f135-1170-45d7-9cb3-c1a1e1de1ee8",
   "metadata": {},
   "outputs": [
    {
     "name": "stdout",
     "output_type": "stream",
     "text": [
      "Person might be someone else\n"
     ]
    }
   ],
   "source": [
    "fname = 'jim'\n",
    "lname = 'johansson'\n",
    "\n",
    "if lname == 'carrey':\n",
    "    if fname == 'jim':\n",
    "        print(\"He is a hollywood actor\")\n",
    "    else: \n",
    "        print(\"I don't know who he is\")\n",
    "else:\n",
    "    if lname == 'johansson':\n",
    "        if fname == 'scarlett':\n",
    "            print(\"She is a famous hollywood actoress\")\n",
    "        else:\n",
    "            print(\"Person might be someone else\")"
   ]
  },
  {
   "cell_type": "code",
   "execution_count": null,
   "id": "106c4fd3-0c53-4d66-9f41-7d3c8fce6b35",
   "metadata": {},
   "outputs": [],
   "source": []
  }
 ],
 "metadata": {
  "kernelspec": {
   "display_name": "Python 3",
   "language": "python",
   "name": "python3"
  },
  "language_info": {
   "codemirror_mode": {
    "name": "ipython",
    "version": 3
   },
   "file_extension": ".py",
   "mimetype": "text/x-python",
   "name": "python",
   "nbconvert_exporter": "python",
   "pygments_lexer": "ipython3",
   "version": "3.9.5"
  }
 },
 "nbformat": 4,
 "nbformat_minor": 5
}

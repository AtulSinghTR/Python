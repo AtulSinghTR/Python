{
 "cells": [
  {
   "cell_type": "code",
   "execution_count": 2,
   "metadata": {
    "collapsed": false
   },
   "outputs": [
    {
     "name": "stdout",
     "output_type": "stream",
     "text": [
      "www.datagenx.net\n",
      "Hello! Welcome to Python 2 tutorial Script\n",
      "We will see how to determine data type and Strings\n"
     ]
    }
   ],
   "source": [
    "print (\"www.datagenx.net\")\n",
    "print (\"Hello! Welcome to Python 2 tutorial Script\")\n",
    "print (\"We will see how to determine data type and Strings\")"
   ]
  },
  {
   "cell_type": "code",
   "execution_count": 3,
   "metadata": {
    "collapsed": false
   },
   "outputs": [
    {
     "name": "stdout",
     "output_type": "stream",
     "text": [
      "<class 'int'>\n",
      "<class 'float'>\n",
      "<class 'str'>\n",
      "<class 'bool'>\n",
      "<class 'NoneType'>\n"
     ]
    }
   ],
   "source": [
    "### DATA TYPES ###\n",
    "##################\n",
    "\n",
    "# determine the type of an object\n",
    "print (type(5))         # print 'int'\n",
    "print (type(5.0))       # print 'float'\n",
    "print (type('two'))     # print 'str'\n",
    "print (type(False))      # print 'bool'\n",
    "print (type(None))      # print 'NoneType'"
   ]
  },
  {
   "cell_type": "code",
   "execution_count": null,
   "metadata": {
    "collapsed": true
   },
   "outputs": [],
   "source": [
    "# check if an object is of a given type\n",
    "name = 'Atul'\n",
    "print (isinstance(5.0, int)            \t\t# print (False\n",
    "print (isinstance(5.0, (int, float))   \t\t# print (True\n",
    "print (isinstance(name, (int, float, str))  \t# print (True\n",
    "\n",
    "\n",
    "# convert an object to a given type\n",
    "print (float(5)\n",
    "print (int(5.3)\n",
    "print (int(5.9)\n",
    "print (str(5.3)\n",
    "\n",
    "# zero, None, and empty containers are converted to False\n",
    "print (bool(0)\n",
    "print (bool(None)\n",
    "print (bool('')    # empty string\n",
    "print (bool([])    # empty list\n",
    "print (bool({})    # empty dictionary\n",
    "\n",
    "# non-empty containers and non-zeros are converted to True\n",
    "print (bool(5)\n",
    "print (bool('two')\n",
    "print (bool([5])\n",
    "\n",
    "\n",
    "\n",
    "####  Strings   ####\n",
    "####################\n",
    "\n",
    "# Creating String vairable\n",
    "subject = \"python\"\n",
    "code = \"P101\"\n",
    "\n",
    "print (subject\n",
    "print (code\n",
    "\n",
    "print (subject, code\n",
    "\n",
    "# String is a character array in python so we can\n",
    "# do some string manipulations like below (index access, start from 0)\n",
    "\n",
    "print (subject\n",
    "print (subject[2]    # print (the 3rd char of string which is 't'\n",
    "print (subject[1:3]  # substring 2nd and 3rd char \n",
    "\n",
    "\n",
    "# some methods to manipulate the string\n",
    "print (len(subject)      # 6\n",
    "print (subject.lower()   # python   # only work with str data type\n",
    "print (subject.upper()   # PYTHON   # only work with str data type\n",
    "print (str(subject)      # convert input to string data type\n",
    "\n",
    "\n",
    "# Some advance manipulation on Strings\n",
    "# concatenation - use +\n",
    "\n",
    "print (subject\n",
    "print (code\n",
    "print (subject + code\n",
    "print (subject + \" subject code is \" + code\n",
    "\n",
    "print (\"%s subject code is %s\" %(subject, code)   # C style code\n",
    "\n",
    "\n",
    "# Excape char \\\n",
    "# we can escape the char special meaning with \\ \n",
    "# print (\"Hi, this is a double quote \" \"      # this line will throw a error\n",
    "print (\"Hi, this is a double quote \\\" \"       # Hi, this is a double quote \"\n",
    "\n",
    "print (\"Hi I am printing \\\n",
    "multi-line string \\\n",
    "to escape new line \\\n",
    "I am using escape char\"\n",
    "\n",
    "\n",
    "print (\"Thanks\"\n",
    "print (\"Atul Singh\"\n",
    "print (\"atul@datagenx.net\""
   ]
  }
 ],
 "metadata": {
  "kernelspec": {
   "display_name": "Python 3",
   "language": "python",
   "name": "python3"
  },
  "language_info": {
   "codemirror_mode": {
    "name": "ipython",
    "version": 3
   },
   "file_extension": ".py",
   "mimetype": "text/x-python",
   "name": "python",
   "nbconvert_exporter": "python",
   "pygments_lexer": "ipython3",
   "version": "3.5.2"
  }
 },
 "nbformat": 4,
 "nbformat_minor": 0
}

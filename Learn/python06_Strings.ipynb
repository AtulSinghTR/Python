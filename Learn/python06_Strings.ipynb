{
 "cells": [
  {
   "cell_type": "markdown",
   "metadata": {},
   "source": [
    "### Learning String\n",
    "** properties:  iterable, immutable**  \n",
    "** A String is a sequence of character.**  \n",
    "\n",
    "** www.datagenx.net** "
   ]
  },
  {
   "cell_type": "code",
   "execution_count": 1,
   "metadata": {
    "collapsed": false
   },
   "outputs": [
    {
     "name": "stdout",
     "output_type": "stream",
     "text": [
      "Hello! Welcome to Python 6 tutorial Script\n",
      "Learning Strings\n"
     ]
    }
   ],
   "source": [
    "print ( \"Hello! Welcome to Python 6 tutorial Script\")\n",
    "print ( \"Learning Strings\")"
   ]
  },
  {
   "cell_type": "code",
   "execution_count": 2,
   "metadata": {
    "collapsed": false
   },
   "outputs": [
    {
     "name": "stdout",
     "output_type": "stream",
     "text": [
      "Atul is learning strings <class 'str'>\n",
      "432 <class 'str'>\n"
     ]
    }
   ],
   "source": [
    "st = \"Atul is learning strings\"\n",
    "sNo = '432'\n",
    "sAlp = 'Atul98'\n",
    "print ( st, type(st) )\n",
    "print ( sNo, type(sNo) )"
   ]
  },
  {
   "cell_type": "code",
   "execution_count": 3,
   "metadata": {
    "collapsed": false
   },
   "outputs": [
    {
     "name": "stdout",
     "output_type": "stream",
     "text": [
      "True\n",
      "True\n",
      "True\n"
     ]
    }
   ],
   "source": [
    "# Check the data type\n",
    "print ( type(st) == str )\n",
    "print ( isinstance(st, (str, 'unicode')) )\n",
    "print ( type(st) == type(str()) )"
   ]
  },
  {
   "cell_type": "code",
   "execution_count": 4,
   "metadata": {
    "collapsed": false
   },
   "outputs": [
    {
     "name": "stdout",
     "output_type": "stream",
     "text": [
      "A\n"
     ]
    }
   ],
   "source": [
    "# String Manipulation\n",
    "# String is a character array in python so we can\n",
    "# do some string manipulations like below (index access, start from 0, must be int)\n",
    "\n",
    "print ( st[0] )    # A\n",
    "#print ( st[100] )  # throw a error if try to print ( beyond the index "
   ]
  },
  {
   "cell_type": "code",
   "execution_count": 5,
   "metadata": {
    "collapsed": false
   },
   "outputs": [
    {
     "name": "stdout",
     "output_type": "stream",
     "text": [
      "Atul is learning strings\n",
      " is learning strings\n",
      "ing strings\n"
     ]
    }
   ],
   "source": [
    "# String Slicing like list\n",
    "print ( st[:]  )    #Atul is learning strings\n",
    "print ( st[4:] )\t # is learning strings\n",
    "print ( st[13:24] )  #ing strings"
   ]
  },
  {
   "cell_type": "code",
   "execution_count": 6,
   "metadata": {
    "collapsed": false
   },
   "outputs": [
    {
     "name": "stdout",
     "output_type": "stream",
     "text": [
      "24\n",
      "Atul Is Learning Strings\n",
      "atul is learning strings\n",
      "ATUL IS LEARNING STRINGS\n"
     ]
    }
   ],
   "source": [
    "# some methods to manipulate the string\n",
    "print ( len(st) )     # 24\n",
    "print ( st.title() )  # Atul Is Learning Strings   # every word is Captalized\n",
    "print ( st.lower() )   # atul is learning strings   # only work with str data type\n",
    "print ( st.upper() )   # ATUL IS LEARNING STRINGS   # only work with str data type"
   ]
  },
  {
   "cell_type": "code",
   "execution_count": 7,
   "metadata": {
    "collapsed": false
   },
   "outputs": [
    {
     "name": "stdout",
     "output_type": "stream",
     "text": [
      "True\n",
      "False\n"
     ]
    }
   ],
   "source": [
    "print ( st.startswith('A') )  # returns True\n",
    "print ( st.endswith('you') )   # returns False"
   ]
  },
  {
   "cell_type": "code",
   "execution_count": 8,
   "metadata": {
    "collapsed": false
   },
   "outputs": [
    {
     "name": "stdout",
     "output_type": "stream",
     "text": [
      "False\n",
      "False\n",
      "False\n"
     ]
    }
   ],
   "source": [
    "print ( st.isdigit() )        # returns False (returns True if every character in the string is a digit)\n",
    "print ( st.isalnum() )        # returns False\n",
    "print ( sAlp.isalpha() )         # returns True"
   ]
  },
  {
   "cell_type": "code",
   "execution_count": 9,
   "metadata": {
    "collapsed": false
   },
   "outputs": [
    {
     "name": "stdout",
     "output_type": "stream",
     "text": [
      "False\n",
      "False\n",
      "False\n"
     ]
    }
   ],
   "source": [
    "print ( st.islower() )          \n",
    "print ( st.isupper() )\n",
    "print ( st.istitle() )"
   ]
  },
  {
   "cell_type": "code",
   "execution_count": 10,
   "metadata": {
    "collapsed": false
   },
   "outputs": [
    {
     "name": "stdout",
     "output_type": "stream",
     "text": [
      "5\n",
      "5\n"
     ]
    }
   ],
   "source": [
    "print ( st.find('is') )     # returns index of first occurrence (2), but doesn't support regex\n",
    "print ( st.find('i') )\t\t\t# index of first i"
   ]
  },
  {
   "cell_type": "code",
   "execution_count": 11,
   "metadata": {
    "collapsed": false
   },
   "outputs": [
    {
     "name": "stdout",
     "output_type": "stream",
     "text": [
      "13\n",
      "20\n"
     ]
    }
   ],
   "source": [
    "print ( st.find('i',6) )       # index of first i after the index 6\n",
    "print ( st.find('i',14,24) )        # index of first i after the index 14 and before 24"
   ]
  },
  {
   "cell_type": "code",
   "execution_count": 12,
   "metadata": {
    "collapsed": false
   },
   "outputs": [
    {
     "name": "stdout",
     "output_type": "stream",
     "text": [
      "-1\n"
     ]
    }
   ],
   "source": [
    "print ( st.find('hate') )      # returns -1 since not found"
   ]
  },
  {
   "cell_type": "code",
   "execution_count": 13,
   "metadata": {
    "collapsed": false
   },
   "outputs": [
    {
     "name": "stdout",
     "output_type": "stream",
     "text": [
      "Rahul is learning strings\n"
     ]
    }
   ],
   "source": [
    "print ( st.replace('Atul','Rahul') )   # replaces all instances of 'Atul' with 'Rahul' "
   ]
  },
  {
   "cell_type": "code",
   "execution_count": 14,
   "metadata": {
    "collapsed": false
   },
   "outputs": [
    {
     "name": "stdout",
     "output_type": "stream",
     "text": [
      "<class 'str'> <class 'int'>\n"
     ]
    }
   ],
   "source": [
    "print ( type(sNo), type(int(sNo)) )    # converting string to int"
   ]
  },
  {
   "cell_type": "code",
   "execution_count": 15,
   "metadata": {
    "collapsed": false
   },
   "outputs": [
    {
     "name": "stdout",
     "output_type": "stream",
     "text": [
      "['Atul', 'is', 'learning', 'strings']\n",
      "['Atul', 'is', 'learning', 'strings']\n",
      "['Python', 'is', 'easy']\n"
     ]
    }
   ],
   "source": [
    "# split a string into a list of substrings separated by a delimiter\n",
    "print ( st.split() )         # return word list sep by space(default)\n",
    "print ( st.split(' ') )\n",
    "st2 = \"Python,is,easy\"\n",
    "stlist = st2.split(',')\n",
    "print ( stlist )"
   ]
  },
  {
   "cell_type": "code",
   "execution_count": 16,
   "metadata": {
    "collapsed": false
   },
   "outputs": [
    {
     "name": "stdout",
     "output_type": "stream",
     "text": [
      "Python-is-easy\n"
     ]
    }
   ],
   "source": [
    "# join the word list with -\n",
    "print ( '-'.join(stlist) )"
   ]
  },
  {
   "cell_type": "code",
   "execution_count": 17,
   "metadata": {
    "collapsed": false
   },
   "outputs": [
    {
     "name": "stdout",
     "output_type": "stream",
     "text": [
      "PythonScript\n",
      "Python Script\n",
      "Python42\n"
     ]
    }
   ],
   "source": [
    "# Some advance manipulation on Strings\n",
    "# concatenation - use +\n",
    "word1 = 'Python'\n",
    "word2 = 'Script'\n",
    "print ( word1+word2 )   #PythonScript\n",
    "print ( word1+\" \"+word2 )    #Python Script\n",
    "# print ( word1 + 42 )       this will throw a error, all tokens should be converted into string type\n",
    "print ( word1 + str(42) )   #Python42"
   ]
  },
  {
   "cell_type": "code",
   "execution_count": 18,
   "metadata": {
    "collapsed": false
   },
   "outputs": [
    {
     "name": "stdout",
     "output_type": "stream",
     "text": [
      "True\n",
      "False\n"
     ]
    }
   ],
   "source": [
    "# in as a logical operator\n",
    "print ( 'P' in word1 )\t\t\t#True\n",
    "print ( 'c' in word1 )\t\t\t#False"
   ]
  },
  {
   "cell_type": "code",
   "execution_count": 19,
   "metadata": {
    "collapsed": false
   },
   "outputs": [
    {
     "name": "stdout",
     "output_type": "stream",
     "text": [
      "False\n",
      "True\n",
      "True\n"
     ]
    }
   ],
   "source": [
    "# String comparison\n",
    "print ( word1 > 'Python1' )\n",
    "print ( word1 < 'Python1' )\n",
    "print ( word1 == 'Python' )"
   ]
  },
  {
   "cell_type": "code",
   "execution_count": 20,
   "metadata": {
    "collapsed": false
   },
   "outputs": [
    {
     "name": "stdout",
     "output_type": "stream",
     "text": [
      "Python and Me\n",
      "  Python and Me\n",
      "Python and Me  \n"
     ]
    }
   ],
   "source": [
    "# remove whitespace from start and end of a string\n",
    "line = '  Python and Me  '\n",
    "print ( line.strip()  )        #Python and Me\n",
    "print ( line.rstrip() )         #  Python and Me    #right strip\n",
    "print ( line.lstrip() )         #Python and Me    #left strip"
   ]
  },
  {
   "cell_type": "code",
   "execution_count": 21,
   "metadata": {
    "collapsed": false
   },
   "outputs": [
    {
     "name": "stdout",
     "output_type": "stream",
     "text": [
      "first line\n",
      "second line\n",
      "first line\\nfirst line\n",
      "first line\\nfirst line\n"
     ]
    }
   ],
   "source": [
    "# normal strings versus raw strings\n",
    "print ( 'first line\\nsecond line' )    # normal strings allow for escaped characters\n",
    "print ( r'first line\\nfirst line' )    # raw strings treat backslashes as literal characters\n",
    "print ( 'first line\\\\nfirst line' )    # We can achive the same with \\ which disable the special meaning of character"
   ]
  },
  {
   "cell_type": "code",
   "execution_count": 22,
   "metadata": {
    "collapsed": false
   },
   "outputs": [
    {
     "name": "stdout",
     "output_type": "stream",
     "text": [
      "0 P\n",
      "1 y\n",
      "2 t\n",
      "3 h\n",
      "4 o\n",
      "5 n\n"
     ]
    }
   ],
   "source": [
    "# String Looping\n",
    "index = 0\n",
    "while index < len(word1):\n",
    "\tprint ( index, word1[index] )\n",
    "\tindex += 1"
   ]
  },
  {
   "cell_type": "code",
   "execution_count": 23,
   "metadata": {
    "collapsed": false
   },
   "outputs": [
    {
     "name": "stdout",
     "output_type": "stream",
     "text": [
      "P\n",
      "y\n",
      "t\n",
      "h\n",
      "o\n",
      "n\n"
     ]
    }
   ],
   "source": [
    "for letter in word1:\n",
    "\tprint ( letter )"
   ]
  },
  {
   "cell_type": "code",
   "execution_count": null,
   "metadata": {
    "collapsed": true
   },
   "outputs": [],
   "source": []
  }
 ],
 "metadata": {
  "kernelspec": {
   "display_name": "Python 3",
   "language": "python",
   "name": "python3"
  },
  "language_info": {
   "codemirror_mode": {
    "name": "ipython",
    "version": 3
   },
   "file_extension": ".py",
   "mimetype": "text/x-python",
   "name": "python",
   "nbconvert_exporter": "python",
   "pygments_lexer": "ipython3",
   "version": "3.5.2"
  }
 },
 "nbformat": 4,
 "nbformat_minor": 0
}

{
 "cells": [
  {
   "cell_type": "markdown",
   "metadata": {},
   "source": [
    "### Generating HashKey from the Input String"
   ]
  },
  {
   "cell_type": "code",
   "execution_count": 3,
   "metadata": {
    "collapsed": true
   },
   "outputs": [],
   "source": [
    "# import\n",
    "import hashlib as hk"
   ]
  },
  {
   "cell_type": "code",
   "execution_count": 11,
   "metadata": {
    "collapsed": false
   },
   "outputs": [
    {
     "name": "stdout",
     "output_type": "stream",
     "text": [
      "md5 hash:  1ff1de774005f8da13f42943881c655f\n",
      "sha256 hash:  c2356069e9d1e79ca924378153cfbbfb4d4416b1f99d41a2940bfdb66c5319db\n"
     ]
    }
   ],
   "source": [
    "val = '24'\n",
    "\n",
    "md5 = hk.md5(val.encode())\n",
    "print(\"md5 hash: \",md5.hexdigest())\n",
    "print(\"sha256 hash: \",hk.sha256(val.encode()).hexdigest())"
   ]
  },
  {
   "cell_type": "markdown",
   "metadata": {},
   "source": [
    "** hashlib is also genrate sha1, ssa224, ssa256, sha384 and sha512 type of keys**  \n",
    "  \n",
    "** Use of SHA keys to design a password authentication **"
   ]
  },
  {
   "cell_type": "code",
   "execution_count": 12,
   "metadata": {
    "collapsed": true
   },
   "outputs": [],
   "source": [
    "import uuid  # universal unique identifier"
   ]
  },
  {
   "cell_type": "code",
   "execution_count": 16,
   "metadata": {
    "collapsed": false
   },
   "outputs": [
    {
     "name": "stdout",
     "output_type": "stream",
     "text": [
      "345052807176\n",
      "0x5056c00008\n"
     ]
    }
   ],
   "source": [
    "print(uuid.getnode())  # fetch the local system mac address, if there are more, randomly pick one\n",
    "print(hex(uuid.getnode()))"
   ]
  },
  {
   "cell_type": "markdown",
   "metadata": {},
   "source": [
    "### UUID1"
   ]
  },
  {
   "cell_type": "code",
   "execution_count": 17,
   "metadata": {
    "collapsed": false
   },
   "outputs": [
    {
     "name": "stdout",
     "output_type": "stream",
     "text": [
      "b91929a4-b277-11e7-bf16-005056c00008\n",
      "<class 'uuid.UUID'>\n",
      "bytes   : b'\\xb9\\x19)\\xa4\\xb2w\\x11\\xe7\\xbf\\x16\\x00PV\\xc0\\x00\\x08'\n",
      "hex     : b91929a4b27711e7bf16005056c00008\n",
      "int     : 246037831269117487711687161910065627144\n",
      "urn     : urn:uuid:b91929a4-b277-11e7-bf16-005056c00008\n",
      "variant : specified in RFC 4122\n",
      "version : 1\n",
      "fields  : (3105434020, 45687, 4583, 191, 22, 345052807176)\n",
      "  time_low            :  3105434020\n",
      "  time_mid            :  45687\n",
      "  time_hi_version     :  4583\n",
      "  clock_seq_hi_variant:  191\n",
      "  clock_seq_low       :  22\n",
      "  node                :  345052807176\n",
      "  time                :  137274540934375844\n",
      "  clock_seq           :  16150\n"
     ]
    }
   ],
   "source": [
    "# To generate a UUID for a host, identified by its MAC address, use the uuid1() function.\n",
    "\n",
    "u = uuid.uuid1()\n",
    "\n",
    "print(u)\n",
    "print(type(u))\n",
    "print('bytes   :', repr(u.bytes))\n",
    "print('hex     :', u.hex)\n",
    "print('int     :', u.int)\n",
    "print('urn     :', u.urn)\n",
    "print('variant :', u.variant)\n",
    "print('version :', u.version)\n",
    "print('fields  :', u.fields)\n",
    "print('  time_low            : ', u.time_low)\n",
    "print('  time_mid            : ', u.time_mid)\n",
    "print('  time_hi_version     : ', u.time_hi_version)\n",
    "print('  clock_seq_hi_variant: ', u.clock_seq_hi_variant)\n",
    "print('  clock_seq_low       : ', u.clock_seq_low)\n",
    "print('  node                : ', u.node)\n",
    "print('  time                : ', u.time)\n",
    "print('  clock_seq           : ', u.clock_seq)"
   ]
  },
  {
   "cell_type": "code",
   "execution_count": 18,
   "metadata": {
    "collapsed": false
   },
   "outputs": [
    {
     "name": "stdout",
     "output_type": "stream",
     "text": [
      "e89141b4-b277-11e7-a330-005056c00008\n",
      "e89168c6-b277-11e7-b7ba-005056c00008\n",
      "e89168c7-b277-11e7-bf4b-005056c00008\n"
     ]
    }
   ],
   "source": [
    "# Because of the time component, each call to uuid1() returns a new value.\n",
    "\n",
    "for i in range(3):\n",
    "    print(uuid.uuid1())"
   ]
  },
  {
   "cell_type": "markdown",
   "metadata": {},
   "source": [
    "### UUID3 and UUID5  -  Name Based Values\n",
    "* To create a UUID from a DNS name, pass uuid.NAMESPACE_DNS as the namespace argument  \n",
    "* The UUID value for a given name in a namespace is always the same, no matter when or where it is calculated.\n"
   ]
  },
  {
   "cell_type": "code",
   "execution_count": 19,
   "metadata": {
    "collapsed": false
   },
   "outputs": [
    {
     "name": "stdout",
     "output_type": "stream",
     "text": [
      "www.doughellmann.com\n",
      "  MD5   : bcd02e22-68f0-3046-a512-327cca9def8f\n",
      "  SHA-1 : e3329b12-30b7-57c4-8117-c2cd34a87ce9\n",
      "\n",
      "blog.doughellmann.com\n",
      "  MD5   : 9bdabfce-dfd6-37ab-8a3f-7f7293bcf111\n",
      "  SHA-1 : fa829736-7ef8-5239-9906-b4775a5abacb\n",
      "\n"
     ]
    }
   ],
   "source": [
    "hostnames = ['www.doughellmann.com', 'blog.doughellmann.com']\n",
    "\n",
    "for name in hostnames:\n",
    "    print(name)\n",
    "    print('  MD5   :', uuid.uuid3(uuid.NAMESPACE_DNS, name))\n",
    "    print('  SHA-1 :', uuid.uuid5(uuid.NAMESPACE_DNS, name))\n",
    "    print()"
   ]
  },
  {
   "cell_type": "markdown",
   "metadata": {},
   "source": [
    "### UUID4 - Random Values"
   ]
  },
  {
   "cell_type": "code",
   "execution_count": 20,
   "metadata": {
    "collapsed": false
   },
   "outputs": [
    {
     "name": "stdout",
     "output_type": "stream",
     "text": [
      "7d8e8cf3-21e2-435d-a20a-6faf05aef12e\n",
      "4561f3f8-bbf5-4315-af98-14a1aadfe08d\n",
      "a4a88b06-16d4-4b5d-a8ef-5a72090eb58f\n"
     ]
    }
   ],
   "source": [
    "for i in range(3):\n",
    "    print(uuid.uuid4())"
   ]
  },
  {
   "cell_type": "markdown",
   "metadata": {},
   "source": [
    "### Password Function"
   ]
  },
  {
   "cell_type": "code",
   "execution_count": 23,
   "metadata": {
    "collapsed": true
   },
   "outputs": [],
   "source": [
    "def hash_password(password):\n",
    "    # uuid is used to generate a random number\n",
    "    salt = uuid.uuid4().hex\n",
    "    return hashlib.sha256(salt.encode() + password.encode()).hexdigest() + ':' + salt"
   ]
  },
  {
   "cell_type": "code",
   "execution_count": 24,
   "metadata": {
    "collapsed": true
   },
   "outputs": [],
   "source": [
    "def check_password(hashed_password, user_password):\n",
    "    password, salt = hashed_password.split(':')\n",
    "    return password == hashlib.sha256(salt.encode() + user_password.encode()).hexdigest()"
   ]
  },
  {
   "cell_type": "code",
   "execution_count": 26,
   "metadata": {
    "collapsed": false
   },
   "outputs": [
    {
     "name": "stdout",
     "output_type": "stream",
     "text": [
      "The string to store in the db is: e0e56af8226a4bd9dd74ab96dc59d59c30b7554e2db9d55a6a06c2ed1ad937ac:4dc7960fbd304d12b7635f7ea7c94f9e\n",
      "I am sorry but the password does not match\n"
     ]
    }
   ],
   "source": [
    "new_pass = input('Please enter a password: ')\n",
    "hashed_password = hash_password(new_pass)\n",
    "print('The string to store in the db is: ' + hashed_password)\n",
    "\n",
    "old_pass = input('Now please enter the password again to check: ')\n",
    "\n",
    "if check_password(hashed_password, old_pass):\n",
    "    print('You entered the right password')\n",
    "else:\n",
    "    print('I am sorry but the password does not match')"
   ]
  },
  {
   "cell_type": "code",
   "execution_count": null,
   "metadata": {
    "collapsed": true
   },
   "outputs": [],
   "source": []
  }
 ],
 "metadata": {
  "kernelspec": {
   "display_name": "Python 3",
   "language": "python",
   "name": "python3"
  },
  "language_info": {
   "codemirror_mode": {
    "name": "ipython",
    "version": 3
   },
   "file_extension": ".py",
   "mimetype": "text/x-python",
   "name": "python",
   "nbconvert_exporter": "python",
   "pygments_lexer": "ipython3",
   "version": "3.5.2"
  }
 },
 "nbformat": 4,
 "nbformat_minor": 2
}

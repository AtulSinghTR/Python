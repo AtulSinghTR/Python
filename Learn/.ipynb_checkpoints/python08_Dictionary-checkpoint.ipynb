{
 "cells": [
  {
   "cell_type": "markdown",
   "metadata": {},
   "source": [
    "\n",
    "### Learning Dictionary\n",
    "    properties: unordered, iterable, mutable, can contain multiple data types\n",
    "    made up of key-value pairs\n",
    "    keys must be unique, and can be strings, numbers, or tuples\n",
    "    values can be any type\n",
    "\n",
    "**https://www.linkedin.com/in/atulsinghds**  \n",
    "**http://www.datagenx.net**  \n"
   ]
  },
  {
   "cell_type": "code",
   "execution_count": 1,
   "metadata": {
    "collapsed": false
   },
   "outputs": [
    {
     "name": "stdout",
     "output_type": "stream",
     "text": [
      "\n",
      "Hello! Welcome to Python 7 tutorial Script\n",
      "Learning Dictionary\n"
     ]
    }
   ],
   "source": [
    "print ( \"\\nHello! Welcome to Python 7 tutorial Script\")\n",
    "print ( \"Learning Dictionary\")"
   ]
  },
  {
   "cell_type": "code",
   "execution_count": 2,
   "metadata": {
    "collapsed": false
   },
   "outputs": [
    {
     "name": "stdout",
     "output_type": "stream",
     "text": [
      "\n",
      "Creating list\n",
      "Empty Dictionary: {} {}\n"
     ]
    }
   ],
   "source": [
    "print ( \"\\nCreating list\")\n",
    "emp1 = dict()\n",
    "emp2 = {}\n",
    "\n",
    "print ( \"Empty Dictionary:\", emp1, emp2)"
   ]
  },
  {
   "cell_type": "code",
   "execution_count": 3,
   "metadata": {
    "collapsed": false
   },
   "outputs": [
    {
     "name": "stdout",
     "output_type": "stream",
     "text": [
      "{'three': 3, 'two': 2, 'four': 4, 'one': 1}\n"
     ]
    }
   ],
   "source": [
    "dic = {'one':1, 'two':2, 'three':3, 'four':4}\n",
    "print ( dic )"
   ]
  },
  {
   "cell_type": "code",
   "execution_count": 4,
   "metadata": {
    "collapsed": false
   },
   "outputs": [
    {
     "name": "stdout",
     "output_type": "stream",
     "text": [
      "{'clas': 9, 'roll': 24, 'name': 'Priya', 'sub': 'Python'}\n"
     ]
    }
   ],
   "source": [
    "stu = dict(name='Priya', sub='Python', clas=9, roll=24)\n",
    "print ( stu )"
   ]
  },
  {
   "cell_type": "code",
   "execution_count": 5,
   "metadata": {
    "collapsed": false
   },
   "outputs": [
    {
     "name": "stdout",
     "output_type": "stream",
     "text": [
      "\n",
      "Extracting Values/Keys from dict\n",
      "keys: dict_keys(['three', 'two', 'four', 'one'])\n",
      "Value: dict_values([3, 2, 4, 1])\n",
      "Key,Value: dict_items([('three', 3), ('two', 2), ('four', 4), ('one', 1)])\n",
      "count: 4\n",
      "Priya\n"
     ]
    }
   ],
   "source": [
    "# Working on a dictionary\n",
    "print ( \"\\nExtracting Values/Keys from dict\")\n",
    "\n",
    "val = dic.values()     #this will return the values list\n",
    "keys = dic.keys()\t\t#this will return the keys list\n",
    "keyval = dic.items()   # this will retunr a tuple list in key,value format\n",
    "\n",
    "print ( \"keys:\", keys )\n",
    "print ( \"Value:\",val )\n",
    "print ( \"Key,Value:\",keyval )\n",
    "print ( \"count:\",len(dic) )\n",
    "print ( stu['name'] )      # Priya"
   ]
  },
  {
   "cell_type": "code",
   "execution_count": 6,
   "metadata": {
    "collapsed": false
   },
   "outputs": [
    {
     "name": "stdout",
     "output_type": "stream",
     "text": [
      "Value assignment : dic[key]=value\n",
      "{'five': 5, 'three': 3, 'six': 6, 'one': 1, 'four': 4, 'two': 2} \n",
      "\n"
     ]
    }
   ],
   "source": [
    "print ( \"Value assignment : dic[key]=value\" )\n",
    "dic['five']=5 \n",
    "dic['six']=6\n",
    "print ( dic,\"\\n\" )"
   ]
  },
  {
   "cell_type": "code",
   "execution_count": 7,
   "metadata": {
    "collapsed": false
   },
   "outputs": [
    {
     "name": "stdout",
     "output_type": "stream",
     "text": [
      "{'gender': 'F', 'clas': 9, 'roll': 24, 'name': 'Priya', 'sub': 'Python'}\n"
     ]
    }
   ],
   "source": [
    "# modify a dictionary (does not return the dictionary)\n",
    "stu['gender'] = 'F'              # add a new entry\n",
    "print ( stu )"
   ]
  },
  {
   "cell_type": "code",
   "execution_count": 8,
   "metadata": {
    "collapsed": false
   },
   "outputs": [
    {
     "name": "stdout",
     "output_type": "stream",
     "text": [
      "{'gender': 'F', 'clas': 9, 'roll': 24, 'name': 'Rahul', 'sub': 'Python'}\n"
     ]
    }
   ],
   "source": [
    "stu['name'] = 'Rahul'            # edit an existing entry\n",
    "print ( stu )"
   ]
  },
  {
   "cell_type": "code",
   "execution_count": 9,
   "metadata": {
    "collapsed": false
   },
   "outputs": [
    {
     "name": "stdout",
     "output_type": "stream",
     "text": [
      "{'clas': 9, 'roll': 24, 'name': 'Rahul', 'sub': 'Python'}\n"
     ]
    }
   ],
   "source": [
    "del stu['gender']                       # delete an entry\n",
    "print ( stu )"
   ]
  },
  {
   "cell_type": "code",
   "execution_count": 10,
   "metadata": {
    "collapsed": false
   },
   "outputs": [
    {
     "name": "stdout",
     "output_type": "stream",
     "text": [
      "{'roll': 24, 'friends': ['Divya', 'Ashish'], 'name': 'Rahul', 'sub': 'Python', 'clas': 9}\n"
     ]
    }
   ],
   "source": [
    "stu['friends'] = ['Divya', 'Ashish']       # value can be a list\n",
    "print ( stu )"
   ]
  },
  {
   "cell_type": "code",
   "execution_count": 11,
   "metadata": {
    "collapsed": false
   },
   "outputs": [
    {
     "name": "stdout",
     "output_type": "stream",
     "text": [
      "{'roll': 24, 'name': 'Rahul', 'sub': 'Python', 'clas': 9}\n"
     ]
    }
   ],
   "source": [
    "stu.pop('friends')                       # removes an entry and returns the value ('homer')\n",
    "print ( stu )"
   ]
  },
  {
   "cell_type": "code",
   "execution_count": 12,
   "metadata": {
    "collapsed": false
   },
   "outputs": [
    {
     "name": "stdout",
     "output_type": "stream",
     "text": [
      "{'roll': 24, 'friends': ['Priya', 'Raj'], 'name': 'Rahul', 'sub': 'Python', 'clas': 9, 'stream': 'science', 'school': 'SGM'}\n"
     ]
    }
   ],
   "source": [
    "stu.update({'stream':'science', 'school':'SGM', 'friends': ['Priya', 'Raj']})   # add multiple entries\n",
    "print ( stu )"
   ]
  },
  {
   "cell_type": "code",
   "execution_count": 13,
   "metadata": {
    "collapsed": false
   },
   "outputs": [
    {
     "name": "stdout",
     "output_type": "stream",
     "text": [
      "['Mr Principal', 'Mr Gomez']\n",
      "['Priya', 'Raj', 'Vibhav']\n",
      "['Priya', 'Raj', 'Vibhav', 'Swati']\n"
     ]
    }
   ],
   "source": [
    "# Added a key with default value\n",
    "stu.setdefault('teachers',['Mr Principal']).append('Mr Gomez')\n",
    "print ( stu['teachers'])\n",
    "\n",
    "stu.setdefault('friends',['Vivek']).append('Vibhav')\n",
    "print ( stu['friends'])\n",
    "\n",
    "stu.setdefault('friends',['Vivek']).append('Swati')\n",
    "print ( stu['friends'])"
   ]
  },
  {
   "cell_type": "code",
   "execution_count": 14,
   "metadata": {
    "collapsed": false
   },
   "outputs": [
    {
     "name": "stdout",
     "output_type": "stream",
     "text": [
      "Rahul\n",
      "Rahul\n"
     ]
    }
   ],
   "source": [
    "# get method to default value\n",
    "# accessing values more safely with 'get'\n",
    "print ( stu['name'] )                      #Rahul\n",
    "print ( stu.get('name'))                   # same thing"
   ]
  },
  {
   "cell_type": "code",
   "execution_count": 15,
   "metadata": {
    "collapsed": false
   },
   "outputs": [
    {
     "name": "stdout",
     "output_type": "stream",
     "text": [
      "None\n",
      "not found\n"
     ]
    }
   ],
   "source": [
    "#print ( stu['class-teacher'])               # throws an error\n",
    "print ( stu.get('class-teacher'))               # None\n",
    "print ( stu.get('class-teacher', 'not found'))  # 'not found' (the default)"
   ]
  },
  {
   "cell_type": "code",
   "execution_count": 16,
   "metadata": {
    "collapsed": false
   },
   "outputs": [
    {
     "name": "stdout",
     "output_type": "stream",
     "text": [
      "Priya\n",
      "['Priya', 'Vibhav', 'Swati']\n"
     ]
    }
   ],
   "source": [
    "# accessing a list element within a dictionary\n",
    "print ( stu['friends'][0])            # 'Priya'\n",
    "stu['friends'].remove('Raj')       # removes 'Raj'\n",
    "print ( stu['friends'])"
   ]
  },
  {
   "cell_type": "code",
   "execution_count": 17,
   "metadata": {
    "collapsed": false
   },
   "outputs": [
    {
     "name": "stdout",
     "output_type": "stream",
     "text": [
      "\n",
      "Traversing through dictionary:\n",
      "five 5\n",
      "three 3\n",
      "six 6\n",
      "one 1\n",
      "four 4\n",
      "two 2\n"
     ]
    }
   ],
   "source": [
    "print ( \"\\nTraversing through dictionary:\")\n",
    "for key in dic:\n",
    "\tprint ( key, dic[key])"
   ]
  },
  {
   "cell_type": "code",
   "execution_count": 18,
   "metadata": {
    "collapsed": false
   },
   "outputs": [
    {
     "name": "stdout",
     "output_type": "stream",
     "text": [
      "five 5\n",
      "three 3\n",
      "six 6\n",
      "one 1\n",
      "four 4\n",
      "two 2\n"
     ]
    }
   ],
   "source": [
    "for key, val in dic.items():\n",
    "\tprint ( key, val)"
   ]
  },
  {
   "cell_type": "code",
   "execution_count": 19,
   "metadata": {
    "collapsed": false
   },
   "outputs": [
    {
     "name": "stdout",
     "output_type": "stream",
     "text": [
      "0 five\n",
      "1 three\n",
      "2 six\n",
      "3 one\n",
      "4 four\n",
      "5 two\n"
     ]
    }
   ],
   "source": [
    "for index,key in enumerate(dic):\n",
    "\tprint ( index,key)"
   ]
  },
  {
   "cell_type": "code",
   "execution_count": 20,
   "metadata": {
    "collapsed": false
   },
   "outputs": [
    {
     "name": "stdout",
     "output_type": "stream",
     "text": [
      "\n",
      " False\n",
      "True\n"
     ]
    }
   ],
   "source": [
    "# Check if Key is existing in dictionary\n",
    "print ( \"\\n\",'seven' in dic)\n",
    "print ( '\\nseven' not in dic)"
   ]
  },
  {
   "cell_type": "code",
   "execution_count": 21,
   "metadata": {
    "collapsed": false
   },
   "outputs": [
    {
     "name": "stdout",
     "output_type": "stream",
     "text": [
      "1 Atul\n",
      "2 Singh\n",
      "5 Five\n",
      "6 six\n",
      "7 Seven\n",
      "three Char\n"
     ]
    }
   ],
   "source": [
    "# Dictionary is not ordered, we can achieve this by sorting key list\n",
    "dum = {7:'Seven',1:'Atul', 2:'Singh', 'three':'Char', 5:'Five', 6:'six'}\n",
    "\n",
    "keylist = dum.keys()\n",
    "\n",
    "for key in keylist:\n",
    "\tprint ( key, dum[key])  # sorting order integer then strings"
   ]
  },
  {
   "cell_type": "code",
   "execution_count": 22,
   "metadata": {
    "collapsed": false
   },
   "outputs": [
    {
     "name": "stdout",
     "output_type": "stream",
     "text": [
      "List all processes List state of a process List state of all processes in a job  List all locks  List locks held by a process List locks held by all processes in a job  Clear locks held by a process  Clear locks held by all processes in a job  Logout a process  Logout all processes in a job  Clear status file for a job \n",
      "\n",
      "{'job': 5, 'Clear': 3, 'List': 6, 'by': 4, 'state': 2, 'for': 1, 'of': 2, 'a': 9, 'in': 4, 'status': 1, 'held': 4, 'file': 1, 'Logout': 2, 'process': 4, 'processes': 5, 'all': 6, 'locks': 5}\n"
     ]
    }
   ],
   "source": [
    "# Dictionary is mostly used in Counters\n",
    "sente = \"List all processes List state of a process List state of all processes in a job  List all locks  List locks held by a process \\\n",
    "List locks held by all processes in a job  Clear locks held by a process  Clear locks held by all processes in a \\\n",
    "job  Logout a process  Logout all processes in a job  Clear status file for a job\"\n",
    "print ( sente,\"\\n\")\n",
    "\n",
    "count=dict()\n",
    "words = sente.split()\n",
    "\n",
    "for word in words:\n",
    "\tcount[word] = count.get(word, 0) + 1\n",
    "print ( count)"
   ]
  },
  {
   "cell_type": "code",
   "execution_count": null,
   "metadata": {
    "collapsed": true
   },
   "outputs": [],
   "source": []
  }
 ],
 "metadata": {
  "kernelspec": {
   "display_name": "Python 3",
   "language": "python",
   "name": "python3"
  },
  "language_info": {
   "codemirror_mode": {
    "name": "ipython",
    "version": 3
   },
   "file_extension": ".py",
   "mimetype": "text/x-python",
   "name": "python",
   "nbconvert_exporter": "python",
   "pygments_lexer": "ipython3",
   "version": "3.5.2"
  }
 },
 "nbformat": 4,
 "nbformat_minor": 0
}

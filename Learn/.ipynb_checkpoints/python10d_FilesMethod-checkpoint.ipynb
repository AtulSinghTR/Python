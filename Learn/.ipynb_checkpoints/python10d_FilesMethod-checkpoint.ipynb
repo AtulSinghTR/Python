{
 "cells": [
  {
   "cell_type": "markdown",
   "metadata": {},
   "source": [
    "### Learning File - Reading file in one go\n",
    "      File should be small enough to fit into your system memory\n",
    "      If file is missing, Handle it with try and except\n",
    "**www.datagenx.net**"
   ]
  },
  {
   "cell_type": "code",
   "execution_count": 1,
   "metadata": {},
   "outputs": [],
   "source": [
    "# In below example we are going to read a file \n",
    "# Below are the assumptions, \n",
    "# the file is existing in the code directory\n",
    "\n",
    "# asking for the file name\n",
    "file_name = input(\"Enter the file name:- \")"
   ]
  },
  {
   "cell_type": "code",
   "execution_count": 2,
   "metadata": {},
   "outputs": [],
   "source": [
    "try:\n",
    "\t# opening a handler or pointer for input file\n",
    "\tfhand = open(file_name) \t\n",
    "except:\n",
    "\tprint (\"File is not existing. Please try again\")\n",
    "\texit()"
   ]
  },
  {
   "cell_type": "code",
   "execution_count": 3,
   "metadata": {},
   "outputs": [],
   "source": [
    "# reading the first 140 char from file with one statement read\t\t\n",
    "data = fhand.read(140)"
   ]
  },
  {
   "cell_type": "code",
   "execution_count": 4,
   "metadata": {},
   "outputs": [
    {
     "name": "stdout",
     "output_type": "stream",
     "text": [
      "From stephen.marquard@uct.ac.za Sat Jan  5 09:14:16 2008\n",
      "Return-Path: <postmaster@collab.sakaiproject.org>\n",
      "Received: from murder (mail.umich\n"
     ]
    }
   ],
   "source": [
    "# Above statement read the file and store the whole data (including new line)\n",
    "# as a string and stored into a variable called data\n",
    "print (data)"
   ]
  },
  {
   "cell_type": "code",
   "execution_count": 5,
   "metadata": {},
   "outputs": [],
   "source": [
    "# Counting the total \\n char in data variable\n",
    "nol = data.count(\"\\n\")+1          "
   ]
  },
  {
   "cell_type": "code",
   "execution_count": 6,
   "metadata": {},
   "outputs": [
    {
     "name": "stdout",
     "output_type": "stream",
     "text": [
      "Total line in file: 3\n",
      "Total char read: 140\n"
     ]
    }
   ],
   "source": [
    "print (\"Total line in file:\",nol)   # Printing the file data\n",
    "print (\"Total char read:\",len(data))"
   ]
  },
  {
   "cell_type": "code",
   "execution_count": 7,
   "metadata": {},
   "outputs": [
    {
     "name": "stdout",
     "output_type": "stream",
     "text": [
      "Line read by readline method: .edu [141.211.14.90])\n",
      "\n"
     ]
    }
   ],
   "source": [
    "# readline methods read a line one at a time\n",
    "# but this will read the file from the current file handler position\n",
    "data = fhand.readline()\t\n",
    "print (\"Line read by readline method:\", data)"
   ]
  },
  {
   "cell_type": "code",
   "execution_count": 8,
   "metadata": {},
   "outputs": [
    {
     "name": "stdout",
     "output_type": "stream",
     "text": [
      "Total Lines read by readlines method 1906\n"
     ]
    }
   ],
   "source": [
    "# readlines methods read all line and store as a list\n",
    "# but this will read the file from the current file handler position\n",
    "data = fhand.readlines()\n",
    "print (\"Total Lines read by readlines method\", len(data))"
   ]
  },
  {
   "cell_type": "code",
   "execution_count": 9,
   "metadata": {},
   "outputs": [
    {
     "name": "stdout",
     "output_type": "stream",
     "text": [
      "We are done with file reading\n"
     ]
    }
   ],
   "source": [
    "print (\"We are done with file reading\")"
   ]
  },
  {
   "cell_type": "code",
   "execution_count": 10,
   "metadata": {},
   "outputs": [],
   "source": [
    "# closing the file\n",
    "fhand.close()"
   ]
  },
  {
   "cell_type": "code",
   "execution_count": null,
   "metadata": {},
   "outputs": [],
   "source": []
  }
 ],
 "metadata": {
  "kernelspec": {
   "display_name": "Python 3",
   "language": "python",
   "name": "python3"
  },
  "language_info": {
   "codemirror_mode": {
    "name": "ipython",
    "version": 3
   },
   "file_extension": ".py",
   "mimetype": "text/x-python",
   "name": "python",
   "nbconvert_exporter": "python",
   "pygments_lexer": "ipython3",
   "version": "3.6.2"
  }
 },
 "nbformat": 4,
 "nbformat_minor": 2
}

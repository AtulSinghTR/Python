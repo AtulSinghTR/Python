{
 "cells": [
  {
   "cell_type": "code",
   "execution_count": 1,
   "metadata": {},
   "outputs": [],
   "source": [
    "# Exceptions\n",
    "\n",
    "import sys\n",
    "\n",
    "var1 = 6"
   ]
  },
  {
   "cell_type": "code",
   "execution_count": 8,
   "metadata": {},
   "outputs": [
    {
     "name": "stdout",
     "output_type": "stream",
     "text": [
      "\n",
      "try1\n",
      "You can not deivide by zero\n"
     ]
    }
   ],
   "source": [
    "# Multiple Except Clauses\n",
    "print (\"try1\")\n",
    "try:\n",
    "\tvar2 = input(\"Enter a value : \")\n",
    "\tprint (var1/int(var2))\n",
    "except ZeroDivisionError:\n",
    "\tprint (\"You can not deivide by zero\")\n",
    "except TypeError:\n",
    "\tprint (\"There is data type mismatch\")\n",
    "except ValueError:\n",
    "\tprint (\"Invalid conversion\")\n",
    "except KeyboardInterrupt:\n",
    "\tprint (\"\\nCancel\")\n",
    "except:\n",
    "\tprint (\"\\nUnknown exeception\")"
   ]
  },
  {
   "cell_type": "code",
   "execution_count": 11,
   "metadata": {},
   "outputs": [
    {
     "name": "stdout",
     "output_type": "stream",
     "text": [
      "\n",
      "try2\n",
      "Hi\n",
      "I've learnt about exeception\n"
     ]
    }
   ],
   "source": [
    "print (\"try2\")\n",
    "# Raising a exeception\n",
    "# Cleanup try...finally\n",
    "# finally statement always print whether there is any exeption or not\n",
    "try:\n",
    "\tprint(\"Hi\")\n",
    "    #raise ZeroDivisionError (\"Somehitng\")\n",
    "except ZeroDivisionError:\n",
    "\tprint (\"You can not deivide by zero\")\n",
    "finally:\n",
    "\tprint (\"I've learnt about exeception\")"
   ]
  },
  {
   "cell_type": "code",
   "execution_count": 27,
   "metadata": {},
   "outputs": [
    {
     "name": "stdout",
     "output_type": "stream",
     "text": [
      "try3\n",
      "You can not divide by zero -  division by zero\n"
     ]
    }
   ],
   "source": [
    "print (\"try3\")\n",
    "# Combining Exceptions into one\t\n",
    "# Customized printing\n",
    "try:\n",
    "\tvar2 = input(\"Enter a value : \")\n",
    "\tprint (var1/int(var2))\n",
    "except ZeroDivisionError as err:\n",
    "    print (\"You can not divide by zero - \", err)\n",
    "except (TypeError, ValueError):\n",
    "\tprint (\"There is Type or Value error\")\n",
    "except KeyboardInterrupt:\n",
    "\tprint (\"Cancel\")\n",
    "#except:\n",
    "#\tprint (\"Unknown exeception\")"
   ]
  },
  {
   "cell_type": "code",
   "execution_count": 25,
   "metadata": {},
   "outputs": [
    {
     "name": "stdout",
     "output_type": "stream",
     "text": [
      "try4\n",
      "<class 'ZeroDivisionError'> \n",
      " division by zero\n"
     ]
    }
   ],
   "source": [
    "print (\"try4\")\n",
    "try:\n",
    "\tprint (4/0)\n",
    "except:\n",
    "\te = sys.exc_info()[1]\n",
    "\tf = sys.exc_info()[0]\n",
    "\tprint (f,'\\n',e)"
   ]
  },
  {
   "cell_type": "code",
   "execution_count": 23,
   "metadata": {},
   "outputs": [
    {
     "name": "stdout",
     "output_type": "stream",
     "text": [
      "try5\n",
      "I/O error(2): No such file or directory\n"
     ]
    }
   ],
   "source": [
    "print (\"try5\")\n",
    "try:\n",
    "    f = open('myfile.txt')\n",
    "    s = f.readline()\n",
    "    i = int(s.strip())\n",
    "except IOError as e:\n",
    "    print (\"I/O error({0}): {1}\".format(e.errno, e.strerror))\n",
    "except ValueError:\n",
    "    print (\"Could not convert data to an integer.\")\n",
    "except:\n",
    "    print (\"Unexpected error:\", sys.exc_info()[0])\n",
    "    raise"
   ]
  },
  {
   "cell_type": "code",
   "execution_count": null,
   "metadata": {},
   "outputs": [],
   "source": []
  }
 ],
 "metadata": {
  "kernelspec": {
   "display_name": "Python 3",
   "language": "python",
   "name": "python3"
  },
  "language_info": {
   "codemirror_mode": {
    "name": "ipython",
    "version": 3
   },
   "file_extension": ".py",
   "mimetype": "text/x-python",
   "name": "python",
   "nbconvert_exporter": "python",
   "pygments_lexer": "ipython3",
   "version": "3.6.2"
  }
 },
 "nbformat": 4,
 "nbformat_minor": 2
}

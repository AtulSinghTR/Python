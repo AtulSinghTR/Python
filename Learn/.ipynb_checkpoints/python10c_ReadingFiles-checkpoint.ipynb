{
 "cells": [
  {
   "cell_type": "markdown",
   "metadata": {},
   "source": [
    "### Learning File - Reading file in one go\n",
    "    File should be small enough to fit into your system memory\n",
    "    If file is missing, Handle it with try and except\n",
    "**www.datagenx.net**\n"
   ]
  },
  {
   "cell_type": "code",
   "execution_count": 1,
   "metadata": {},
   "outputs": [],
   "source": [
    "# In below example we are going to read a file \n",
    "# Below are the assumptions, \n",
    "# the file is existing in the code directory\n",
    "\n",
    "file_name = input(\"Enter the file name:- \")        # asking for the file name"
   ]
  },
  {
   "cell_type": "code",
   "execution_count": 2,
   "metadata": {},
   "outputs": [],
   "source": [
    "try:\n",
    "\tfhand = open(file_name) \t# opening a handler or pointer for input file\n",
    "except:\n",
    "\tprint (\"File is not existing. Please try again\")\n",
    "\texit()"
   ]
  },
  {
   "cell_type": "code",
   "execution_count": 3,
   "metadata": {},
   "outputs": [],
   "source": [
    "data = fhand.read()\t               # reading the whole file with one statement read\t\n",
    "# Above statement read the file and store the whole data (including new line)\n",
    "# as a string and stored into a variable called data"
   ]
  },
  {
   "cell_type": "code",
   "execution_count": 4,
   "metadata": {},
   "outputs": [],
   "source": [
    "nol = data.count(\"\\n\")+1          # Counting the total \\n char in data variable"
   ]
  },
  {
   "cell_type": "code",
   "execution_count": 5,
   "metadata": {},
   "outputs": [
    {
     "name": "stdout",
     "output_type": "stream",
     "text": [
      "Total line in file: 1909\n",
      "We are done with file reading\n"
     ]
    }
   ],
   "source": [
    "print (\"Total line in file:\",nol)   # Printing the file data\n",
    "print (\"We are done with file reading\")"
   ]
  },
  {
   "cell_type": "code",
   "execution_count": 6,
   "metadata": {},
   "outputs": [],
   "source": [
    "#closing the file handle\n",
    "fhand.close()"
   ]
  },
  {
   "cell_type": "code",
   "execution_count": null,
   "metadata": {},
   "outputs": [],
   "source": []
  }
 ],
 "metadata": {
  "kernelspec": {
   "display_name": "Python 3",
   "language": "python",
   "name": "python3"
  },
  "language_info": {
   "codemirror_mode": {
    "name": "ipython",
    "version": 3
   },
   "file_extension": ".py",
   "mimetype": "text/x-python",
   "name": "python",
   "nbconvert_exporter": "python",
   "pygments_lexer": "ipython3",
   "version": "3.6.2"
  }
 },
 "nbformat": 4,
 "nbformat_minor": 2
}

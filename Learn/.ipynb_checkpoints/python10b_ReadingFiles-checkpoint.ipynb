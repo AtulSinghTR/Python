{
 "cells": [
  {
   "cell_type": "markdown",
   "metadata": {},
   "source": [
    "\n",
    "### Learning File - Reading files\n",
    "    If file is missing, Handle it with try and except  \n",
    "**www.datagenx.net**"
   ]
  },
  {
   "cell_type": "code",
   "execution_count": 1,
   "metadata": {},
   "outputs": [],
   "source": [
    "# In below example we are going to read a file \n",
    "# Below are the assumptions, \n",
    "# the file is existing in the code directory\n",
    "\n",
    "# asking for the file name\n",
    "file_name = input(\"Enter the file name:- \")"
   ]
  },
  {
   "cell_type": "markdown",
   "metadata": {},
   "source": [
    "    Using a try-except block to avoid any possible error"
   ]
  },
  {
   "cell_type": "code",
   "execution_count": 2,
   "metadata": {},
   "outputs": [],
   "source": [
    "try:\n",
    "\t# opening a handler or pointer for input file\n",
    "\tfhand = open(file_name) \t\n",
    "except:\n",
    "\tprint (\"File is not existing. Please try again\")\n",
    "\texit()"
   ]
  },
  {
   "cell_type": "code",
   "execution_count": 3,
   "metadata": {},
   "outputs": [],
   "source": [
    "count = 0\t\n",
    "\n",
    "# reading each line from fhand\n",
    "for line in fhand:                                     \n",
    "\tcount += 1\t\t"
   ]
  },
  {
   "cell_type": "code",
   "execution_count": 4,
   "metadata": {},
   "outputs": [
    {
     "name": "stdout",
     "output_type": "stream",
     "text": [
      "total lines in file: 1909\n",
      "We are done with file reading\n"
     ]
    }
   ],
   "source": [
    "print (\"total lines in file:\",count)\n",
    "print (\"We are done with file reading\")"
   ]
  },
  {
   "cell_type": "code",
   "execution_count": 5,
   "metadata": {},
   "outputs": [],
   "source": [
    "#closing the file handle\n",
    "fhand.close()"
   ]
  },
  {
   "cell_type": "code",
   "execution_count": null,
   "metadata": {},
   "outputs": [],
   "source": []
  }
 ],
 "metadata": {
  "kernelspec": {
   "display_name": "Python 3",
   "language": "python",
   "name": "python3"
  },
  "language_info": {
   "codemirror_mode": {
    "name": "ipython",
    "version": 3
   },
   "file_extension": ".py",
   "mimetype": "text/x-python",
   "name": "python",
   "nbconvert_exporter": "python",
   "pygments_lexer": "ipython3",
   "version": "3.6.2"
  }
 },
 "nbformat": 4,
 "nbformat_minor": 2
}

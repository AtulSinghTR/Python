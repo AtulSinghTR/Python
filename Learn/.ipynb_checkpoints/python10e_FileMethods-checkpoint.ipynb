{
 "cells": [
  {
   "cell_type": "markdown",
   "metadata": {},
   "source": [
    "### Learning File - Reading files\n",
    "    Some other methods - seek and file handler methods\n",
    "**www.datagenx.net**"
   ]
  },
  {
   "cell_type": "code",
   "execution_count": 1,
   "metadata": {},
   "outputs": [],
   "source": [
    "# In below example we are going to read a file \n",
    "# Below are the assumptions, \n",
    "# the file is existing in the code directory\n",
    "\n",
    "file_name = input(\"Enter the file name:- \")        # asking for the file name"
   ]
  },
  {
   "cell_type": "code",
   "execution_count": 2,
   "metadata": {},
   "outputs": [],
   "source": [
    "try:\n",
    "\tfhand = open(file_name) \t# opening a handler or pointer for input file\n",
    "except:\n",
    "\tprint (\"File is not existing. Please try again\")\n",
    "\texit()"
   ]
  },
  {
   "cell_type": "code",
   "execution_count": 3,
   "metadata": {},
   "outputs": [
    {
     "name": "stdout",
     "output_type": "stream",
     "text": [
      "total lines in file (1):  1909\n"
     ]
    }
   ],
   "source": [
    "count = 0\t\n",
    "for line in fhand:                                     # reading each line from fhand\n",
    "\tcount += 1\t\t\t\t\t\t\t\t\t\t   # print\n",
    "\n",
    "print (\"total lines in file (1): \", count)"
   ]
  },
  {
   "cell_type": "code",
   "execution_count": 4,
   "metadata": {},
   "outputs": [
    {
     "name": "stdout",
     "output_type": "stream",
     "text": [
      "total lines in file (2): 0\n"
     ]
    }
   ],
   "source": [
    "# fhand is working as a pointer which move to next line.\n",
    "# At this point if we want to use fhand we can't as pointer is at last line\n",
    "# let's try\n",
    "\n",
    "count = 0\t\n",
    "for line in fhand:                                     # reading each line from fhand\n",
    "\tcount += 1\t\t\t\t\t\t\t\t\t\t   # print\n",
    "\n",
    "print (\"total lines in file (2):\",count)"
   ]
  },
  {
   "cell_type": "code",
   "execution_count": 5,
   "metadata": {},
   "outputs": [
    {
     "name": "stdout",
     "output_type": "stream",
     "text": [
      "total lines in file (3): 1909\n"
     ]
    }
   ],
   "source": [
    "# Resetting the file handler pointer\n",
    "fhand.seek(0,0)                                        # seek(offset, from_which_location)\n",
    "\t\n",
    "count = 0\t\n",
    "for line in fhand:                                     # reading each line from fhand\n",
    "\tcount += 1\t\t\t\t\t\t\t\t\t\t   # print\n",
    "\n",
    "print (\"total lines in file (3):\",count)"
   ]
  },
  {
   "cell_type": "code",
   "execution_count": 6,
   "metadata": {},
   "outputs": [
    {
     "name": "stdout",
     "output_type": "stream",
     "text": [
      "Name of the file:  data/mbox.txt\n",
      "Closed or not :  False\n",
      "Opening mode :  r\n"
     ]
    }
   ],
   "source": [
    "# some file handler methods\n",
    "print (\"Name of the file: \", fhand.name)\n",
    "print (\"Closed or not : \", fhand.closed)\n",
    "print (\"Opening mode : \", fhand.mode)"
   ]
  },
  {
   "cell_type": "code",
   "execution_count": 7,
   "metadata": {},
   "outputs": [
    {
     "name": "stdout",
     "output_type": "stream",
     "text": [
      "We are done with file reading\n"
     ]
    }
   ],
   "source": [
    "print (\"We are done with file reading\")"
   ]
  },
  {
   "cell_type": "code",
   "execution_count": 8,
   "metadata": {},
   "outputs": [],
   "source": [
    "#closing the file handle\n",
    "fhand.close()"
   ]
  },
  {
   "cell_type": "code",
   "execution_count": null,
   "metadata": {},
   "outputs": [],
   "source": []
  }
 ],
 "metadata": {
  "kernelspec": {
   "display_name": "Python 3",
   "language": "python",
   "name": "python3"
  },
  "language_info": {
   "codemirror_mode": {
    "name": "ipython",
    "version": 3
   },
   "file_extension": ".py",
   "mimetype": "text/x-python",
   "name": "python",
   "nbconvert_exporter": "python",
   "pygments_lexer": "ipython3",
   "version": "3.6.2"
  }
 },
 "nbformat": 4,
 "nbformat_minor": 2
}

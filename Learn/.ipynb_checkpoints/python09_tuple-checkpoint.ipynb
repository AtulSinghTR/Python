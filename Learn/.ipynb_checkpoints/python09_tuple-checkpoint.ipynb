{
 "cells": [
  {
   "cell_type": "markdown",
   "metadata": {},
   "source": [
    "### Learning tuple\n",
    "    properties: immutable, ordered, iterable, hashable, can contain multiple data types\n",
    "\n",
    "    A tuple is a sequence of values much like a list. The values stored in a tuple can\n",
    "    be any type, and they are indexed by integers. The important difference is that\n",
    "    tuples are immutable. Tuples are also comparable and hashable so we can sort\n",
    "    lists of them and use tuples as key values in Python dictionaries (we will see this later).\n",
    "\n",
    "**http://www.datagenx.net**  \n",
    "**https://www.linkedin.com/in/atulsinghds**"
   ]
  },
  {
   "cell_type": "code",
   "execution_count": 1,
   "metadata": {
    "collapsed": false
   },
   "outputs": [
    {
     "name": "stdout",
     "output_type": "stream",
     "text": [
      "\n",
      "Creating of tuple\n",
      "Empty tuple: () ()\n"
     ]
    }
   ],
   "source": [
    "# Creating Tuples\n",
    "print ( \"\\nCreating of tuple\")\n",
    "t1 = ()\n",
    "t2 = tuple()\n",
    "\n",
    "print ( \"Empty tuple:\",t1, t2)"
   ]
  },
  {
   "cell_type": "code",
   "execution_count": 2,
   "metadata": {
    "collapsed": false
   },
   "outputs": [
    {
     "name": "stdout",
     "output_type": "stream",
     "text": [
      "Create tuple with signle element \n",
      "(1,)\n"
     ]
    }
   ],
   "source": [
    "print ( \"Create tuple with signle element \")\n",
    "t1 = (1,)\n",
    "print ( t1)"
   ]
  },
  {
   "cell_type": "code",
   "execution_count": 3,
   "metadata": {
    "collapsed": false
   },
   "outputs": [
    {
     "name": "stdout",
     "output_type": "stream",
     "text": [
      "Reading tuple : (1, 2, 3, 4, 2, 2)\n"
     ]
    }
   ],
   "source": [
    "# Viewing tuple\n",
    "t2 = (1,2,3,4, 2, 2)\n",
    "print ( \"Reading tuple :\",t2)"
   ]
  },
  {
   "cell_type": "code",
   "execution_count": 4,
   "metadata": {
    "collapsed": false
   },
   "outputs": [
    {
     "name": "stdout",
     "output_type": "stream",
     "text": [
      "Reading tuple element one by one\n",
      "1\n",
      "2\n",
      "3\n",
      "4\n",
      "2\n",
      "2\n"
     ]
    }
   ],
   "source": [
    "print ( \"Reading tuple element one by one\")\n",
    "for ele in t2:\n",
    "\tprint ( ele)"
   ]
  },
  {
   "cell_type": "code",
   "execution_count": 5,
   "metadata": {
    "collapsed": false
   },
   "outputs": [
    {
     "name": "stdout",
     "output_type": "stream",
     "text": [
      "Accessing tuple element by index\n",
      "3\n",
      "1\n"
     ]
    }
   ],
   "source": [
    "# tuples are like list but immutable, \n",
    "print ( \"Accessing tuple element by index\")\n",
    "print ( t2[2] )            # print ( 3 )\n",
    "print ( t2[0] )            # print ( 1 )"
   ]
  },
  {
   "cell_type": "code",
   "execution_count": 6,
   "metadata": {
    "collapsed": false
   },
   "outputs": [
    {
     "name": "stdout",
     "output_type": "stream",
     "text": [
      "4 1 14\n",
      "3\n",
      "0\n"
     ]
    }
   ],
   "source": [
    "# supports lot of list methods like min, max, sum etc\n",
    "print ( max(t2), min(t2), sum(t2))           # max = 4, min = 1, sum = 14\n",
    "print ( t2.count(2))                         # count of element 2 = 3\n",
    "print ( t2.index(1))                         # print ( the index of element(first occurrence) 1"
   ]
  },
  {
   "cell_type": "code",
   "execution_count": 7,
   "metadata": {
    "collapsed": false
   },
   "outputs": [
    {
     "name": "stdout",
     "output_type": "stream",
     "text": [
      "('a', 'p', 'p', 'l', 'e')\n"
     ]
    }
   ],
   "source": [
    "# can convert anything into tuple by below method\n",
    "t3 = tuple('apple')\n",
    "print ( t3 )         # (a,p,p,l,e)"
   ]
  },
  {
   "cell_type": "code",
   "execution_count": 8,
   "metadata": {
    "collapsed": false
   },
   "outputs": [
    {
     "name": "stdout",
     "output_type": "stream",
     "text": [
      "tuple are immutable, we can not modify (same as strings) the element but can replace\n"
     ]
    }
   ],
   "source": [
    "print ( \"tuple are immutable, we can not modify (same as strings) the element but can replace\")\n",
    "# t2[1]=5     this will throw a error\n",
    "# t3[2]='P'   this will throw a error"
   ]
  },
  {
   "cell_type": "code",
   "execution_count": 9,
   "metadata": {
    "collapsed": false
   },
   "outputs": [
    {
     "name": "stdout",
     "output_type": "stream",
     "text": [
      "('A', 2, 3, 4, 2, 2)\n"
     ]
    }
   ],
   "source": [
    "t2 = ('A',) + t2[1:]\n",
    "print ( t2)"
   ]
  },
  {
   "cell_type": "code",
   "execution_count": 10,
   "metadata": {
    "collapsed": false
   },
   "outputs": [
    {
     "name": "stdout",
     "output_type": "stream",
     "text": [
      "As we seen tuple supports lot of list methods but not all\n"
     ]
    }
   ],
   "source": [
    "print ( \"As we seen tuple supports lot of list methods but not all\")\n",
    "# print ( t2.sort())              # this will throw a error\n",
    "# print ( t2.append('e'))         # this will throw a error"
   ]
  },
  {
   "cell_type": "code",
   "execution_count": 11,
   "metadata": {
    "collapsed": false
   },
   "outputs": [
    {
     "name": "stdout",
     "output_type": "stream",
     "text": [
      "Because both objects have diff\n",
      "\n",
      "List methods\n",
      " ['__add__', '__class__', '__contains__', '__delattr__', '__delitem__', '__dir__', '__doc__', '__eq__', '__format__', '__ge__', '__getattribute__', '__getitem__', '__gt__', '__hash__', '__iadd__', '__imul__', '__init__', '__iter__', '__le__', '__len__', '__lt__', '__mul__', '__ne__', '__new__', '__reduce__', '__reduce_ex__', '__repr__', '__reversed__', '__rmul__', '__setattr__', '__setitem__', '__sizeof__', '__str__', '__subclasshook__', 'append', 'clear', 'copy', 'count', 'extend', 'index', 'insert', 'pop', 'remove', 'reverse', 'sort']\n",
      "\n",
      "Tuple methods\n",
      " ['__add__', '__class__', '__contains__', '__delattr__', '__dir__', '__doc__', '__eq__', '__format__', '__ge__', '__getattribute__', '__getitem__', '__getnewargs__', '__gt__', '__hash__', '__init__', '__iter__', '__le__', '__len__', '__lt__', '__mul__', '__ne__', '__new__', '__reduce__', '__reduce_ex__', '__repr__', '__rmul__', '__setattr__', '__sizeof__', '__str__', '__subclasshook__', 'count', 'index']\n"
     ]
    }
   ],
   "source": [
    "print ( \"Because both objects have diff\")\n",
    "l = list()\n",
    "print ( \"\\nList methods\\n\", dir(l))      # ignore the one which start from _\n",
    "print ( \"\\nTuple methods\\n\", dir(t2))    # ignore the one which start from _"
   ]
  },
  {
   "cell_type": "code",
   "execution_count": 12,
   "metadata": {
    "collapsed": false
   },
   "outputs": [
    {
     "name": "stdout",
     "output_type": "stream",
     "text": [
      "\n",
      " (3, 4, 3, 4)\n"
     ]
    }
   ],
   "source": [
    "# create a single tuple with elements repeated (also works with lists)\n",
    "print ( \"\\n\",(3, 4) * 2 )         # returns (3, 4, 3, 4)"
   ]
  },
  {
   "cell_type": "code",
   "execution_count": 13,
   "metadata": {
    "collapsed": false
   },
   "outputs": [
    {
     "name": "stdout",
     "output_type": "stream",
     "text": [
      "5 6\n"
     ]
    }
   ],
   "source": [
    "# tuple supports multiple var assignment in one line\n",
    "(a,b) = (5,6)\n",
    "print ( a,b )"
   ]
  },
  {
   "cell_type": "code",
   "execution_count": 14,
   "metadata": {
    "collapsed": false
   },
   "outputs": [
    {
     "name": "stdout",
     "output_type": "stream",
     "text": [
      "1 2 3\n"
     ]
    }
   ],
   "source": [
    "val = (1,2,3)\n",
    "(p,q,r) = val\n",
    "print ( p, q, r )"
   ]
  },
  {
   "cell_type": "code",
   "execution_count": 15,
   "metadata": {
    "collapsed": false
   },
   "outputs": [
    {
     "name": "stdout",
     "output_type": "stream",
     "text": [
      "5 6\n",
      "6 5\n"
     ]
    }
   ],
   "source": [
    "# this is why we can swap the no quickly\n",
    "print ( a, b )\n",
    "(a,b) = (b,a)\n",
    "print ( a,b )"
   ]
  },
  {
   "cell_type": "code",
   "execution_count": 16,
   "metadata": {
    "collapsed": false
   },
   "outputs": [
    {
     "name": "stdout",
     "output_type": "stream",
     "text": [
      "False\n",
      "True\n"
     ]
    }
   ],
   "source": [
    "# tuples are comparable, this is compare 1 by 1 element\n",
    "val2 = (1,2,4)\n",
    "print ( val > val2 )       # False, as 3 is not > 4\n",
    "print ( (1,2,3) == val )    # True"
   ]
  },
  {
   "cell_type": "code",
   "execution_count": 17,
   "metadata": {
    "collapsed": false
   },
   "outputs": [
    {
     "name": "stdout",
     "output_type": "stream",
     "text": [
      "[(10, 40), (20, 30), (20, 60)]\n"
     ]
    }
   ],
   "source": [
    "# sort a list of tuples\n",
    "tens = [(20, 60), (10, 40), (20, 30)]\n",
    "print ( sorted(tens))        # sorts by first element in tuple, then second element\n",
    "                    #   returns [(10, 40), (20, 30), (20, 60)]"
   ]
  },
  {
   "cell_type": "code",
   "execution_count": 18,
   "metadata": {
    "collapsed": false
   },
   "outputs": [
    {
     "name": "stdout",
     "output_type": "stream",
     "text": [
      "{'b': 8, 'c': 3, 'd': 2, 'a': 5}\n"
     ]
    }
   ],
   "source": [
    "# Tuples and Dictionary\n",
    "dict = {'a':5, 'd':2, 'c':3, 'b':8}\n",
    "print ( dict)"
   ]
  },
  {
   "cell_type": "code",
   "execution_count": 19,
   "metadata": {
    "collapsed": false
   },
   "outputs": [
    {
     "name": "stdout",
     "output_type": "stream",
     "text": [
      "dict_items([('b', 8), ('c', 3), ('d', 2), ('a', 5)])\n"
     ]
    }
   ],
   "source": [
    "# use dictionary item method to get the element like tuple list\n",
    "tupli = dict.items()\n",
    "print ( tupli )"
   ]
  },
  {
   "cell_type": "code",
   "execution_count": 20,
   "metadata": {
    "collapsed": false
   },
   "outputs": [
    {
     "name": "stdout",
     "output_type": "stream",
     "text": [
      "Sorting the dictionary by key\n",
      "{'b': 8, 'c': 3, 'd': 2, 'a': 5}\n"
     ]
    }
   ],
   "source": [
    "# tuple is used to sort the dictionary by key or value columns\n",
    "print ( \"Sorting the dictionary by key\")\n",
    "print ( dict )"
   ]
  },
  {
   "cell_type": "code",
   "execution_count": 21,
   "metadata": {
    "collapsed": false
   },
   "outputs": [
    {
     "name": "stdout",
     "output_type": "stream",
     "text": [
      "dict_items([('b', 8), ('c', 3), ('d', 2), ('a', 5)])\n",
      "b 8\n",
      "c 3\n",
      "d 2\n",
      "a 5\n"
     ]
    }
   ],
   "source": [
    "# convert the element to tuple\n",
    "print ( tupli )\n",
    "\n",
    "for k, v in tupli:\n",
    "\tprint ( k, v )"
   ]
  },
  {
   "cell_type": "code",
   "execution_count": 22,
   "metadata": {
    "collapsed": false
   },
   "outputs": [
    {
     "name": "stdout",
     "output_type": "stream",
     "text": [
      "Sorting the dictionary by value\n",
      "[(8, 'b'), (3, 'c'), (2, 'd'), (5, 'a')]\n",
      "[(2, 'd'), (3, 'c'), (5, 'a'), (8, 'b')]\n",
      "2 d\n",
      "3 c\n",
      "5 a\n",
      "8 b\n"
     ]
    }
   ],
   "source": [
    "print ( \"Sorting the dictionary by value\")\n",
    "# revering the dictionary element (Key:value) to (value:key)\n",
    "tupli2 = list()\n",
    "for k,v in dict.items():\n",
    "\ttupli2.append((v,k))\n",
    "print ( tupli2 )\n",
    "tupli2.sort() # sort the tuple\n",
    "print ( tupli2 )\n",
    "\n",
    "for v, k in tupli2:\n",
    "\tprint ( v, k )"
   ]
  },
  {
   "cell_type": "code",
   "execution_count": 23,
   "metadata": {
    "collapsed": false
   },
   "outputs": [
    {
     "name": "stdout",
     "output_type": "stream",
     "text": [
      "[(2, 'd'), (3, 'c'), (5, 'a'), (8, 'b')]\n"
     ]
    }
   ],
   "source": [
    "# A shorter version\n",
    "print ( sorted( [ (v,k) for k,v in dict.items() ] ))"
   ]
  },
  {
   "cell_type": "code",
   "execution_count": null,
   "metadata": {
    "collapsed": true
   },
   "outputs": [],
   "source": []
  }
 ],
 "metadata": {
  "kernelspec": {
   "display_name": "Python 3",
   "language": "python",
   "name": "python3"
  },
  "language_info": {
   "codemirror_mode": {
    "name": "ipython",
    "version": 3
   },
   "file_extension": ".py",
   "mimetype": "text/x-python",
   "name": "python",
   "nbconvert_exporter": "python",
   "pygments_lexer": "ipython3",
   "version": "3.5.2"
  }
 },
 "nbformat": 4,
 "nbformat_minor": 0
}

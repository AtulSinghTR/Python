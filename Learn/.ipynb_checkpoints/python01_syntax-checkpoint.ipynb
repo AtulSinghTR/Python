{
 "cells": [
  {
   "cell_type": "markdown",
   "metadata": {},
   "source": [
    "### Welcome to Python Learning\n",
    "### WWW.DATAGENX.NET"
   ]
  },
  {
   "cell_type": "code",
   "execution_count": 11,
   "metadata": {
    "collapsed": false
   },
   "outputs": [
    {
     "name": "stdout",
     "output_type": "stream",
     "text": [
      "Hello! Welcome to Python World!\n"
     ]
    }
   ],
   "source": [
    "print(\"Hello! Welcome to Python World!\")"
   ]
  },
  {
   "cell_type": "markdown",
   "metadata": {},
   "source": [
    "### variables \n",
    "    variable can hold any type of value ( int, float or string )"
   ]
  },
  {
   "cell_type": "code",
   "execution_count": 12,
   "metadata": {
    "collapsed": false
   },
   "outputs": [
    {
     "name": "stdout",
     "output_type": "stream",
     "text": [
      "Atul\n",
      "25\n",
      "2.0\n",
      "True\n"
     ]
    }
   ],
   "source": [
    "myName = \"Atul\"   # string data type\n",
    "myAge = 25        # integer data type\n",
    "float_no = 2.0    # float data type\n",
    "myBool = True     # boolean data type\n",
    "\n",
    "# you can print your variable with print command\n",
    "print (myName)      # o/p -> Atul\n",
    "print (myAge)       # o/p -> 25\n",
    "print (float_no)    # o/p -> 2.0\n",
    "print (myBool)"
   ]
  },
  {
   "cell_type": "markdown",
   "metadata": {},
   "source": [
    "### Simple math in python"
   ]
  },
  {
   "cell_type": "code",
   "execution_count": 13,
   "metadata": {
    "collapsed": false
   },
   "outputs": [
    {
     "name": "stdout",
     "output_type": "stream",
     "text": [
      "5.4\n",
      "9\n"
     ]
    }
   ],
   "source": [
    "print( 2 + 3.4)      #  5.4 \n",
    "print( 4 + 5 )       #  9"
   ]
  },
  {
   "cell_type": "code",
   "execution_count": 14,
   "metadata": {
    "collapsed": false
   },
   "outputs": [
    {
     "name": "stdout",
     "output_type": "stream",
     "text": [
      "2.5\n",
      "2.7699999999999996\n",
      "-0.5459999999999994\n"
     ]
    }
   ],
   "source": [
    "print( 4.5 - 2)      #  2.5\n",
    "print( 4.22 - 1.45)  #  2.77\n",
    "print( 9.454 - 10)   #  -0.546"
   ]
  },
  {
   "cell_type": "code",
   "execution_count": 15,
   "metadata": {
    "collapsed": false
   },
   "outputs": [
    {
     "name": "stdout",
     "output_type": "stream",
     "text": [
      "8\n",
      "12.8\n",
      "-9\n"
     ]
    }
   ],
   "source": [
    "print( 2 * 4 )       #  8\n",
    "print( 3.2 * 4)      #  12.8 \n",
    "print( -3 * 3)       #  -9"
   ]
  },
  {
   "cell_type": "code",
   "execution_count": 16,
   "metadata": {
    "collapsed": false
   },
   "outputs": [
    {
     "name": "stdout",
     "output_type": "stream",
     "text": [
      "5.0\n",
      "2.1\n",
      "1.5\n"
     ]
    }
   ],
   "source": [
    "print( 25 / 5)       #  5\n",
    "print( 4.2 / 2)      #  2.1\n",
    "print( 3 / 2 )       #  1 , strange !! because it is a integer division, so \n",
    "                   #  python trimmed the decimal part ( in python 2.x  version int/int = int )"
   ]
  },
  {
   "cell_type": "code",
   "execution_count": 17,
   "metadata": {
    "collapsed": false
   },
   "outputs": [
    {
     "name": "stdout",
     "output_type": "stream",
     "text": [
      "1.5\n",
      "1\n",
      "1.5\n",
      "1.5\n"
     ]
    }
   ],
   "source": [
    "print( 3 / 2 )       # 1.5  in Python 3.x or higher\n",
    "print( 3 // 2)       # 1    in python 3.x or higher to achive python 2.x int divesion functionality\n",
    "print( 3.0 / 2)      # 1.5  \n",
    "print( 3 / 2.0)      # 1.5"
   ]
  },
  {
   "cell_type": "code",
   "execution_count": 18,
   "metadata": {
    "collapsed": false
   },
   "outputs": [
    {
     "name": "stdout",
     "output_type": "stream",
     "text": [
      "9\n",
      "2.0\n",
      "0.0625\n"
     ]
    }
   ],
   "source": [
    "print( 3 ** 2)       # 9   power function\n",
    "print( 4 ** 0.5)     # 2.0  sqre root\n",
    "print( 4 ** -2)      # 0.0625"
   ]
  },
  {
   "cell_type": "code",
   "execution_count": 19,
   "metadata": {
    "collapsed": false
   },
   "outputs": [
    {
     "name": "stdout",
     "output_type": "stream",
     "text": [
      "1\n"
     ]
    }
   ],
   "source": [
    "print( 3 % 2 )       # 1"
   ]
  },
  {
   "cell_type": "code",
   "execution_count": 20,
   "metadata": {
    "collapsed": false
   },
   "outputs": [
    {
     "name": "stdout",
     "output_type": "stream",
     "text": [
      "4250.0\n"
     ]
    }
   ],
   "source": [
    "# Example calculation\n",
    "# calculate the simple interest   SI = P *  R * T / 100\n",
    "# where P - Pricipal amount, R - Rate of Interest, T - Tenure, \n",
    "\n",
    "P = 10000\n",
    "R = 8.5\n",
    "T = 5\n",
    "SI = P * R * T / 100\n",
    "print (SI)\n",
    "\n",
    "\n",
    "# Thanks\n",
    "# Atul Singh\n",
    "# You can drop me a mail at below address for any queries or help\n",
    "# atul@datagenx.net"
   ]
  }
 ],
 "metadata": {
  "kernelspec": {
   "display_name": "Python 3",
   "language": "python",
   "name": "python3"
  },
  "language_info": {
   "codemirror_mode": {
    "name": "ipython",
    "version": 3
   },
   "file_extension": ".py",
   "mimetype": "text/x-python",
   "name": "python",
   "nbconvert_exporter": "python",
   "pygments_lexer": "ipython3",
   "version": "3.5.2"
  }
 },
 "nbformat": 4,
 "nbformat_minor": 2
}

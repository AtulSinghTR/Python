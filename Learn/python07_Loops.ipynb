{
 "cells": [
  {
   "cell_type": "markdown",
   "metadata": {},
   "source": [
    "\n",
    "### Learning Loops & Iteration\n",
    "**Loops are actually repeated steps**  \n",
    "\n",
    "**www.datagenx.net**\n"
   ]
  },
  {
   "cell_type": "code",
   "execution_count": 1,
   "metadata": {
    "collapsed": false
   },
   "outputs": [
    {
     "name": "stdout",
     "output_type": "stream",
     "text": [
      "Hello! Welcome to Python 5 tutorial Script\n",
      "Learning Loops & Iteration\n"
     ]
    }
   ],
   "source": [
    "print ( \"Hello! Welcome to Python 5 tutorial Script\")\n",
    "print ( \"Learning Loops & Iteration\")"
   ]
  },
  {
   "cell_type": "code",
   "execution_count": 2,
   "metadata": {
    "collapsed": false
   },
   "outputs": [
    {
     "name": "stdout",
     "output_type": "stream",
     "text": [
      "range(0, 4)\n",
      "range(2, 7)\n",
      "range(2, 15, 2)\n"
     ]
    }
   ],
   "source": [
    "# generate sequence range(start[,end, stride])\n",
    "print ( range(4))    #0,1,2,3\n",
    "print ( range(2,7))  #2,3,4,5,6\n",
    "print ( range(2,15,2))  #2,4,6,8,10,12,14"
   ]
  },
  {
   "cell_type": "code",
   "execution_count": 3,
   "metadata": {
    "collapsed": false
   },
   "outputs": [
    {
     "name": "stdout",
     "output_type": "stream",
     "text": [
      "[0, 1, 2, 3]\n",
      "[2, 3, 4, 5, 6]\n",
      "[2, 4, 6, 8, 10, 12, 14]\n"
     ]
    }
   ],
   "source": [
    "print ( list(range(4)))    #0,1,2,3\n",
    "print ( list(range(2,7)))  #2,3,4,5,6\n",
    "print ( list(range(2,15,2)))  #2,4,6,8,10,12,14"
   ]
  },
  {
   "cell_type": "markdown",
   "metadata": {},
   "source": [
    "    #Every loop must need these 3 things one way or other to limit its execution\n",
    "    #initialization, check, next level\n",
    "\n",
    "    # REMEMBER there is no {} or () to bind the code as we do in C or C++\n",
    "    # In python indent is necessary to achieve the same\n",
    "\n",
    "    #while loop\n",
    "    #While loops are called “indefinite loops” because they keep going until a logical condition becomes False"
   ]
  },
  {
   "cell_type": "code",
   "execution_count": 4,
   "metadata": {
    "collapsed": false
   },
   "outputs": [
    {
     "name": "stdout",
     "output_type": "stream",
     "text": [
      "5\n",
      "4\n",
      "3\n",
      "2\n",
      "1\n"
     ]
    }
   ],
   "source": [
    "no = 5  #initialization\n",
    "while no>0:    # check\n",
    "\tprint ( no )\n",
    "\tno = no -1 # next level\n",
    "\t"
   ]
  },
  {
   "cell_type": "code",
   "execution_count": 5,
   "metadata": {
    "collapsed": false
   },
   "outputs": [
    {
     "name": "stdout",
     "output_type": "stream",
     "text": [
      "APPLE\n",
      "BANANA\n",
      "CHERRY\n",
      "PAPAYA\n",
      "ORANGE\n"
     ]
    }
   ],
   "source": [
    "#for loop\n",
    "#for loops are called “definite loops” because they execute an exact number of times\n",
    "\n",
    "# for loop (not recommended)\n",
    "fruits = ['apple', 'banana', 'cherry', 'papaya','orange',]\n",
    "for i in range(len(fruits)):        # i = iteration variable\n",
    "    print ( fruits[i].upper())"
   ]
  },
  {
   "cell_type": "code",
   "execution_count": 6,
   "metadata": {
    "collapsed": false
   },
   "outputs": [
    {
     "name": "stdout",
     "output_type": "stream",
     "text": [
      "APPLE\n",
      "BANANA\n",
      "CHERRY\n",
      "PAPAYA\n",
      "ORANGE\n"
     ]
    }
   ],
   "source": [
    "# alternative for loop (recommended style)\n",
    "for fruit in fruits:\n",
    "    print ( fruit.upper())"
   ]
  },
  {
   "cell_type": "code",
   "execution_count": 7,
   "metadata": {
    "collapsed": false
   },
   "outputs": [
    {
     "data": {
      "text/plain": [
       "\"\\n# Infinite loop\\n# I've commented out this piece of code coz this is a example of infinite loop\\n# Put the below code piece in another file and tye to run and see the result\\n# Use Ctrl-C or Ctrl-Z to kill the process\\n\\nn = 3\\nwhile n > 0 :\\n\\tprint ( 'Atul’\\n\\tprint ( 'Singh'\\nprint ( 'The End'    #this statement is never gonna run as we missed the iteration step (increment or decrement)\\n\\n\""
      ]
     },
     "execution_count": 7,
     "metadata": {},
     "output_type": "execute_result"
    }
   ],
   "source": [
    "\n",
    "\"\"\"\n",
    "# Infinite loop\n",
    "# I've commented out this piece of code coz this is a example of infinite loop\n",
    "# Put the below code piece in another file and tye to run and see the result\n",
    "# Use Ctrl-C or Ctrl-Z to kill the process\n",
    "\n",
    "n = 3\n",
    "while n > 0 :\n",
    "\tprint ( 'Atul’\n",
    "\tprint ( 'Singh'\n",
    "print ( 'The End'    #this statement is never gonna run as we missed the iteration step (increment or decrement)\n",
    "\n",
    "\"\"\""
   ]
  },
  {
   "cell_type": "code",
   "execution_count": 8,
   "metadata": {
    "collapsed": false
   },
   "outputs": [
    {
     "name": "stdout",
     "output_type": "stream",
     "text": [
      "name Priya\n",
      "clas 9\n",
      "rollno 24\n"
     ]
    }
   ],
   "source": [
    "# iterate through two things at once (using tuple unpacking)\n",
    "stu = {'name':'Priya', 'clas':'9', 'rollno':24}\n",
    "for key, value in stu.items():\n",
    "    print ( key, value)"
   ]
  },
  {
   "cell_type": "code",
   "execution_count": 9,
   "metadata": {
    "collapsed": false
   },
   "outputs": [
    {
     "name": "stdout",
     "output_type": "stream",
     "text": [
      "0 apple\n",
      "1 banana\n",
      "2 cherry\n",
      "3 papaya\n",
      "4 orange\n"
     ]
    }
   ],
   "source": [
    "# use enumerate if you need to access the index value within the loop\n",
    "for index, fruit in enumerate(fruits):\n",
    "    print ( index, fruit)"
   ]
  },
  {
   "cell_type": "code",
   "execution_count": 10,
   "metadata": {
    "collapsed": false
   },
   "outputs": [
    {
     "name": "stdout",
     "output_type": "stream",
     "text": [
      "\n",
      "Got : apple\n",
      "Got : banana\n",
      "Found the banana!\n",
      "Got : cherry\n",
      "Got : papaya\n",
      "Got : orange\n"
     ]
    }
   ],
   "source": [
    "# for loop\n",
    "print ( \"\")\n",
    "for fruit in fruits:\n",
    "    print ( \"Got :\",fruit)  #this will print ( all the fruit we have gone through\n",
    "    if fruit == 'banana':   #this loop will run for all the value \n",
    "        print ( \"Found the banana!\")"
   ]
  },
  {
   "cell_type": "code",
   "execution_count": 11,
   "metadata": {
    "collapsed": false
   },
   "outputs": [
    {
     "name": "stdout",
     "output_type": "stream",
     "text": [
      "2\n",
      "3\n",
      "4\n",
      "5\n"
     ]
    }
   ],
   "source": [
    "# Breaking out of a loop\n",
    "# the break statement ends the current loop and move to statement which follow the loop\n",
    "inp=2\n",
    "while True:\n",
    "\tprint ( inp)\n",
    "\tif inp==5:  # this will check the value of inp var\n",
    "\t\tbreak   # this will break the current loop and move to next statement\n",
    "\tinp=inp+1\n",
    "\t"
   ]
  },
  {
   "cell_type": "code",
   "execution_count": 12,
   "metadata": {
    "collapsed": false
   },
   "outputs": [
    {
     "name": "stdout",
     "output_type": "stream",
     "text": [
      "Got : apple\n",
      "Got : banana\n",
      "Found the banana!\n"
     ]
    }
   ],
   "source": [
    "# for/else loop\n",
    "for fruit in fruits:\n",
    "    print ( \"Got :\",fruit)  #this will print ( all the fruit we have gone through\n",
    "    if fruit == 'banana':   #this will run until the banana is found \n",
    "        print ( \"Found the banana!\")\n",
    "        break   # exit the loop and skip the 'else' block\n",
    "else:\n",
    "    # this block executes ONLY if the for loop completes without hitting 'break'\n",
    "\tprint ( \"Can't find the banana\")"
   ]
  },
  {
   "cell_type": "code",
   "execution_count": 13,
   "metadata": {
    "collapsed": false
   },
   "outputs": [
    {
     "data": {
      "text/plain": [
       "\"\\n# Put the below code piece in another file and tye to run and see the result\\n# Use Ctrl-C or Ctrl-Z to kill the process\\n\\nwhile True:\\n\\tline = raw_input('Enter anything or done: ')\\n\\tif line == 'done' :\\n\\t\\tbreak\\n\\tprint ( line\\nprint ( 'Done!'\\n\\n\""
      ]
     },
     "execution_count": 13,
     "metadata": {},
     "output_type": "execute_result"
    }
   ],
   "source": [
    "\"\"\"\n",
    "# Put the below code piece in another file and tye to run and see the result\n",
    "# Use Ctrl-C or Ctrl-Z to kill the process\n",
    "\n",
    "while True:\n",
    "\tline = raw_input('Enter anything or done: ')\n",
    "\tif line == 'done' :\n",
    "\t\tbreak\n",
    "\tprint ( line\n",
    "print ( 'Done!'\n",
    "\n",
    "\"\"\""
   ]
  },
  {
   "cell_type": "code",
   "execution_count": 14,
   "metadata": {
    "collapsed": false
   },
   "outputs": [
    {
     "name": "stdout",
     "output_type": "stream",
     "text": [
      "Got : apple\n",
      "Got : banana\n",
      "We are looking for a fruit Banana\n",
      "Got : cherry\n",
      "Got : papaya\n",
      "Got : orange\n"
     ]
    }
   ],
   "source": [
    "# Skipping the Iteration with continue\n",
    "# The continue statement ends the current iteration and jumps to the top of the loop and starts the next iteration\n",
    "for fruit in fruits:\n",
    "    print ( \"Got :\",fruit)  #this will print ( all the fruit we have gone through\n",
    "    if fruit != 'banana':   #this will run until the banana is found \n",
    "        continue            #this statement is skip the next statement in this loop\n",
    "    print ( \"We are looking for a fruit Banana\")"
   ]
  },
  {
   "cell_type": "code",
   "execution_count": 15,
   "metadata": {
    "collapsed": false
   },
   "outputs": [
    {
     "data": {
      "text/plain": [
       "\"\\n# Put the below code piece in another file and tye to run and see the result\\n# Use Ctrl-C or Ctrl-Z to kill the process\\n\\nwhile True:\\n\\tline = raw_input('Enter anything or # or done: ')\\n\\tif line[0] == '#' :\\n\\t\\tcontinue\\n\\tif line == 'done' :\\n\\t\\tbreak\\n\\tprint ( line\\nprint ( 'Done!'\\n\""
      ]
     },
     "execution_count": 15,
     "metadata": {},
     "output_type": "execute_result"
    }
   ],
   "source": [
    "\"\"\"\n",
    "# Put the below code piece in another file and tye to run and see the result\n",
    "# Use Ctrl-C or Ctrl-Z to kill the process\n",
    "\n",
    "while True:\n",
    "\tline = raw_input('Enter anything or # or done: ')\n",
    "\tif line[0] == '#' :\n",
    "\t\tcontinue\n",
    "\tif line == 'done' :\n",
    "\t\tbreak\n",
    "\tprint ( line\n",
    "print ( 'Done!'\n",
    "\"\"\""
   ]
  },
  {
   "cell_type": "code",
   "execution_count": null,
   "metadata": {
    "collapsed": true
   },
   "outputs": [],
   "source": []
  }
 ],
 "metadata": {
  "kernelspec": {
   "display_name": "Python 3",
   "language": "python",
   "name": "python3"
  },
  "language_info": {
   "codemirror_mode": {
    "name": "ipython",
    "version": 3
   },
   "file_extension": ".py",
   "mimetype": "text/x-python",
   "name": "python",
   "nbconvert_exporter": "python",
   "pygments_lexer": "ipython3",
   "version": "3.5.2"
  }
 },
 "nbformat": 4,
 "nbformat_minor": 0
}

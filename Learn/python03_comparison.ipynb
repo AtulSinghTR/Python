{
 "cells": [
  {
   "cell_type": "code",
   "execution_count": 20,
   "metadata": {
    "collapsed": false
   },
   "outputs": [
    {
     "data": {
      "text/plain": [
       "'\\nAtul Singh\\nwww.datagenx.net\\n'"
      ]
     },
     "execution_count": 20,
     "metadata": {},
     "output_type": "execute_result"
    }
   ],
   "source": [
    "\"\"\"\n",
    "Atul Singh\n",
    "www.datagenx.net\n",
    "\"\"\""
   ]
  },
  {
   "cell_type": "code",
   "execution_count": 21,
   "metadata": {
    "collapsed": false
   },
   "outputs": [
    {
     "name": "stdout",
     "output_type": "stream",
     "text": [
      "\n",
      "\n",
      "Welcome to Python point 3 - Comparison\n",
      "\n",
      "\n"
     ]
    }
   ],
   "source": [
    "print (\"\\n\")\n",
    "print (\"Welcome to Python point 3 - Comparison\")\n",
    "print (\"\\n\")"
   ]
  },
  {
   "cell_type": "code",
   "execution_count": 22,
   "metadata": {
    "collapsed": false
   },
   "outputs": [
    {
     "name": "stdout",
     "output_type": "stream",
     "text": [
      "Comparison Operator\n",
      "Equal to (==)\n",
      "Not equal to (!=)\n",
      "Not equal to (<>)\n",
      "Less than (<)\n",
      "Less than or equal to (<=)\n",
      "Greater than (>)\n",
      "Greater than or equal to (>=)\n"
     ]
    }
   ],
   "source": [
    "# Comparison : In mathematics we compare two or more than two values and give result\n",
    "# whether it is TRUE or FALSE, YES or NO. The same we are goino learn in python ( or any programming language )\n",
    "\n",
    "print ( \"Comparison Operator\")\n",
    "print ( \"Equal to (==)\")\n",
    "print ( \"Not equal to (!=)\")\n",
    "print ( \"Not equal to (<>)\")\n",
    "print ( \"Less than (<)\")\n",
    "print ( \"Less than or equal to (<=)\")\n",
    "print ( \"Greater than (>)\")\n",
    "print ( \"Greater than or equal to (>=)\")\n"
   ]
  },
  {
   "cell_type": "code",
   "execution_count": 23,
   "metadata": {
    "collapsed": false
   },
   "outputs": [
    {
     "name": "stdout",
     "output_type": "stream",
     "text": [
      "False\n",
      "True\n",
      "False\n",
      "True\n",
      "True\n",
      "True\n"
     ]
    }
   ],
   "source": [
    "print ( 3 > 4 )        # False\n",
    "print ( -3 < 2 )       # True\n",
    "print ( 5 == -5 )      # False\n",
    "print ( 4 >= 3 )       # True\n",
    "print ( 4 != 5 )       # True\n",
    "print ( 8 == 8.0 )     # True"
   ]
  },
  {
   "cell_type": "code",
   "execution_count": 24,
   "metadata": {
    "collapsed": false
   },
   "outputs": [
    {
     "name": "stdout",
     "output_type": "stream",
     "text": [
      "False\n",
      "True\n"
     ]
    }
   ],
   "source": [
    "val1 = 5\n",
    "val2 = -2\n",
    "val3 = 0\n",
    "val4 = 0.1\n",
    "\n",
    "print ( val3 > val4 )   # False\n",
    "print ( val2 <= val4 )  # True"
   ]
  },
  {
   "cell_type": "code",
   "execution_count": 25,
   "metadata": {
    "collapsed": false
   },
   "outputs": [
    {
     "name": "stdout",
     "output_type": "stream",
     "text": [
      "\n",
      "\n",
      "Boolean Operator\n",
      "It compare statements whether they are true or nor\n",
      "or - Return True if anyone is True\n",
      "and - Return True if and if only ALL are True else False\n",
      "not - Invert the current value, True if False\n",
      "Priority if mixed - Not, And , Or\n"
     ]
    }
   ],
   "source": [
    "print ( \"\\n\\nBoolean Operator\")\n",
    "print ( \"It compare statements whether they are true or nor\")\n",
    "print ( \"or - Return True if anyone is True\")\n",
    "print ( \"and - Return True if and if only ALL are True else False\")\n",
    "print ( \"not - Invert the current value, True if False\")\n",
    "print ( \"Priority if mixed - Not, And , Or\")"
   ]
  },
  {
   "cell_type": "code",
   "execution_count": 26,
   "metadata": {
    "collapsed": false
   },
   "outputs": [
    {
     "name": "stdout",
     "output_type": "stream",
     "text": [
      "True\n",
      "True\n"
     ]
    }
   ],
   "source": [
    "\"\"\"\n",
    "OR table - \n",
    "True or True     ->    True\n",
    "True or False    ->    True\n",
    "False or True    ->    True\n",
    "False or False   ->    False\n",
    "\"\"\"\n",
    "print ( 2 > 1 or 2 < 1  )       \t\t# True,  True or False \n",
    "print ( 3 > 1 or 4 > 9  )             # True,  True or True"
   ]
  },
  {
   "cell_type": "code",
   "execution_count": 27,
   "metadata": {
    "collapsed": false
   },
   "outputs": [
    {
     "name": "stdout",
     "output_type": "stream",
     "text": [
      "False\n",
      "False\n"
     ]
    }
   ],
   "source": [
    "\"\"\"\n",
    "AND table - \n",
    "True and True     ->    True\n",
    "True and False    ->    False\n",
    "False and True    ->    False\n",
    "False and False   ->    False\n",
    "\"\"\"\n",
    "print ( 2 > 1 and 2 < 1  )       \t\t # False,  True or False \n",
    "print ( 3 > 1 and 4 > 9  )              # True,  True or True"
   ]
  },
  {
   "cell_type": "code",
   "execution_count": 28,
   "metadata": {
    "collapsed": false
   },
   "outputs": [
    {
     "name": "stdout",
     "output_type": "stream",
     "text": [
      "False\n",
      "True\n"
     ]
    }
   ],
   "source": [
    "\"\"\"\n",
    "Not table - \n",
    "Not True   ->    False\n",
    "Not False  ->    True\n",
    "\"\"\"\n",
    "print ( not 2 > 1  )       \t\t# False, Not True  \n",
    "print ( not 3 > 9  )               # True,  Not False "
   ]
  },
  {
   "cell_type": "code",
   "execution_count": 29,
   "metadata": {
    "collapsed": false
   },
   "outputs": [
    {
     "name": "stdout",
     "output_type": "stream",
     "text": [
      "\n",
      "Mixing Boolean Operator\n",
      "True\n"
     ]
    }
   ],
   "source": [
    "print ( \"\\nMixing Boolean Operator\")\n",
    "print ( (2>1) and (not 2> 4) or (7 == 7))       # True, True and (not False) or True"
   ]
  },
  {
   "cell_type": "code",
   "execution_count": 30,
   "metadata": {
    "collapsed": true
   },
   "outputs": [],
   "source": [
    "# Atul Singh\n",
    "# www.datagenx.net"
   ]
  }
 ],
 "metadata": {
  "kernelspec": {
   "display_name": "Python 3",
   "language": "python",
   "name": "python3"
  },
  "language_info": {
   "codemirror_mode": {
    "name": "ipython",
    "version": 3
   },
   "file_extension": ".py",
   "mimetype": "text/x-python",
   "name": "python",
   "nbconvert_exporter": "python",
   "pygments_lexer": "ipython3",
   "version": "3.5.2"
  }
 },
 "nbformat": 4,
 "nbformat_minor": 0
}

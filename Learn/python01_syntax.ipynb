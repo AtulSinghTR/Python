{
 "cells": [
  {
   "cell_type": "markdown",
   "metadata": {},
   "source": [
    "### Welcome to Python Learning\n",
    "### WWW.DATAGENX.NET"
   ]
  },
  {
   "cell_type": "code",
   "execution_count": 24,
   "metadata": {
    "collapsed": false
   },
   "outputs": [
    {
     "name": "stdout",
     "output_type": "stream",
     "text": [
      "Hello! Welcome to Python World!\n"
     ]
    }
   ],
   "source": [
    "print(\"Hello! Welcome to Python World!\")"
   ]
  },
  {
   "cell_type": "markdown",
   "metadata": {},
   "source": [
    "** variables **  \n",
    "    variable can hold any type of value ( int, float or string )"
   ]
  },
  {
   "cell_type": "code",
   "execution_count": 25,
   "metadata": {
    "collapsed": false
   },
   "outputs": [
    {
     "name": "stdout",
     "output_type": "stream",
     "text": [
      "Atul\n",
      "25\n",
      "2.0\n",
      "True\n"
     ]
    }
   ],
   "source": [
    "myName = \"Atul\"   # string data type\n",
    "myAge = 25        # integer data type\n",
    "float_no = 2.0    # float data type\n",
    "myBool = True     # boolean data type\n",
    "\n",
    "# you can print your variable with print command\n",
    "print (myName)      # o/p -> Atul\n",
    "print (myAge)       # o/p -> 25\n",
    "print (float_no)    # o/p -> 2.0\n",
    "print (myBool)"
   ]
  },
  {
   "cell_type": "code",
   "execution_count": null,
   "metadata": {
    "collapsed": true
   },
   "outputs": [],
   "source": [
    "# Simple math in python\n",
    "print 2 + 3.4      #  5.4 \n",
    "print 4 + 5        #  9\n",
    "\n",
    "print 4.5 - 2      #  2.5\n",
    "print 4.22 - 1.45  #  2.77\n",
    "print 9.454 - 10   #  -0.546\n",
    "\n",
    "print 2 * 4        #  8\n",
    "print 3.2 * 4      #  12.8 \n",
    "print -3 * 3       #  -9\n",
    "\n",
    "print 25 / 5       #  5\n",
    "print 4.2 / 2      #  2.1\n",
    "print 3 / 2        #  1 , strange !! because it is a integer division, so \n",
    "                   #  python trimmed the decimal part ( in python 2.x  version int/int = int )\n",
    "print 3 / 2        # 1.5  in Python 3.x or higher\n",
    "print 3 // 2       # 1    in python 3.x or higher to achive python 2.x int divesion functionality\n",
    "print 3.0 / 2      # 1.5  \n",
    "print 3 / 2.0      # 1.5\n",
    "\n",
    "print 3 ** 2       # 9   power function\n",
    "print 4 ** 0.5     # 2.0  sqre root\n",
    "print 4 ** -2      # 0.0625\n",
    "\n",
    "print 3 % 2        # 1"
   ]
  },
  {
   "cell_type": "code",
   "execution_count": 23,
   "metadata": {
    "collapsed": false
   },
   "outputs": [
    {
     "ename": "SyntaxError",
     "evalue": "Missing parentheses in call to 'print' (<ipython-input-23-2f21e82865fb>, line 9)",
     "output_type": "error",
     "traceback": [
      "\u001b[1;36m  File \u001b[1;32m\"<ipython-input-23-2f21e82865fb>\"\u001b[1;36m, line \u001b[1;32m9\u001b[0m\n\u001b[1;33m    print myName      # o/p -> Atul\u001b[0m\n\u001b[1;37m               ^\u001b[0m\n\u001b[1;31mSyntaxError\u001b[0m\u001b[1;31m:\u001b[0m Missing parentheses in call to 'print'\n"
     ]
    }
   ],
   "source": [
    "# Example calculation\n",
    "# calculate the simple interest   SI = P *  R * T / 100\n",
    "# where P - Pricipal amount, R - Rate of Interest, T - Tenure, \n",
    "\n",
    "P = 10000\n",
    "R = 8.5\n",
    "T = 5\n",
    "SI = P * R * T / 100\n",
    "print SI\n",
    "\n",
    "\n",
    "# Thanks\n",
    "# Atul Singh\n",
    "# You can drop me a mail at below address for any queries or help\n",
    "# atul@datagenx.net"
   ]
  },
  {
   "cell_type": "code",
   "execution_count": 2,
   "metadata": {
    "collapsed": false
   },
   "outputs": [
    {
     "data": {
      "text/plain": [
       "'atul'"
      ]
     },
     "execution_count": 2,
     "metadata": {},
     "output_type": "execute_result"
    }
   ],
   "source": [
    "name"
   ]
  },
  {
   "cell_type": "code",
   "execution_count": 3,
   "metadata": {
    "collapsed": false
   },
   "outputs": [
    {
     "data": {
      "text/plain": [
       "26"
      ]
     },
     "execution_count": 3,
     "metadata": {},
     "output_type": "execute_result"
    }
   ],
   "source": [
    "age"
   ]
  },
  {
   "cell_type": "code",
   "execution_count": 4,
   "metadata": {
    "collapsed": false
   },
   "outputs": [
    {
     "data": {
      "text/plain": [
       "'2.0'"
      ]
     },
     "execution_count": 4,
     "metadata": {},
     "output_type": "execute_result"
    }
   ],
   "source": [
    "cls"
   ]
  },
  {
   "cell_type": "code",
   "execution_count": 5,
   "metadata": {
    "collapsed": false
   },
   "outputs": [
    {
     "name": "stdout",
     "output_type": "stream",
     "text": [
      "atul\n"
     ]
    }
   ],
   "source": [
    "print(name)"
   ]
  },
  {
   "cell_type": "code",
   "execution_count": 6,
   "metadata": {
    "collapsed": false
   },
   "outputs": [
    {
     "name": "stdout",
     "output_type": "stream",
     "text": [
      "2.0\n"
     ]
    }
   ],
   "source": [
    "print(cls)"
   ]
  },
  {
   "cell_type": "code",
   "execution_count": 17,
   "metadata": {
    "collapsed": false
   },
   "outputs": [
    {
     "name": "stdout",
     "output_type": "stream",
     "text": [
      "0\n",
      "1\n",
      "2\n",
      "3\n",
      "4\n",
      "5\n",
      "6\n",
      "7\n"
     ]
    },
    {
     "data": {
      "text/plain": [
       "4"
      ]
     },
     "execution_count": 17,
     "metadata": {},
     "output_type": "execute_result"
    }
   ],
   "source": [
    "for i in [0,1,2,3,4,5,6,7]:\n",
    "    print(i)\n",
    "    \n",
    "i = 4\n",
    "i"
   ]
  },
  {
   "cell_type": "code",
   "execution_count": 22,
   "metadata": {
    "collapsed": false
   },
   "outputs": [
    {
     "name": "stdout",
     "output_type": "stream",
     "text": [
      "hi\n",
      "atul\n"
     ]
    }
   ],
   "source": [
    "i = 4\n",
    "if (i < 7):\n",
    "    print(\"hi\")\n",
    "    print(\"atul\")\n",
    "else:\n",
    "    print(\"Ankit\")"
   ]
  },
  {
   "cell_type": "code",
   "execution_count": null,
   "metadata": {
    "collapsed": true
   },
   "outputs": [],
   "source": [
    "[0, 1,2, 3]"
   ]
  }
 ],
 "metadata": {
  "kernelspec": {
   "display_name": "Python 3",
   "language": "python",
   "name": "python3"
  },
  "language_info": {
   "codemirror_mode": {
    "name": "ipython",
    "version": 3
   },
   "file_extension": ".py",
   "mimetype": "text/x-python",
   "name": "python",
   "nbconvert_exporter": "python",
   "pygments_lexer": "ipython3",
   "version": "3.5.2"
  }
 },
 "nbformat": 4,
 "nbformat_minor": 0
}

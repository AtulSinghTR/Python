{
 "cells": [
  {
   "cell_type": "code",
   "execution_count": 1,
   "metadata": {
    "collapsed": true
   },
   "outputs": [],
   "source": [
    "# Atul Singh\n",
    "# www.datagenx.net"
   ]
  },
  {
   "cell_type": "code",
   "execution_count": 2,
   "metadata": {
    "collapsed": false
   },
   "outputs": [
    {
     "name": "stdout",
     "output_type": "stream",
     "text": [
      "Python Points 4 - Conditional\n"
     ]
    }
   ],
   "source": [
    "print (\"Python Points 4 - Conditional\")"
   ]
  },
  {
   "cell_type": "code",
   "execution_count": 3,
   "metadata": {
    "collapsed": false
   },
   "outputs": [
    {
     "name": "stdout",
     "output_type": "stream",
     "text": [
      "var is greater than 34\n"
     ]
    }
   ],
   "source": [
    "var = 45\n",
    "\n",
    "# If Condition\n",
    "if var > 34 :\n",
    "\tprint (\"var is greater than 34\")"
   ]
  },
  {
   "cell_type": "code",
   "execution_count": 4,
   "metadata": {
    "collapsed": false
   },
   "outputs": [
    {
     "name": "stdout",
     "output_type": "stream",
     "text": [
      "lesser than 63\n"
     ]
    }
   ],
   "source": [
    "# If Else Condition\n",
    "if var > 63 :\n",
    "\tprint (\"var is greater than 34\")\n",
    "else :\n",
    "\tprint (\"lesser than 63\")"
   ]
  },
  {
   "cell_type": "code",
   "execution_count": 5,
   "metadata": {
    "collapsed": false
   },
   "outputs": [
    {
     "name": "stdout",
     "output_type": "stream",
     "text": [
      "We are in elif Condition\n"
     ]
    }
   ],
   "source": [
    "# If Elif Else Condition\n",
    "if var > 63 :\n",
    "\tprint (\"We are in If Condition\")\n",
    "elif var == 45 :\n",
    "\tprint (\"We are in elif Condition\")\n",
    "else :\n",
    "\tprint (\"We are in Else Condition\")"
   ]
  },
  {
   "cell_type": "code",
   "execution_count": 6,
   "metadata": {
    "collapsed": false
   },
   "outputs": [
    {
     "name": "stdout",
     "output_type": "stream",
     "text": [
      "If one liner\n",
      "Condition True\n"
     ]
    }
   ],
   "source": [
    "# If one liner \n",
    "if var < 65 : print (\"If one liner\")\n",
    "\n",
    "\n",
    "# If Else one liner\n",
    "print( \"Condition True\" if var < 65 else \"Condition False\")\n",
    "\n",
    "\n",
    "# Atul Singh\n",
    "# www.datagenx.net"
   ]
  },
  {
   "cell_type": "code",
   "execution_count": null,
   "metadata": {
    "collapsed": true
   },
   "outputs": [],
   "source": []
  }
 ],
 "metadata": {
  "kernelspec": {
   "display_name": "Python 3",
   "language": "python",
   "name": "python3"
  },
  "language_info": {
   "codemirror_mode": {
    "name": "ipython",
    "version": 3
   },
   "file_extension": ".py",
   "mimetype": "text/x-python",
   "name": "python",
   "nbconvert_exporter": "python",
   "pygments_lexer": "ipython3",
   "version": "3.5.2"
  }
 },
 "nbformat": 4,
 "nbformat_minor": 0
}

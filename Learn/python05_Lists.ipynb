{
 "cells": [
  {
   "cell_type": "code",
   "execution_count": 1,
   "metadata": {
    "collapsed": false
   },
   "outputs": [
    {
     "data": {
      "text/plain": [
       "'\\nLearning List\\nproperties: ordered, iterable, mutable, can contain multiple data types\\n\\nwww.datagenx.net\\n'"
      ]
     },
     "execution_count": 1,
     "metadata": {},
     "output_type": "execute_result"
    }
   ],
   "source": [
    "\"\"\"\n",
    "Learning List\n",
    "properties: ordered, iterable, mutable, can contain multiple data types\n",
    "\n",
    "www.datagenx.net\n",
    "\"\"\""
   ]
  },
  {
   "cell_type": "code",
   "execution_count": 2,
   "metadata": {
    "collapsed": false
   },
   "outputs": [
    {
     "name": "stdout",
     "output_type": "stream",
     "text": [
      "Hello! Welcome to Python 5 tutorial Script\n",
      "Learning List\n"
     ]
    }
   ],
   "source": [
    "print ( \"Hello! Welcome to Python 5 tutorial Script\")\n",
    "print ( \"Learning List\")"
   ]
  },
  {
   "cell_type": "code",
   "execution_count": 3,
   "metadata": {
    "collapsed": false
   },
   "outputs": [
    {
     "name": "stdout",
     "output_type": "stream",
     "text": [
      "Creating list\n"
     ]
    }
   ],
   "source": [
    "print ( \"Creating list\")\n",
    "emp1 = list()\n",
    "emp2 = []"
   ]
  },
  {
   "cell_type": "code",
   "execution_count": 4,
   "metadata": {
    "collapsed": false
   },
   "outputs": [
    {
     "name": "stdout",
     "output_type": "stream",
     "text": [
      "Empty list: [] []\n"
     ]
    }
   ],
   "source": [
    "print ( \"Empty list:\",emp1,emp2)"
   ]
  },
  {
   "cell_type": "code",
   "execution_count": 5,
   "metadata": {
    "collapsed": false
   },
   "outputs": [
    {
     "name": "stdout",
     "output_type": "stream",
     "text": [
      "[2, 4, 5, 6, 3, 12, 45, 75, 32, ['a', 'b']]\n",
      "10\n"
     ]
    }
   ],
   "source": [
    "lis = [2,4,5,6,3,12,45,75,32,['a','b']]\n",
    "print ( lis)\n",
    "print ( len(lis))   #print ( the length of list"
   ]
  },
  {
   "cell_type": "code",
   "execution_count": 6,
   "metadata": {
    "collapsed": false
   },
   "outputs": [
    {
     "name": "stdout",
     "output_type": "stream",
     "text": [
      "\n",
      "list are mutable, mean you can change the value of any index\n",
      "We can replace the list element by assigning it to new value\n",
      "[2, 4, 5, 'atul', 3, 12, 45, 75, 32, ['a', 'b']]\n"
     ]
    }
   ],
   "source": [
    "print ( \"\\nlist are mutable, mean you can change the value of any index\")\n",
    "print ( \"We can replace the list element by assigning it to new value\")\n",
    "lis[3] = \"atul\"\n",
    "print ( lis)"
   ]
  },
  {
   "cell_type": "code",
   "execution_count": 7,
   "metadata": {
    "collapsed": false
   },
   "outputs": [
    {
     "name": "stdout",
     "output_type": "stream",
     "text": [
      "\n",
      "traversing through list\n",
      "2\n",
      "4\n",
      "5\n",
      "atul\n",
      "3\n",
      "12\n",
      "45\n",
      "75\n",
      "32\n",
      "['a', 'b']\n"
     ]
    }
   ],
   "source": [
    "print ( \"\\ntraversing through list\")\n",
    "for item in lis:\n",
    "\tprint ( item,)"
   ]
  },
  {
   "cell_type": "code",
   "execution_count": 8,
   "metadata": {
    "collapsed": false
   },
   "outputs": [
    {
     "name": "stdout",
     "output_type": "stream",
     "text": [
      "List opertation\n",
      "+ concat and * repeat\n",
      "[1, 3]\n",
      "[1, 3, 1, 3]\n",
      "[2, 4, 5, 'atul', 3, 12, 45, 75, 32, ['a', 'b'], 1, 3]\n"
     ]
    }
   ],
   "source": [
    "print ( \"List opertation\")\n",
    "print ( \"+ concat and * repeat\")\n",
    "\n",
    "lis2 = [1,3]\n",
    "print ( lis2)\n",
    "print ( lis2 * 2 )\n",
    "print ( lis + lis2 )"
   ]
  },
  {
   "cell_type": "code",
   "execution_count": 9,
   "metadata": {
    "collapsed": false
   },
   "outputs": [
    {
     "name": "stdout",
     "output_type": "stream",
     "text": [
      "List Slicing\n"
     ]
    }
   ],
   "source": [
    "print ( \"List Slicing\")"
   ]
  },
  {
   "cell_type": "code",
   "execution_count": 10,
   "metadata": {
    "collapsed": false
   },
   "outputs": [
    {
     "name": "stdout",
     "output_type": "stream",
     "text": [
      "[2, 4, 5, 'atul', 3, 12, 45, 75, 32, ['a', 'b']]\n",
      "[5, 'atul', 3, 12, 45, 75, 32, ['a', 'b']]\n",
      "atul\n"
     ]
    }
   ],
   "source": [
    "print ( lis[:])     # print ( whole lis\n",
    "print ( lis[2:])    # print ( from 2nd index to end \n",
    "print ( lis[3] )    # print ( index 3 value"
   ]
  },
  {
   "cell_type": "code",
   "execution_count": 11,
   "metadata": {
    "collapsed": false
   },
   "outputs": [
    {
     "name": "stdout",
     "output_type": "stream",
     "text": [
      "32\n",
      "[2, 4, 5, 'atul', 3, 12, 45, 75, 32, ['a', 'b']]\n",
      "[2, 5, 3, 45, 32]\n"
     ]
    }
   ],
   "source": [
    "print ( lis[-2])    # print ( 2nd last element\n",
    "print ( lis[::1] )  # list[start : end : stride]\n",
    "print ( lis[::2])   # print ( every 2nd element"
   ]
  },
  {
   "cell_type": "code",
   "execution_count": 12,
   "metadata": {
    "collapsed": false
   },
   "outputs": [
    {
     "name": "stdout",
     "output_type": "stream",
     "text": [
      "[['a', 'b'], 75, 12, 'atul', 4]\n",
      "[['a', 'b'], 32, 75, 45, 12, 3, 'atul', 5, 4, 2]\n",
      "[5, 'atul', 3, 12, 45, 75]\n",
      "[3, 'atul']\n"
     ]
    }
   ],
   "source": [
    "print ( lis[::-2])   # print ( every 2nd element but from back\n",
    "print ( lis[::-1] )  # print ( list in reverse\n",
    "print ( lis[2:-2])   # this will print ( from index2 till 2nd last elements\n",
    "print ( lis[4:2:-1]) # "
   ]
  },
  {
   "cell_type": "code",
   "execution_count": 13,
   "metadata": {
    "collapsed": false
   },
   "outputs": [
    {
     "name": "stdout",
     "output_type": "stream",
     "text": [
      "List Methods\n",
      "[2, 4, 5, 'atul', 3, 12, 45, 75, 32, ['a', 'b']]\n",
      "[1, 3]\n",
      "None\n",
      "[1, 3, 'append']\n"
     ]
    }
   ],
   "source": [
    "print ( \"List Methods\")\n",
    "# sort - sort the elements\n",
    "# len - give the total element\n",
    "# push, pop, del \n",
    "# append - append a new element\n",
    "# extent - append the new elements\n",
    "\n",
    "print ( lis )\n",
    "print ( lis2 )\n",
    "\n",
    "print ( lis2.append('append'))            #this will print ( None as method is return None\n",
    "print ( lis2)"
   ]
  },
  {
   "cell_type": "code",
   "execution_count": 14,
   "metadata": {
    "collapsed": false
   },
   "outputs": [
    {
     "name": "stdout",
     "output_type": "stream",
     "text": [
      "None\n",
      "[1, 3, 'append', 'extend', 'method']\n"
     ]
    }
   ],
   "source": [
    "print ( lis2.extend(['extend','method'])) #this will print None as method is return None\n",
    "print ( lis2)"
   ]
  },
  {
   "cell_type": "code",
   "execution_count": 15,
   "metadata": {
    "collapsed": false
   },
   "outputs": [
    {
     "name": "stdout",
     "output_type": "stream",
     "text": [
      "we can achieve the same with concatenation but It is SLOWER than extend methog\n",
      "[1, 3, 'append', 'extend', 'method', 'extend', 'method']\n",
      "None\n",
      "[1, 3, 'append', 'extend', 'method', 2, 4, 5, 'atul', 3, 12, 45, 75, 32, ['a', 'b']]\n"
     ]
    }
   ],
   "source": [
    "print ( \"we can achieve the same with concatenation but It is SLOWER than extend methog\")\n",
    "chk = lis2 + ['extend','method']\n",
    "\n",
    "print ( chk)\n",
    "print ( lis2.extend(lis))                 #this will print ( None as method is return None\n",
    "print ( lis2)"
   ]
  },
  {
   "cell_type": "code",
   "execution_count": 16,
   "metadata": {
    "collapsed": false
   },
   "outputs": [
    {
     "name": "stdout",
     "output_type": "stream",
     "text": [
      "Inserting any element at specific index\n",
      "[1, 3, 'Raj', 'append', 'extend', 'method', 2, 4, 5, 'atul', 3, 12, 45, 75, 32, ['a', 'b']]\n"
     ]
    }
   ],
   "source": [
    "print ( \"Inserting any element at specific index\")\n",
    "# inserting 'Raj' at index 2\n",
    "lis2.insert(2,'Raj')\n",
    "print ( lis2)"
   ]
  },
  {
   "cell_type": "code",
   "execution_count": 17,
   "metadata": {
    "collapsed": false
   },
   "outputs": [
    {
     "name": "stdout",
     "output_type": "stream",
     "text": [
      "Deleting the elements with pop\n",
      "[1, 3, 'Raj', 'append', 'extend', 'method', 2, 4, 5, 'atul', 3, 12, 45, 75, 32, ['a', 'b']]\n",
      "poped value is: ['a', 'b']\n",
      "[1, 3, 'Raj', 'append', 'extend', 'method', 2, 4, 5, 'atul', 3, 12, 45, 75, 32]\n",
      "poped value is: Raj\n",
      "[1, 3, 'append', 'extend', 'method', 2, 4, 5, 'atul', 3, 12, 45, 75, 32]\n"
     ]
    }
   ],
   "source": [
    "print ( \"Deleting the elements with pop\")\n",
    "print ( lis2)\n",
    "x = lis2.pop()   # this will remove the last one\n",
    "print ( \"poped value is:\",x)\n",
    "print ( lis2)\n",
    "x = lis2.pop(2)  # this will pop index 2 element\n",
    "print ( \"poped value is:\",x)\n",
    "print ( lis2)"
   ]
  },
  {
   "cell_type": "code",
   "execution_count": 18,
   "metadata": {
    "collapsed": false
   },
   "outputs": [
    {
     "name": "stdout",
     "output_type": "stream",
     "text": [
      "Deleting the elements with del\n",
      "[1, 3, 'append', 'method', 2, 4, 5, 3, 12, 45, 75, 32]\n",
      "[1, 3, 2, 4, 5, 3, 12, 45, 75, 32]\n"
     ]
    }
   ],
   "source": [
    "# with pop, we can get the removed value\n",
    "# if we dont need that we can use del method\n",
    "print ( \"Deleting the elements with del\")\n",
    "del lis2[3]\n",
    "del lis2[7]\n",
    "print ( lis2 )\n",
    "# with del we can remove list slice\n",
    "del lis2[2:4]\n",
    "print ( lis2)"
   ]
  },
  {
   "cell_type": "code",
   "execution_count": 19,
   "metadata": {
    "collapsed": false
   },
   "outputs": [
    {
     "name": "stdout",
     "output_type": "stream",
     "text": [
      "Deleting the elements with remove\n",
      "[1, 3, 2, 4, 5, 3, 12, 75, 32]\n"
     ]
    }
   ],
   "source": [
    "# if you dont know the index but value\n",
    "print ( \"Deleting the elements with remove\")\n",
    "lis2.remove(45)\n",
    "print ( lis2 )"
   ]
  },
  {
   "cell_type": "code",
   "execution_count": 20,
   "metadata": {
    "collapsed": false
   },
   "outputs": [
    {
     "name": "stdout",
     "output_type": "stream",
     "text": [
      "Sorting the list\n",
      "[1, 2, 3, 3, 4, 5, 12, 32, 75]\n",
      "[75, 32, 12, 5, 4, 3, 3, 2, 1]\n",
      "[1, 2, 3, 3, 4, 5, 12, 32, 75]\n"
     ]
    }
   ],
   "source": [
    "print ( \"Sorting the list\")\n",
    "lis2.sort()\n",
    "print ( lis2 )\n",
    "lis2.sort(reverse=True)\n",
    "print ( lis2 )\n",
    "lis2.reverse()  #another method to reverse the list\n",
    "print ( lis2 )\n",
    "#lis2.sort(key=len)\n",
    "#print ( lis2"
   ]
  },
  {
   "cell_type": "code",
   "execution_count": 21,
   "metadata": {
    "collapsed": false
   },
   "outputs": [
    {
     "name": "stdout",
     "output_type": "stream",
     "text": [
      "\n",
      "Total element\n",
      "9\n",
      "Max: 75\n",
      "Min: 1\n"
     ]
    }
   ],
   "source": [
    "print ( \"\\nTotal element\" )\n",
    "print ( len(lis2) )\n",
    "print ( \"Max:\", max(lis2) )\n",
    "print ( \"Min:\", min(lis2) )"
   ]
  },
  {
   "cell_type": "code",
   "execution_count": 22,
   "metadata": {
    "collapsed": false
   },
   "outputs": [
    {
     "name": "stdout",
     "output_type": "stream",
     "text": [
      "Searching 3 in list\n",
      "2\n",
      "2\n"
     ]
    }
   ],
   "source": [
    "# Search element in list \n",
    "print ( \"Searching 3 in list\")\n",
    "print ( lis2.index(3))   # this will give you the index of first instance\n",
    "print ( lis2.count(3))    # this will count the total occurance"
   ]
  },
  {
   "cell_type": "code",
   "execution_count": 23,
   "metadata": {
    "collapsed": false
   },
   "outputs": [
    {
     "name": "stdout",
     "output_type": "stream",
     "text": [
      "str =  Python is awesome\n",
      "str2 =  Atul\n"
     ]
    }
   ],
   "source": [
    "# List and String\n",
    "str1 = 'Python is awesome'\n",
    "str2 = 'Atul'\n",
    "print ( \"str = \",str1)\n",
    "print ( \"str2 = \",str2)"
   ]
  },
  {
   "cell_type": "code",
   "execution_count": 24,
   "metadata": {
    "collapsed": false
   },
   "outputs": [
    {
     "name": "stdout",
     "output_type": "stream",
     "text": [
      "Converting string to list\n",
      "['P', 'y', 't', 'h', 'o', 'n', ' ', 'i', 's', ' ', 'a', 'w', 'e', 's', 'o', 'm', 'e'] \n",
      " ['A', 't', 'u', 'l']\n"
     ]
    }
   ],
   "source": [
    "print ( \"Converting string to list\")\n",
    "lstr2 = list(str2)\n",
    "lstr = list(str1)\n",
    "print (lstr,\"\\n\",lstr2)"
   ]
  },
  {
   "cell_type": "code",
   "execution_count": 26,
   "metadata": {
    "collapsed": false
   },
   "outputs": [
    {
     "name": "stdout",
     "output_type": "stream",
     "text": [
      "breaking the sentence into word\n",
      "['Python', 'is', 'awesome']\n",
      "\n",
      "Joining with - Python-is-awesome\n"
     ]
    }
   ],
   "source": [
    "print ( \"breaking the sentence into word\")\n",
    "lstr3 = str1.split()  # by default splitted by ' ' , can define the delimiter as split(del)\n",
    "print ( lstr3 )\n",
    "# join is the inverse of split\n",
    "str3 = '-'.join(lstr3)\n",
    "print ( \"\\nJoining with -\",str3 )"
   ]
  },
  {
   "cell_type": "code",
   "execution_count": 27,
   "metadata": {
    "collapsed": false
   },
   "outputs": [
    {
     "name": "stdout",
     "output_type": "stream",
     "text": [
      "Object Aliasing or creating reference\n",
      "[1, 2, 3] [1, 2, 3]\n",
      "True\n",
      "False\n"
     ]
    }
   ],
   "source": [
    "# Aliasing\n",
    "# When vars referencing the same object are called as aliased\n",
    "print ( \"Object Aliasing or creating reference\")\n",
    "var1 = [1,2,3]\n",
    "var2 = var1         #var2 is referencing var1\n",
    "var3 = [1,2,3]      #var3 and var2 or var1 is identical but not aliased\n",
    "print ( var1, var2)\n",
    "print ( var2 is var1)\n",
    "print ( var3 is var1)"
   ]
  },
  {
   "cell_type": "code",
   "execution_count": 28,
   "metadata": {
    "collapsed": false
   },
   "outputs": [
    {
     "name": "stdout",
     "output_type": "stream",
     "text": [
      "True\n",
      "True\n"
     ]
    }
   ],
   "source": [
    "# identical check\n",
    "print ( var1 == var2 )\n",
    "print ( var1 == var3 )"
   ]
  },
  {
   "cell_type": "code",
   "execution_count": 29,
   "metadata": {
    "collapsed": false
   },
   "outputs": [
    {
     "name": "stdout",
     "output_type": "stream",
     "text": [
      "60667144\n",
      "60667144\n",
      "61192136\n"
     ]
    }
   ],
   "source": [
    "# by id function, you can check the object id, if id are same that means aliased\n",
    "print ( id(var1) )\n",
    "print ( id(var2) )\n",
    "print ( id(var3) )"
   ]
  },
  {
   "cell_type": "code",
   "execution_count": 30,
   "metadata": {
    "collapsed": false
   },
   "outputs": [
    {
     "name": "stdout",
     "output_type": "stream",
     "text": [
      "['One', 2, 3] ['One', 2, 3]\n",
      "True\n",
      "['One', 'Two', 3] ['One', 'Two', 3]\n",
      "True\n",
      "['NoOne', 2, 3] ['One', 'Two', 3]\n",
      "False\n"
     ]
    }
   ],
   "source": [
    "# when object is aliased If we change anyone's value it will affect the others also\n",
    "var2[0] = 'One'        #It will modify the both var1, var2  as both are aliased\n",
    "print ( var2, var1 )\n",
    "print ( var2 is var1 )     # True\n",
    "var1[1] = 'Two'        #It will modify the both var1, var2  as both are aliased\n",
    "print ( var2, var1 )\n",
    "print ( var1 is var2 )     # True\n",
    "var3[0] = 'NoOne'      #var3 is identical of var1, not aliased, so it will not affect var1\n",
    "print ( var3, var1 )\n",
    "print ( var3 is var1 )     #False"
   ]
  },
  {
   "cell_type": "code",
   "execution_count": 31,
   "metadata": {
    "collapsed": false
   },
   "outputs": [
    {
     "name": "stdout",
     "output_type": "stream",
     "text": [
      "[4, 25, 1, 81, 64, 16, 49]\n"
     ]
    }
   ],
   "source": [
    "# List comprehensions\n",
    "# better way to create conditional list\n",
    "lis_no = [2,5,1,9,8,4,7]\n",
    "lis2 = [x**2 for x in lis_no]  \n",
    "print ( lis2 ) #print ( no*no "
   ]
  },
  {
   "cell_type": "code",
   "execution_count": 32,
   "metadata": {
    "collapsed": false
   },
   "outputs": [
    {
     "name": "stdout",
     "output_type": "stream",
     "text": [
      "[4, 64, 16]\n"
     ]
    }
   ],
   "source": [
    "lis2 = [x**2 for x in lis_no if x%2==0]\n",
    "print ( lis2 ) #print ( no*no if no is even"
   ]
  },
  {
   "cell_type": "code",
   "execution_count": 33,
   "metadata": {
    "collapsed": true
   },
   "outputs": [],
   "source": [
    "# Atul Singh\n",
    "# www.datagenx.net"
   ]
  },
  {
   "cell_type": "code",
   "execution_count": null,
   "metadata": {
    "collapsed": true
   },
   "outputs": [],
   "source": []
  }
 ],
 "metadata": {
  "kernelspec": {
   "display_name": "Python 3",
   "language": "python",
   "name": "python3"
  },
  "language_info": {
   "codemirror_mode": {
    "name": "ipython",
    "version": 3
   },
   "file_extension": ".py",
   "mimetype": "text/x-python",
   "name": "python",
   "nbconvert_exporter": "python",
   "pygments_lexer": "ipython3",
   "version": "3.5.2"
  }
 },
 "nbformat": 4,
 "nbformat_minor": 0
}
